{
  "nbformat": 4,
  "nbformat_minor": 0,
  "metadata": {
    "colab": {
      "name": "hw02_Williams_Geiger.ipynb",
      "provenance": []
    },
    "kernelspec": {
      "name": "python3",
      "display_name": "Python 3"
    },
    "language_info": {
      "name": "python"
    }
  },
  "cells": [
    {
      "cell_type": "markdown",
      "source": [
        "# Homework 2: Classification \n",
        "\n",
        "### Kobie Williams and Nyles Geiger \n",
        "\n",
        "##### 4/17/2022 "
      ],
      "metadata": {
        "id": "x6Td-WlJTp8P"
      }
    },
    {
      "cell_type": "code",
      "execution_count": 153,
      "metadata": {
        "id": "VlcZp-sjQ06A"
      },
      "outputs": [],
      "source": [
        "import numpy as np\n",
        "import matplotlib.pyplot as plt\n",
        "import pandas as pd\n",
        "from sklearn.model_selection import train_test_split\n",
        "from sklearn.neighbors import KNeighborsClassifier\n",
        "from sklearn.metrics import accuracy_score\n",
        "from sklearn.metrics import confusion_matrix\n",
        "from sklearn.metrics import classification_report\n",
        "from sklearn.naive_bayes import GaussianNB\n"
      ]
    },
    {
      "cell_type": "code",
      "source": [
        "df = pd.read_csv('https://drive.google.com/uc?export=download&id=1oQMcpoR3QC7w_sWIbtyid2N2j0o49_pk') \n",
        "df.head(5) "
      ],
      "metadata": {
        "colab": {
          "base_uri": "https://localhost:8080/",
          "height": 270
        },
        "id": "650wyTu9UMfD",
        "outputId": "3f701908-786d-4ff4-a5e4-5eb21a4f4c7b"
      },
      "execution_count": 154,
      "outputs": [
        {
          "output_type": "execute_result",
          "data": {
            "text/plain": [
              "        id  age   income  children  gender      region married  car  \\\n",
              "0  ID12101   48  17546.0         1  FEMALE  INNER_CITY      NO   NO   \n",
              "1  ID12102   40  30085.1         3    MALE        TOWN     YES  YES   \n",
              "2  ID12103   51  16575.4         0  FEMALE  INNER_CITY     YES  YES   \n",
              "3  ID12104   23  20375.4         3  FEMALE        TOWN     YES   NO   \n",
              "4  ID12105   57  50576.3         0  FEMALE       RURAL     YES   NO   \n",
              "\n",
              "  savings_acct current_acct mortgage  pep  \n",
              "0           NO           NO       NO  YES  \n",
              "1           NO          YES      YES   NO  \n",
              "2          YES          YES       NO   NO  \n",
              "3           NO          YES       NO   NO  \n",
              "4          YES           NO       NO   NO  "
            ],
            "text/html": [
              "\n",
              "  <div id=\"df-95dbf965-9e0d-415f-9892-4be35445865d\">\n",
              "    <div class=\"colab-df-container\">\n",
              "      <div>\n",
              "<style scoped>\n",
              "    .dataframe tbody tr th:only-of-type {\n",
              "        vertical-align: middle;\n",
              "    }\n",
              "\n",
              "    .dataframe tbody tr th {\n",
              "        vertical-align: top;\n",
              "    }\n",
              "\n",
              "    .dataframe thead th {\n",
              "        text-align: right;\n",
              "    }\n",
              "</style>\n",
              "<table border=\"1\" class=\"dataframe\">\n",
              "  <thead>\n",
              "    <tr style=\"text-align: right;\">\n",
              "      <th></th>\n",
              "      <th>id</th>\n",
              "      <th>age</th>\n",
              "      <th>income</th>\n",
              "      <th>children</th>\n",
              "      <th>gender</th>\n",
              "      <th>region</th>\n",
              "      <th>married</th>\n",
              "      <th>car</th>\n",
              "      <th>savings_acct</th>\n",
              "      <th>current_acct</th>\n",
              "      <th>mortgage</th>\n",
              "      <th>pep</th>\n",
              "    </tr>\n",
              "  </thead>\n",
              "  <tbody>\n",
              "    <tr>\n",
              "      <th>0</th>\n",
              "      <td>ID12101</td>\n",
              "      <td>48</td>\n",
              "      <td>17546.0</td>\n",
              "      <td>1</td>\n",
              "      <td>FEMALE</td>\n",
              "      <td>INNER_CITY</td>\n",
              "      <td>NO</td>\n",
              "      <td>NO</td>\n",
              "      <td>NO</td>\n",
              "      <td>NO</td>\n",
              "      <td>NO</td>\n",
              "      <td>YES</td>\n",
              "    </tr>\n",
              "    <tr>\n",
              "      <th>1</th>\n",
              "      <td>ID12102</td>\n",
              "      <td>40</td>\n",
              "      <td>30085.1</td>\n",
              "      <td>3</td>\n",
              "      <td>MALE</td>\n",
              "      <td>TOWN</td>\n",
              "      <td>YES</td>\n",
              "      <td>YES</td>\n",
              "      <td>NO</td>\n",
              "      <td>YES</td>\n",
              "      <td>YES</td>\n",
              "      <td>NO</td>\n",
              "    </tr>\n",
              "    <tr>\n",
              "      <th>2</th>\n",
              "      <td>ID12103</td>\n",
              "      <td>51</td>\n",
              "      <td>16575.4</td>\n",
              "      <td>0</td>\n",
              "      <td>FEMALE</td>\n",
              "      <td>INNER_CITY</td>\n",
              "      <td>YES</td>\n",
              "      <td>YES</td>\n",
              "      <td>YES</td>\n",
              "      <td>YES</td>\n",
              "      <td>NO</td>\n",
              "      <td>NO</td>\n",
              "    </tr>\n",
              "    <tr>\n",
              "      <th>3</th>\n",
              "      <td>ID12104</td>\n",
              "      <td>23</td>\n",
              "      <td>20375.4</td>\n",
              "      <td>3</td>\n",
              "      <td>FEMALE</td>\n",
              "      <td>TOWN</td>\n",
              "      <td>YES</td>\n",
              "      <td>NO</td>\n",
              "      <td>NO</td>\n",
              "      <td>YES</td>\n",
              "      <td>NO</td>\n",
              "      <td>NO</td>\n",
              "    </tr>\n",
              "    <tr>\n",
              "      <th>4</th>\n",
              "      <td>ID12105</td>\n",
              "      <td>57</td>\n",
              "      <td>50576.3</td>\n",
              "      <td>0</td>\n",
              "      <td>FEMALE</td>\n",
              "      <td>RURAL</td>\n",
              "      <td>YES</td>\n",
              "      <td>NO</td>\n",
              "      <td>YES</td>\n",
              "      <td>NO</td>\n",
              "      <td>NO</td>\n",
              "      <td>NO</td>\n",
              "    </tr>\n",
              "  </tbody>\n",
              "</table>\n",
              "</div>\n",
              "      <button class=\"colab-df-convert\" onclick=\"convertToInteractive('df-95dbf965-9e0d-415f-9892-4be35445865d')\"\n",
              "              title=\"Convert this dataframe to an interactive table.\"\n",
              "              style=\"display:none;\">\n",
              "        \n",
              "  <svg xmlns=\"http://www.w3.org/2000/svg\" height=\"24px\"viewBox=\"0 0 24 24\"\n",
              "       width=\"24px\">\n",
              "    <path d=\"M0 0h24v24H0V0z\" fill=\"none\"/>\n",
              "    <path d=\"M18.56 5.44l.94 2.06.94-2.06 2.06-.94-2.06-.94-.94-2.06-.94 2.06-2.06.94zm-11 1L8.5 8.5l.94-2.06 2.06-.94-2.06-.94L8.5 2.5l-.94 2.06-2.06.94zm10 10l.94 2.06.94-2.06 2.06-.94-2.06-.94-.94-2.06-.94 2.06-2.06.94z\"/><path d=\"M17.41 7.96l-1.37-1.37c-.4-.4-.92-.59-1.43-.59-.52 0-1.04.2-1.43.59L10.3 9.45l-7.72 7.72c-.78.78-.78 2.05 0 2.83L4 21.41c.39.39.9.59 1.41.59.51 0 1.02-.2 1.41-.59l7.78-7.78 2.81-2.81c.8-.78.8-2.07 0-2.86zM5.41 20L4 18.59l7.72-7.72 1.47 1.35L5.41 20z\"/>\n",
              "  </svg>\n",
              "      </button>\n",
              "      \n",
              "  <style>\n",
              "    .colab-df-container {\n",
              "      display:flex;\n",
              "      flex-wrap:wrap;\n",
              "      gap: 12px;\n",
              "    }\n",
              "\n",
              "    .colab-df-convert {\n",
              "      background-color: #E8F0FE;\n",
              "      border: none;\n",
              "      border-radius: 50%;\n",
              "      cursor: pointer;\n",
              "      display: none;\n",
              "      fill: #1967D2;\n",
              "      height: 32px;\n",
              "      padding: 0 0 0 0;\n",
              "      width: 32px;\n",
              "    }\n",
              "\n",
              "    .colab-df-convert:hover {\n",
              "      background-color: #E2EBFA;\n",
              "      box-shadow: 0px 1px 2px rgba(60, 64, 67, 0.3), 0px 1px 3px 1px rgba(60, 64, 67, 0.15);\n",
              "      fill: #174EA6;\n",
              "    }\n",
              "\n",
              "    [theme=dark] .colab-df-convert {\n",
              "      background-color: #3B4455;\n",
              "      fill: #D2E3FC;\n",
              "    }\n",
              "\n",
              "    [theme=dark] .colab-df-convert:hover {\n",
              "      background-color: #434B5C;\n",
              "      box-shadow: 0px 1px 3px 1px rgba(0, 0, 0, 0.15);\n",
              "      filter: drop-shadow(0px 1px 2px rgba(0, 0, 0, 0.3));\n",
              "      fill: #FFFFFF;\n",
              "    }\n",
              "  </style>\n",
              "\n",
              "      <script>\n",
              "        const buttonEl =\n",
              "          document.querySelector('#df-95dbf965-9e0d-415f-9892-4be35445865d button.colab-df-convert');\n",
              "        buttonEl.style.display =\n",
              "          google.colab.kernel.accessAllowed ? 'block' : 'none';\n",
              "\n",
              "        async function convertToInteractive(key) {\n",
              "          const element = document.querySelector('#df-95dbf965-9e0d-415f-9892-4be35445865d');\n",
              "          const dataTable =\n",
              "            await google.colab.kernel.invokeFunction('convertToInteractive',\n",
              "                                                     [key], {});\n",
              "          if (!dataTable) return;\n",
              "\n",
              "          const docLinkHtml = 'Like what you see? Visit the ' +\n",
              "            '<a target=\"_blank\" href=https://colab.research.google.com/notebooks/data_table.ipynb>data table notebook</a>'\n",
              "            + ' to learn more about interactive tables.';\n",
              "          element.innerHTML = '';\n",
              "          dataTable['output_type'] = 'display_data';\n",
              "          await google.colab.output.renderOutput(dataTable, element);\n",
              "          const docLink = document.createElement('div');\n",
              "          docLink.innerHTML = docLinkHtml;\n",
              "          element.appendChild(docLink);\n",
              "        }\n",
              "      </script>\n",
              "    </div>\n",
              "  </div>\n",
              "  "
            ]
          },
          "metadata": {},
          "execution_count": 154
        }
      ]
    },
    {
      "cell_type": "code",
      "source": [
        "from sklearn.preprocessing import normalize "
      ],
      "metadata": {
        "id": "EE8PDOtxQhsn"
      },
      "execution_count": 155,
      "outputs": []
    },
    {
      "cell_type": "code",
      "source": [
        "#2a: \n",
        "from sklearn import preprocessing\n",
        "#data \n",
        "X= df[['age', 'income', 'children', 'gender', 'region', 'married', 'car',\n",
        "       'savings_acct', 'current_acct', 'mortgage']] \n",
        "\n",
        "#converting data into numeric format \n",
        "X = pd.get_dummies(X) \n",
        "#normalize the data \n",
        "Xnorm = preprocessing.normalize(X, norm='l2')\n",
        "\n",
        "#target variable \n",
        "y = df['pep']\n"
      ],
      "metadata": {
        "id": "pKY7mPpJlv_8"
      },
      "execution_count": 156,
      "outputs": []
    },
    {
      "cell_type": "code",
      "source": [
        "#Splitting data into training and test sets \n",
        "Xtrain, Xtest, ytrain, ytest = train_test_split(Xnorm, y, test_size=0.2, random_state=0) "
      ],
      "metadata": {
        "id": "x1aC2L0-nCOS"
      },
      "execution_count": 157,
      "outputs": []
    },
    {
      "cell_type": "code",
      "source": [
        "#2b: \n",
        "testNorm = preprocessing.normalize(Xtest,norm='l1')"
      ],
      "metadata": {
        "id": "8Qt3T-raSSWp"
      },
      "execution_count": 158,
      "outputs": []
    },
    {
      "cell_type": "code",
      "source": [
        "#KNN model and classifier \n",
        "model = KNeighborsClassifier(n_neighbors=2, metric='euclidean')\n",
        "model.fit(Xtrain, ytrain)"
      ],
      "metadata": {
        "colab": {
          "base_uri": "https://localhost:8080/"
        },
        "id": "9kF--PgwTRMw",
        "outputId": "bbc51652-7ef7-4fc8-86d9-543435580fb6"
      },
      "execution_count": 159,
      "outputs": [
        {
          "output_type": "execute_result",
          "data": {
            "text/plain": [
              "KNeighborsClassifier(metric='euclidean', n_neighbors=2)"
            ]
          },
          "metadata": {},
          "execution_count": 159
        }
      ]
    },
    {
      "cell_type": "code",
      "source": [
        "ypred = model.predict(Xtest)\n",
        "ypred"
      ],
      "metadata": {
        "colab": {
          "base_uri": "https://localhost:8080/"
        },
        "id": "KaYiNirdTTpw",
        "outputId": "365df7a3-fc74-4a7d-f75c-bc786f10ef94"
      },
      "execution_count": 160,
      "outputs": [
        {
          "output_type": "execute_result",
          "data": {
            "text/plain": [
              "array(['YES', 'YES', 'YES', 'NO', 'YES', 'NO', 'NO', 'YES', 'NO', 'YES',\n",
              "       'NO', 'NO', 'NO', 'NO', 'YES', 'YES', 'NO', 'NO', 'YES', 'NO',\n",
              "       'NO', 'NO', 'NO', 'YES', 'NO', 'NO', 'NO', 'NO', 'NO', 'NO', 'NO',\n",
              "       'NO', 'YES', 'NO', 'NO', 'YES', 'NO', 'NO', 'NO', 'NO', 'NO', 'NO',\n",
              "       'NO', 'YES', 'NO', 'NO', 'NO', 'NO', 'YES', 'NO', 'NO', 'YES',\n",
              "       'NO', 'NO', 'YES', 'NO', 'NO', 'YES', 'YES', 'NO', 'YES', 'YES',\n",
              "       'YES', 'NO', 'NO', 'NO', 'NO', 'NO', 'NO', 'NO', 'NO', 'YES', 'NO',\n",
              "       'NO', 'NO', 'NO', 'YES', 'NO', 'YES', 'YES', 'NO', 'NO', 'NO',\n",
              "       'NO', 'YES', 'NO', 'NO', 'NO', 'NO', 'NO', 'YES', 'NO', 'NO', 'NO',\n",
              "       'YES', 'YES', 'NO', 'NO', 'NO', 'YES', 'YES', 'YES', 'YES', 'NO',\n",
              "       'NO', 'NO', 'NO', 'NO', 'YES', 'NO', 'NO', 'NO', 'NO', 'NO', 'NO',\n",
              "       'YES', 'NO', 'NO', 'NO', 'NO'], dtype=object)"
            ]
          },
          "metadata": {},
          "execution_count": 160
        }
      ]
    },
    {
      "cell_type": "code",
      "source": [
        "#confusion matrix \n",
        "cm = confusion_matrix(ytest,ypred) \n",
        "\n",
        "#Creating a list of the labels from the classes \n",
        "label_list = model.classes_ \n",
        "\n",
        "#plot the confusion matrix \n",
        "plt.matshow(cm, cmap='BuPu') \n",
        "plt.colorbar() \n",
        "plt.grid(False) \n",
        "plt.ylabel('True label') \n",
        "plt.xlabel('Predicted label') \n",
        "plt.xticks(np.arange(len(label_list)), label_list)\n",
        "plt.yticks(np.arange(len(label_list)), label_list) \n",
        "plt.title('Confusion Matrix', pad=15) \n",
        "plt.show()"
      ],
      "metadata": {
        "id": "H6JBtAEkU4UR",
        "colab": {
          "base_uri": "https://localhost:8080/",
          "height": 266
        },
        "outputId": "d41a8520-9109-41bf-8e6d-f458a12b0f00"
      },
      "execution_count": 161,
      "outputs": [
        {
          "output_type": "display_data",
          "data": {
            "text/plain": [
              "<Figure size 288x288 with 2 Axes>"
            ],
            "image/png": "[encoded data removed]"
          },
          "metadata": {
            "needs_background": "light"
          }
        }
      ]
    },
    {
      "cell_type": "code",
      "source": [
        "#Classification Report \n",
        "print(\"Classification Report: \")\n",
        "print(classification_report(ytest, ypred))"
      ],
      "metadata": {
        "colab": {
          "base_uri": "https://localhost:8080/"
        },
        "id": "XqHbCod6f9xO",
        "outputId": "861347b3-12b5-4d08-d8af-07dad874c488"
      },
      "execution_count": 162,
      "outputs": [
        {
          "output_type": "stream",
          "name": "stdout",
          "text": [
            "Classification Report: \n",
            "              precision    recall  f1-score   support\n",
            "\n",
            "          NO       0.59      0.82      0.68        61\n",
            "         YES       0.69      0.41      0.51        59\n",
            "\n",
            "    accuracy                           0.62       120\n",
            "   macro avg       0.64      0.61      0.60       120\n",
            "weighted avg       0.64      0.62      0.60       120\n",
            "\n"
          ]
        }
      ]
    },
    {
      "cell_type": "code",
      "source": [
        "#We can do an experimentation of the different values with a grid search \n",
        "from sklearn.model_selection import GridSearchCV\n",
        "param_grid = {'n_neighbors': np.arange(1, 28),\n",
        "              'metric': ['euclidean', 'manhattan'],\n",
        "              'weights': ['uniform', 'distance']}\n",
        "grid = GridSearchCV(model, param_grid, cv=5, verbose=1) \n",
        "grid.fit(Xtrain, ytrain) \n",
        "print('Best parameters found: ') \n",
        "print(grid.best_params_) \n"
      ],
      "metadata": {
        "colab": {
          "base_uri": "https://localhost:8080/"
        },
        "id": "acwa5pqYlZ07",
        "outputId": "858a31aa-cf0d-47e3-b11b-509fe06efa53"
      },
      "execution_count": 163,
      "outputs": [
        {
          "output_type": "stream",
          "name": "stdout",
          "text": [
            "Fitting 5 folds for each of 108 candidates, totalling 540 fits\n",
            "Best parameters found: \n",
            "{'metric': 'manhattan', 'n_neighbors': 17, 'weights': 'distance'}\n"
          ]
        }
      ]
    },
    {
      "cell_type": "code",
      "source": [
        "bestModel = KNeighborsClassifier(n_neighbors=17, metric='manhattan') "
      ],
      "metadata": {
        "id": "CmPYABCynVy4"
      },
      "execution_count": 164,
      "outputs": []
    },
    {
      "cell_type": "code",
      "source": [
        "bestModel.fit(Xtrain, ytrain) "
      ],
      "metadata": {
        "colab": {
          "base_uri": "https://localhost:8080/"
        },
        "id": "E5LuGXQOnvXk",
        "outputId": "529bf325-8a95-445c-af2a-f2faa4b338dd"
      },
      "execution_count": 165,
      "outputs": [
        {
          "output_type": "execute_result",
          "data": {
            "text/plain": [
              "KNeighborsClassifier(metric='manhattan', n_neighbors=17)"
            ]
          },
          "metadata": {},
          "execution_count": 165
        }
      ]
    },
    {
      "cell_type": "code",
      "source": [
        "best_ypred = bestModel.predict(Xtest)"
      ],
      "metadata": {
        "id": "b8bQtTyhoE81"
      },
      "execution_count": 166,
      "outputs": []
    },
    {
      "cell_type": "code",
      "source": [
        "#confusion matrix \n",
        "best_cm = confusion_matrix(ytest,best_ypred) \n",
        "\n",
        "#Creating a list of the labels from the classes \n",
        "label_list = bestModel.classes_ \n",
        "\n",
        "#plot the confusion matrix \n",
        "plt.matshow(best_cm, cmap='BuPu') \n",
        "plt.colorbar() \n",
        "plt.grid(False) \n",
        "plt.ylabel('True label') \n",
        "plt.xlabel('Predicted label') \n",
        "plt.xticks(np.arange(len(label_list)), label_list)\n",
        "plt.yticks(np.arange(len(label_list)), label_list) \n",
        "plt.title('Confusion Matrix', pad=15) \n",
        "plt.show()"
      ],
      "metadata": {
        "colab": {
          "base_uri": "https://localhost:8080/",
          "height": 272
        },
        "id": "WrYjTS-KoXpQ",
        "outputId": "bcbfbdc9-02f8-48e6-9992-0010da8a9988"
      },
      "execution_count": 167,
      "outputs": [
        {
          "output_type": "display_data",
          "data": {
            "text/plain": [
              "<Figure size 288x288 with 2 Axes>"
            ],
            "image/png": "[encoded data removed]"
          },
          "metadata": {
            "needs_background": "light"
          }
        }
      ]
    },
    {
      "cell_type": "code",
      "source": [
        "#Classification Report \n",
        "print(\"Classification Report: \")\n",
        "print(classification_report(ytest, best_ypred))"
      ],
      "metadata": {
        "colab": {
          "base_uri": "https://localhost:8080/"
        },
        "id": "g38GEol-oh79",
        "outputId": "955eb329-6c45-4d58-f031-36a545754291"
      },
      "execution_count": 168,
      "outputs": [
        {
          "output_type": "stream",
          "name": "stdout",
          "text": [
            "Classification Report: \n",
            "              precision    recall  f1-score   support\n",
            "\n",
            "          NO       0.65      0.67      0.66        61\n",
            "         YES       0.65      0.63      0.64        59\n",
            "\n",
            "    accuracy                           0.65       120\n",
            "   macro avg       0.65      0.65      0.65       120\n",
            "weighted avg       0.65      0.65      0.65       120\n",
            "\n"
          ]
        }
      ]
    },
    {
      "cell_type": "code",
      "source": [
        "from sklearn.tree import DecisionTreeClassifier "
      ],
      "metadata": {
        "id": "b_ZoKyssoqKb"
      },
      "execution_count": 169,
      "outputs": []
    },
    {
      "cell_type": "code",
      "source": [
        "#2c: \n",
        "tree = DecisionTreeClassifier() "
      ],
      "metadata": {
        "id": "g4zKnTfypyQ-"
      },
      "execution_count": 170,
      "outputs": []
    },
    {
      "cell_type": "code",
      "source": [
        "#Fit a model with the training data \n",
        "tree = tree.fit(Xtrain, ytrain)\n",
        "\n",
        "treepred = tree.predict(Xtest) "
      ],
      "metadata": {
        "id": "KwQlsBUlp7N3"
      },
      "execution_count": 171,
      "outputs": []
    },
    {
      "cell_type": "code",
      "source": [
        "#confusion matrix for the tree \n",
        "tree_cm = confusion_matrix(ytest, ypred) \n",
        "\n",
        "tree_label_list = tree.classes_\n",
        "plt.matshow(tree_cm, cmap='BuPu')\n",
        "plt.colorbar()\n",
        "plt.grid(False)\n",
        "plt.ylabel('True Label')\n",
        "plt.xlabel('Predicted Label')\n",
        "plt.xticks(np.arange(len(tree_label_list)), tree_label_list)\n",
        "plt.yticks(np.arange(len(tree_label_list)), tree_label_list)\n",
        "plt.title('Confusion Matrix', pad=15) "
      ],
      "metadata": {
        "colab": {
          "base_uri": "https://localhost:8080/",
          "height": 284
        },
        "id": "OSFNhAdiqY0a",
        "outputId": "63a8a70c-ddb0-402b-984e-e81ccfed18d0"
      },
      "execution_count": 172,
      "outputs": [
        {
          "output_type": "execute_result",
          "data": {
            "text/plain": [
              "Text(0.5, 1.05, 'Confusion Matrix')"
            ]
          },
          "metadata": {},
          "execution_count": 172
        },
        {
          "output_type": "display_data",
          "data": {
            "text/plain": [
              "<Figure size 288x288 with 2 Axes>"
            ],
            "image/png": "[encoded data removed]"
          },
          "metadata": {
            "needs_background": "light"
          }
        }
      ]
    },
    {
      "cell_type": "markdown",
      "source": [
        "###3\n"
      ],
      "metadata": {
        "id": "NceeuToLk9xu"
      }
    },
    {
      "cell_type": "code",
      "source": [
        "census_df = pd.read_csv('https://drive.google.com/uc?export=download&id=1_1ca-CLXqcXmaJpGYJjE1xVc8hoPIiQm')"
      ],
      "metadata": {
        "id": "ke7zqwM9qu45"
      },
      "execution_count": 173,
      "outputs": []
    },
    {
      "cell_type": "code",
      "source": [
        "census_df.head(1)"
      ],
      "metadata": {
        "colab": {
          "base_uri": "https://localhost:8080/",
          "height": 142
        },
        "id": "ysQYAzXpQ3MQ",
        "outputId": "05aafc1e-d2ce-4ec8-c9ee-4f7da0bab0ed"
      },
      "execution_count": 174,
      "outputs": [
        {
          "output_type": "execute_result",
          "data": {
            "text/plain": [
              "  age workclass  education marital-status   race   sex  hours-per-week income\n",
              "0  39    Public         13         Single  White  Male              40  <=50K"
            ],
            "text/html": [
              "\n",
              "  <div id=\"df-4d4928e5-e46e-462c-8490-6a415955751c\">\n",
              "    <div class=\"colab-df-container\">\n",
              "      <div>\n",
              "<style scoped>\n",
              "    .dataframe tbody tr th:only-of-type {\n",
              "        vertical-align: middle;\n",
              "    }\n",
              "\n",
              "    .dataframe tbody tr th {\n",
              "        vertical-align: top;\n",
              "    }\n",
              "\n",
              "    .dataframe thead th {\n",
              "        text-align: right;\n",
              "    }\n",
              "</style>\n",
              "<table border=\"1\" class=\"dataframe\">\n",
              "  <thead>\n",
              "    <tr style=\"text-align: right;\">\n",
              "      <th></th>\n",
              "      <th>age</th>\n",
              "      <th>workclass</th>\n",
              "      <th>education</th>\n",
              "      <th>marital-status</th>\n",
              "      <th>race</th>\n",
              "      <th>sex</th>\n",
              "      <th>hours-per-week</th>\n",
              "      <th>income</th>\n",
              "    </tr>\n",
              "  </thead>\n",
              "  <tbody>\n",
              "    <tr>\n",
              "      <th>0</th>\n",
              "      <td>39</td>\n",
              "      <td>Public</td>\n",
              "      <td>13</td>\n",
              "      <td>Single</td>\n",
              "      <td>White</td>\n",
              "      <td>Male</td>\n",
              "      <td>40</td>\n",
              "      <td>&lt;=50K</td>\n",
              "    </tr>\n",
              "  </tbody>\n",
              "</table>\n",
              "</div>\n",
              "      <button class=\"colab-df-convert\" onclick=\"convertToInteractive('df-4d4928e5-e46e-462c-8490-6a415955751c')\"\n",
              "              title=\"Convert this dataframe to an interactive table.\"\n",
              "              style=\"display:none;\">\n",
              "        \n",
              "  <svg xmlns=\"http://www.w3.org/2000/svg\" height=\"24px\"viewBox=\"0 0 24 24\"\n",
              "       width=\"24px\">\n",
              "    <path d=\"M0 0h24v24H0V0z\" fill=\"none\"/>\n",
              "    <path d=\"M18.56 5.44l.94 2.06.94-2.06 2.06-.94-2.06-.94-.94-2.06-.94 2.06-2.06.94zm-11 1L8.5 8.5l.94-2.06 2.06-.94-2.06-.94L8.5 2.5l-.94 2.06-2.06.94zm10 10l.94 2.06.94-2.06 2.06-.94-2.06-.94-.94-2.06-.94 2.06-2.06.94z\"/><path d=\"M17.41 7.96l-1.37-1.37c-.4-.4-.92-.59-1.43-.59-.52 0-1.04.2-1.43.59L10.3 9.45l-7.72 7.72c-.78.78-.78 2.05 0 2.83L4 21.41c.39.39.9.59 1.41.59.51 0 1.02-.2 1.41-.59l7.78-7.78 2.81-2.81c.8-.78.8-2.07 0-2.86zM5.41 20L4 18.59l7.72-7.72 1.47 1.35L5.41 20z\"/>\n",
              "  </svg>\n",
              "      </button>\n",
              "      \n",
              "  <style>\n",
              "    .colab-df-container {\n",
              "      display:flex;\n",
              "      flex-wrap:wrap;\n",
              "      gap: 12px;\n",
              "    }\n",
              "\n",
              "    .colab-df-convert {\n",
              "      background-color: #E8F0FE;\n",
              "      border: none;\n",
              "      border-radius: 50%;\n",
              "      cursor: pointer;\n",
              "      display: none;\n",
              "      fill: #1967D2;\n",
              "      height: 32px;\n",
              "      padding: 0 0 0 0;\n",
              "      width: 32px;\n",
              "    }\n",
              "\n",
              "    .colab-df-convert:hover {\n",
              "      background-color: #E2EBFA;\n",
              "      box-shadow: 0px 1px 2px rgba(60, 64, 67, 0.3), 0px 1px 3px 1px rgba(60, 64, 67, 0.15);\n",
              "      fill: #174EA6;\n",
              "    }\n",
              "\n",
              "    [theme=dark] .colab-df-convert {\n",
              "      background-color: #3B4455;\n",
              "      fill: #D2E3FC;\n",
              "    }\n",
              "\n",
              "    [theme=dark] .colab-df-convert:hover {\n",
              "      background-color: #434B5C;\n",
              "      box-shadow: 0px 1px 3px 1px rgba(0, 0, 0, 0.15);\n",
              "      filter: drop-shadow(0px 1px 2px rgba(0, 0, 0, 0.3));\n",
              "      fill: #FFFFFF;\n",
              "    }\n",
              "  </style>\n",
              "\n",
              "      <script>\n",
              "        const buttonEl =\n",
              "          document.querySelector('#df-4d4928e5-e46e-462c-8490-6a415955751c button.colab-df-convert');\n",
              "        buttonEl.style.display =\n",
              "          google.colab.kernel.accessAllowed ? 'block' : 'none';\n",
              "\n",
              "        async function convertToInteractive(key) {\n",
              "          const element = document.querySelector('#df-4d4928e5-e46e-462c-8490-6a415955751c');\n",
              "          const dataTable =\n",
              "            await google.colab.kernel.invokeFunction('convertToInteractive',\n",
              "                                                     [key], {});\n",
              "          if (!dataTable) return;\n",
              "\n",
              "          const docLinkHtml = 'Like what you see? Visit the ' +\n",
              "            '<a target=\"_blank\" href=https://colab.research.google.com/notebooks/data_table.ipynb>data table notebook</a>'\n",
              "            + ' to learn more about interactive tables.';\n",
              "          element.innerHTML = '';\n",
              "          dataTable['output_type'] = 'display_data';\n",
              "          await google.colab.output.renderOutput(dataTable, element);\n",
              "          const docLink = document.createElement('div');\n",
              "          docLink.innerHTML = docLinkHtml;\n",
              "          element.appendChild(docLink);\n",
              "        }\n",
              "      </script>\n",
              "    </div>\n",
              "  </div>\n",
              "  "
            ]
          },
          "metadata": {},
          "execution_count": 174
        }
      ]
    },
    {
      "cell_type": "code",
      "source": [
        "census_df.shape"
      ],
      "metadata": {
        "colab": {
          "base_uri": "https://localhost:8080/"
        },
        "id": "KKiD10qJcwUZ",
        "outputId": "33109c77-23d2-47e0-d8d6-0a0b92b3c831"
      },
      "execution_count": 175,
      "outputs": [
        {
          "output_type": "execute_result",
          "data": {
            "text/plain": [
              "(10000, 8)"
            ]
          },
          "metadata": {},
          "execution_count": 175
        }
      ]
    },
    {
      "cell_type": "code",
      "source": [
        "age = census_df['age'] \n",
        "\n",
        "#Create a mask to identify rows that need a mask \n",
        "clean_age = age.str.contains('[^\\?]') \n",
        "\n",
        "#Calculate the mean age \n",
        "mAge = age[clean_age].astype(int).mean() \n",
        "\n",
        "#Turning the age column back into itself with the cleaned data \n",
        "age[~clean_age] = mAge "
      ],
      "metadata": {
        "colab": {
          "base_uri": "https://localhost:8080/"
        },
        "id": "mLWfd0LWQ5q8",
        "outputId": "274d244c-dd6f-43d1-9e58-8198d15e36f7"
      },
      "execution_count": 176,
      "outputs": [
        {
          "output_type": "stream",
          "name": "stderr",
          "text": [
            "/usr/local/lib/python3.7/dist-packages/ipykernel_launcher.py:10: SettingWithCopyWarning: \n",
            "A value is trying to be set on a copy of a slice from a DataFrame\n",
            "\n",
            "See the caveats in the documentation: https://pandas.pydata.org/pandas-docs/stable/user_guide/indexing.html#returning-a-view-versus-a-copy\n",
            "  # Remove the CWD from sys.path while we load stuff.\n"
          ]
        }
      ]
    },
    {
      "cell_type": "code",
      "source": [
        "work = census_df['workclass'] \n",
        "\n",
        "#Apply the mask \n",
        "clean_work = work.str.contains('[^\\?]') \n",
        "census_df = census_df[clean_work]  "
      ],
      "metadata": {
        "id": "QRUDp3lQmXFj"
      },
      "execution_count": 177,
      "outputs": []
    },
    {
      "cell_type": "code",
      "source": [
        "#3aii. \n",
        "census_df.describe(include='all')"
      ],
      "metadata": {
        "colab": {
          "base_uri": "https://localhost:8080/",
          "height": 455
        },
        "id": "S3bPt_7AjKJr",
        "outputId": "3a339ba1-1fcd-4246-8bd2-5bd0acd97f21"
      },
      "execution_count": 178,
      "outputs": [
        {
          "output_type": "execute_result",
          "data": {
            "text/plain": [
              "         age workclass    education marital-status   race   sex  \\\n",
              "count   9412      9412  9412.000000           9412   9412  9412   \n",
              "unique    72         3          NaN              2      5     2   \n",
              "top       31   Private          NaN        Married  White  Male   \n",
              "freq     278      6947          NaN           4737   8062  6383   \n",
              "mean     NaN       NaN    10.125266            NaN    NaN   NaN   \n",
              "std      NaN       NaN     2.542118            NaN    NaN   NaN   \n",
              "min      NaN       NaN     1.000000            NaN    NaN   NaN   \n",
              "25%      NaN       NaN     9.000000            NaN    NaN   NaN   \n",
              "50%      NaN       NaN    10.000000            NaN    NaN   NaN   \n",
              "75%      NaN       NaN    13.000000            NaN    NaN   NaN   \n",
              "max      NaN       NaN    16.000000            NaN    NaN   NaN   \n",
              "\n",
              "        hours-per-week income  \n",
              "count      9412.000000   9412  \n",
              "unique             NaN      2  \n",
              "top                NaN  <=50K  \n",
              "freq               NaN   7093  \n",
              "mean         41.080217    NaN  \n",
              "std          11.884590    NaN  \n",
              "min           1.000000    NaN  \n",
              "25%          40.000000    NaN  \n",
              "50%          40.000000    NaN  \n",
              "75%          45.000000    NaN  \n",
              "max          99.000000    NaN  "
            ],
            "text/html": [
              "\n",
              "  <div id=\"df-b5d2ce1d-7209-4dd8-8e9d-a91fbd010c79\">\n",
              "    <div class=\"colab-df-container\">\n",
              "      <div>\n",
              "<style scoped>\n",
              "    .dataframe tbody tr th:only-of-type {\n",
              "        vertical-align: middle;\n",
              "    }\n",
              "\n",
              "    .dataframe tbody tr th {\n",
              "        vertical-align: top;\n",
              "    }\n",
              "\n",
              "    .dataframe thead th {\n",
              "        text-align: right;\n",
              "    }\n",
              "</style>\n",
              "<table border=\"1\" class=\"dataframe\">\n",
              "  <thead>\n",
              "    <tr style=\"text-align: right;\">\n",
              "      <th></th>\n",
              "      <th>age</th>\n",
              "      <th>workclass</th>\n",
              "      <th>education</th>\n",
              "      <th>marital-status</th>\n",
              "      <th>race</th>\n",
              "      <th>sex</th>\n",
              "      <th>hours-per-week</th>\n",
              "      <th>income</th>\n",
              "    </tr>\n",
              "  </thead>\n",
              "  <tbody>\n",
              "    <tr>\n",
              "      <th>count</th>\n",
              "      <td>9412</td>\n",
              "      <td>9412</td>\n",
              "      <td>9412.000000</td>\n",
              "      <td>9412</td>\n",
              "      <td>9412</td>\n",
              "      <td>9412</td>\n",
              "      <td>9412.000000</td>\n",
              "      <td>9412</td>\n",
              "    </tr>\n",
              "    <tr>\n",
              "      <th>unique</th>\n",
              "      <td>72</td>\n",
              "      <td>3</td>\n",
              "      <td>NaN</td>\n",
              "      <td>2</td>\n",
              "      <td>5</td>\n",
              "      <td>2</td>\n",
              "      <td>NaN</td>\n",
              "      <td>2</td>\n",
              "    </tr>\n",
              "    <tr>\n",
              "      <th>top</th>\n",
              "      <td>31</td>\n",
              "      <td>Private</td>\n",
              "      <td>NaN</td>\n",
              "      <td>Married</td>\n",
              "      <td>White</td>\n",
              "      <td>Male</td>\n",
              "      <td>NaN</td>\n",
              "      <td>&lt;=50K</td>\n",
              "    </tr>\n",
              "    <tr>\n",
              "      <th>freq</th>\n",
              "      <td>278</td>\n",
              "      <td>6947</td>\n",
              "      <td>NaN</td>\n",
              "      <td>4737</td>\n",
              "      <td>8062</td>\n",
              "      <td>6383</td>\n",
              "      <td>NaN</td>\n",
              "      <td>7093</td>\n",
              "    </tr>\n",
              "    <tr>\n",
              "      <th>mean</th>\n",
              "      <td>NaN</td>\n",
              "      <td>NaN</td>\n",
              "      <td>10.125266</td>\n",
              "      <td>NaN</td>\n",
              "      <td>NaN</td>\n",
              "      <td>NaN</td>\n",
              "      <td>41.080217</td>\n",
              "      <td>NaN</td>\n",
              "    </tr>\n",
              "    <tr>\n",
              "      <th>std</th>\n",
              "      <td>NaN</td>\n",
              "      <td>NaN</td>\n",
              "      <td>2.542118</td>\n",
              "      <td>NaN</td>\n",
              "      <td>NaN</td>\n",
              "      <td>NaN</td>\n",
              "      <td>11.884590</td>\n",
              "      <td>NaN</td>\n",
              "    </tr>\n",
              "    <tr>\n",
              "      <th>min</th>\n",
              "      <td>NaN</td>\n",
              "      <td>NaN</td>\n",
              "      <td>1.000000</td>\n",
              "      <td>NaN</td>\n",
              "      <td>NaN</td>\n",
              "      <td>NaN</td>\n",
              "      <td>1.000000</td>\n",
              "      <td>NaN</td>\n",
              "    </tr>\n",
              "    <tr>\n",
              "      <th>25%</th>\n",
              "      <td>NaN</td>\n",
              "      <td>NaN</td>\n",
              "      <td>9.000000</td>\n",
              "      <td>NaN</td>\n",
              "      <td>NaN</td>\n",
              "      <td>NaN</td>\n",
              "      <td>40.000000</td>\n",
              "      <td>NaN</td>\n",
              "    </tr>\n",
              "    <tr>\n",
              "      <th>50%</th>\n",
              "      <td>NaN</td>\n",
              "      <td>NaN</td>\n",
              "      <td>10.000000</td>\n",
              "      <td>NaN</td>\n",
              "      <td>NaN</td>\n",
              "      <td>NaN</td>\n",
              "      <td>40.000000</td>\n",
              "      <td>NaN</td>\n",
              "    </tr>\n",
              "    <tr>\n",
              "      <th>75%</th>\n",
              "      <td>NaN</td>\n",
              "      <td>NaN</td>\n",
              "      <td>13.000000</td>\n",
              "      <td>NaN</td>\n",
              "      <td>NaN</td>\n",
              "      <td>NaN</td>\n",
              "      <td>45.000000</td>\n",
              "      <td>NaN</td>\n",
              "    </tr>\n",
              "    <tr>\n",
              "      <th>max</th>\n",
              "      <td>NaN</td>\n",
              "      <td>NaN</td>\n",
              "      <td>16.000000</td>\n",
              "      <td>NaN</td>\n",
              "      <td>NaN</td>\n",
              "      <td>NaN</td>\n",
              "      <td>99.000000</td>\n",
              "      <td>NaN</td>\n",
              "    </tr>\n",
              "  </tbody>\n",
              "</table>\n",
              "</div>\n",
              "      <button class=\"colab-df-convert\" onclick=\"convertToInteractive('df-b5d2ce1d-7209-4dd8-8e9d-a91fbd010c79')\"\n",
              "              title=\"Convert this dataframe to an interactive table.\"\n",
              "              style=\"display:none;\">\n",
              "        \n",
              "  <svg xmlns=\"http://www.w3.org/2000/svg\" height=\"24px\"viewBox=\"0 0 24 24\"\n",
              "       width=\"24px\">\n",
              "    <path d=\"M0 0h24v24H0V0z\" fill=\"none\"/>\n",
              "    <path d=\"M18.56 5.44l.94 2.06.94-2.06 2.06-.94-2.06-.94-.94-2.06-.94 2.06-2.06.94zm-11 1L8.5 8.5l.94-2.06 2.06-.94-2.06-.94L8.5 2.5l-.94 2.06-2.06.94zm10 10l.94 2.06.94-2.06 2.06-.94-2.06-.94-.94-2.06-.94 2.06-2.06.94z\"/><path d=\"M17.41 7.96l-1.37-1.37c-.4-.4-.92-.59-1.43-.59-.52 0-1.04.2-1.43.59L10.3 9.45l-7.72 7.72c-.78.78-.78 2.05 0 2.83L4 21.41c.39.39.9.59 1.41.59.51 0 1.02-.2 1.41-.59l7.78-7.78 2.81-2.81c.8-.78.8-2.07 0-2.86zM5.41 20L4 18.59l7.72-7.72 1.47 1.35L5.41 20z\"/>\n",
              "  </svg>\n",
              "      </button>\n",
              "      \n",
              "  <style>\n",
              "    .colab-df-container {\n",
              "      display:flex;\n",
              "      flex-wrap:wrap;\n",
              "      gap: 12px;\n",
              "    }\n",
              "\n",
              "    .colab-df-convert {\n",
              "      background-color: #E8F0FE;\n",
              "      border: none;\n",
              "      border-radius: 50%;\n",
              "      cursor: pointer;\n",
              "      display: none;\n",
              "      fill: #1967D2;\n",
              "      height: 32px;\n",
              "      padding: 0 0 0 0;\n",
              "      width: 32px;\n",
              "    }\n",
              "\n",
              "    .colab-df-convert:hover {\n",
              "      background-color: #E2EBFA;\n",
              "      box-shadow: 0px 1px 2px rgba(60, 64, 67, 0.3), 0px 1px 3px 1px rgba(60, 64, 67, 0.15);\n",
              "      fill: #174EA6;\n",
              "    }\n",
              "\n",
              "    [theme=dark] .colab-df-convert {\n",
              "      background-color: #3B4455;\n",
              "      fill: #D2E3FC;\n",
              "    }\n",
              "\n",
              "    [theme=dark] .colab-df-convert:hover {\n",
              "      background-color: #434B5C;\n",
              "      box-shadow: 0px 1px 3px 1px rgba(0, 0, 0, 0.15);\n",
              "      filter: drop-shadow(0px 1px 2px rgba(0, 0, 0, 0.3));\n",
              "      fill: #FFFFFF;\n",
              "    }\n",
              "  </style>\n",
              "\n",
              "      <script>\n",
              "        const buttonEl =\n",
              "          document.querySelector('#df-b5d2ce1d-7209-4dd8-8e9d-a91fbd010c79 button.colab-df-convert');\n",
              "        buttonEl.style.display =\n",
              "          google.colab.kernel.accessAllowed ? 'block' : 'none';\n",
              "\n",
              "        async function convertToInteractive(key) {\n",
              "          const element = document.querySelector('#df-b5d2ce1d-7209-4dd8-8e9d-a91fbd010c79');\n",
              "          const dataTable =\n",
              "            await google.colab.kernel.invokeFunction('convertToInteractive',\n",
              "                                                     [key], {});\n",
              "          if (!dataTable) return;\n",
              "\n",
              "          const docLinkHtml = 'Like what you see? Visit the ' +\n",
              "            '<a target=\"_blank\" href=https://colab.research.google.com/notebooks/data_table.ipynb>data table notebook</a>'\n",
              "            + ' to learn more about interactive tables.';\n",
              "          element.innerHTML = '';\n",
              "          dataTable['output_type'] = 'display_data';\n",
              "          await google.colab.output.renderOutput(dataTable, element);\n",
              "          const docLink = document.createElement('div');\n",
              "          docLink.innerHTML = docLinkHtml;\n",
              "          element.appendChild(docLink);\n",
              "        }\n",
              "      </script>\n",
              "    </div>\n",
              "  </div>\n",
              "  "
            ]
          },
          "metadata": {},
          "execution_count": 178
        }
      ]
    },
    {
      "cell_type": "markdown",
      "source": [
        "3aii: Histograms for Numeric values"
      ],
      "metadata": {
        "id": "gWwcePdkovA5"
      }
    },
    {
      "cell_type": "code",
      "source": [
        "census_df.head(1)"
      ],
      "metadata": {
        "colab": {
          "base_uri": "https://localhost:8080/",
          "height": 142
        },
        "id": "ELYT1z_dpeUh",
        "outputId": "1166bb5c-ef26-4768-84b9-e33b3d63225b"
      },
      "execution_count": 179,
      "outputs": [
        {
          "output_type": "execute_result",
          "data": {
            "text/plain": [
              "  age workclass  education marital-status   race   sex  hours-per-week income\n",
              "0  39    Public         13         Single  White  Male              40  <=50K"
            ],
            "text/html": [
              "\n",
              "  <div id=\"df-bfadf093-9035-4ab1-aaa8-db9a0c79d7d9\">\n",
              "    <div class=\"colab-df-container\">\n",
              "      <div>\n",
              "<style scoped>\n",
              "    .dataframe tbody tr th:only-of-type {\n",
              "        vertical-align: middle;\n",
              "    }\n",
              "\n",
              "    .dataframe tbody tr th {\n",
              "        vertical-align: top;\n",
              "    }\n",
              "\n",
              "    .dataframe thead th {\n",
              "        text-align: right;\n",
              "    }\n",
              "</style>\n",
              "<table border=\"1\" class=\"dataframe\">\n",
              "  <thead>\n",
              "    <tr style=\"text-align: right;\">\n",
              "      <th></th>\n",
              "      <th>age</th>\n",
              "      <th>workclass</th>\n",
              "      <th>education</th>\n",
              "      <th>marital-status</th>\n",
              "      <th>race</th>\n",
              "      <th>sex</th>\n",
              "      <th>hours-per-week</th>\n",
              "      <th>income</th>\n",
              "    </tr>\n",
              "  </thead>\n",
              "  <tbody>\n",
              "    <tr>\n",
              "      <th>0</th>\n",
              "      <td>39</td>\n",
              "      <td>Public</td>\n",
              "      <td>13</td>\n",
              "      <td>Single</td>\n",
              "      <td>White</td>\n",
              "      <td>Male</td>\n",
              "      <td>40</td>\n",
              "      <td>&lt;=50K</td>\n",
              "    </tr>\n",
              "  </tbody>\n",
              "</table>\n",
              "</div>\n",
              "      <button class=\"colab-df-convert\" onclick=\"convertToInteractive('df-bfadf093-9035-4ab1-aaa8-db9a0c79d7d9')\"\n",
              "              title=\"Convert this dataframe to an interactive table.\"\n",
              "              style=\"display:none;\">\n",
              "        \n",
              "  <svg xmlns=\"http://www.w3.org/2000/svg\" height=\"24px\"viewBox=\"0 0 24 24\"\n",
              "       width=\"24px\">\n",
              "    <path d=\"M0 0h24v24H0V0z\" fill=\"none\"/>\n",
              "    <path d=\"M18.56 5.44l.94 2.06.94-2.06 2.06-.94-2.06-.94-.94-2.06-.94 2.06-2.06.94zm-11 1L8.5 8.5l.94-2.06 2.06-.94-2.06-.94L8.5 2.5l-.94 2.06-2.06.94zm10 10l.94 2.06.94-2.06 2.06-.94-2.06-.94-.94-2.06-.94 2.06-2.06.94z\"/><path d=\"M17.41 7.96l-1.37-1.37c-.4-.4-.92-.59-1.43-.59-.52 0-1.04.2-1.43.59L10.3 9.45l-7.72 7.72c-.78.78-.78 2.05 0 2.83L4 21.41c.39.39.9.59 1.41.59.51 0 1.02-.2 1.41-.59l7.78-7.78 2.81-2.81c.8-.78.8-2.07 0-2.86zM5.41 20L4 18.59l7.72-7.72 1.47 1.35L5.41 20z\"/>\n",
              "  </svg>\n",
              "      </button>\n",
              "      \n",
              "  <style>\n",
              "    .colab-df-container {\n",
              "      display:flex;\n",
              "      flex-wrap:wrap;\n",
              "      gap: 12px;\n",
              "    }\n",
              "\n",
              "    .colab-df-convert {\n",
              "      background-color: #E8F0FE;\n",
              "      border: none;\n",
              "      border-radius: 50%;\n",
              "      cursor: pointer;\n",
              "      display: none;\n",
              "      fill: #1967D2;\n",
              "      height: 32px;\n",
              "      padding: 0 0 0 0;\n",
              "      width: 32px;\n",
              "    }\n",
              "\n",
              "    .colab-df-convert:hover {\n",
              "      background-color: #E2EBFA;\n",
              "      box-shadow: 0px 1px 2px rgba(60, 64, 67, 0.3), 0px 1px 3px 1px rgba(60, 64, 67, 0.15);\n",
              "      fill: #174EA6;\n",
              "    }\n",
              "\n",
              "    [theme=dark] .colab-df-convert {\n",
              "      background-color: #3B4455;\n",
              "      fill: #D2E3FC;\n",
              "    }\n",
              "\n",
              "    [theme=dark] .colab-df-convert:hover {\n",
              "      background-color: #434B5C;\n",
              "      box-shadow: 0px 1px 3px 1px rgba(0, 0, 0, 0.15);\n",
              "      filter: drop-shadow(0px 1px 2px rgba(0, 0, 0, 0.3));\n",
              "      fill: #FFFFFF;\n",
              "    }\n",
              "  </style>\n",
              "\n",
              "      <script>\n",
              "        const buttonEl =\n",
              "          document.querySelector('#df-bfadf093-9035-4ab1-aaa8-db9a0c79d7d9 button.colab-df-convert');\n",
              "        buttonEl.style.display =\n",
              "          google.colab.kernel.accessAllowed ? 'block' : 'none';\n",
              "\n",
              "        async function convertToInteractive(key) {\n",
              "          const element = document.querySelector('#df-bfadf093-9035-4ab1-aaa8-db9a0c79d7d9');\n",
              "          const dataTable =\n",
              "            await google.colab.kernel.invokeFunction('convertToInteractive',\n",
              "                                                     [key], {});\n",
              "          if (!dataTable) return;\n",
              "\n",
              "          const docLinkHtml = 'Like what you see? Visit the ' +\n",
              "            '<a target=\"_blank\" href=https://colab.research.google.com/notebooks/data_table.ipynb>data table notebook</a>'\n",
              "            + ' to learn more about interactive tables.';\n",
              "          element.innerHTML = '';\n",
              "          dataTable['output_type'] = 'display_data';\n",
              "          await google.colab.output.renderOutput(dataTable, element);\n",
              "          const docLink = document.createElement('div');\n",
              "          docLink.innerHTML = docLinkHtml;\n",
              "          element.appendChild(docLink);\n",
              "        }\n",
              "      </script>\n",
              "    </div>\n",
              "  </div>\n",
              "  "
            ]
          },
          "metadata": {},
          "execution_count": 179
        }
      ]
    },
    {
      "cell_type": "code",
      "source": [
        "\n",
        "plt.hist(census_df['age'].astype(int))\n",
        "plt.xlabel('age') \n",
        "plt.ylabel('count')\n",
        "plt.title('Age Histogram') \n",
        "plt.show()"
      ],
      "metadata": {
        "colab": {
          "base_uri": "https://localhost:8080/",
          "height": 295
        },
        "id": "x5O9OQBNW7qw",
        "outputId": "41728842-5985-4b49-80ca-784dfbcb7ab2"
      },
      "execution_count": 180,
      "outputs": [
        {
          "output_type": "display_data",
          "data": {
            "text/plain": [
              "<Figure size 432x288 with 1 Axes>"
            ],
            "image/png": "[encoded data removed]"
          },
          "metadata": {
            "needs_background": "light"
          }
        }
      ]
    },
    {
      "cell_type": "code",
      "source": [
        "plt.hist(census_df['education'].astype(int))\n",
        "plt.xlabel('Number of education years') \n",
        "plt.ylabel('count')\n",
        "plt.title('Education Histogram') \n",
        "plt.show() "
      ],
      "metadata": {
        "colab": {
          "base_uri": "https://localhost:8080/",
          "height": 295
        },
        "id": "hN_LNT0NXA-D",
        "outputId": "2188a53d-f806-407f-8136-c908b322e732"
      },
      "execution_count": 181,
      "outputs": [
        {
          "output_type": "display_data",
          "data": {
            "text/plain": [
              "<Figure size 432x288 with 1 Axes>"
            ],
            "image/png": "[encoded data removed]"
          },
          "metadata": {
            "needs_background": "light"
          }
        }
      ]
    },
    {
      "cell_type": "code",
      "source": [
        "plt.hist(census_df['hours-per-week'].astype(int))\n",
        "plt.xlabel('hours worked per week') \n",
        "plt.ylabel('count')\n",
        "plt.title('Hours-per-week Histogram') \n",
        "plt.show()"
      ],
      "metadata": {
        "colab": {
          "base_uri": "https://localhost:8080/",
          "height": 295
        },
        "id": "0XRBPxtVpoQl",
        "outputId": "a912bfa6-ff83-4fb5-e900-79eb1e6bf43d"
      },
      "execution_count": 182,
      "outputs": [
        {
          "output_type": "display_data",
          "data": {
            "text/plain": [
              "<Figure size 432x288 with 1 Axes>"
            ],
            "image/png": "[encoded data removed]"
          },
          "metadata": {
            "needs_background": "light"
          }
        }
      ]
    },
    {
      "cell_type": "markdown",
      "source": [
        "3aii: Bar graphs for categorical attributes "
      ],
      "metadata": {
        "id": "Ki1Cz78bqswm"
      }
    },
    {
      "cell_type": "code",
      "source": [
        "census_df.head(1)"
      ],
      "metadata": {
        "colab": {
          "base_uri": "https://localhost:8080/",
          "height": 142
        },
        "id": "ZMExDpPtp97i",
        "outputId": "6854e2db-24b9-4385-b234-4ca2cdf6aadc"
      },
      "execution_count": 183,
      "outputs": [
        {
          "output_type": "execute_result",
          "data": {
            "text/plain": [
              "  age workclass  education marital-status   race   sex  hours-per-week income\n",
              "0  39    Public         13         Single  White  Male              40  <=50K"
            ],
            "text/html": [
              "\n",
              "  <div id=\"df-b8268380-011e-4edc-9973-1178f89b6c19\">\n",
              "    <div class=\"colab-df-container\">\n",
              "      <div>\n",
              "<style scoped>\n",
              "    .dataframe tbody tr th:only-of-type {\n",
              "        vertical-align: middle;\n",
              "    }\n",
              "\n",
              "    .dataframe tbody tr th {\n",
              "        vertical-align: top;\n",
              "    }\n",
              "\n",
              "    .dataframe thead th {\n",
              "        text-align: right;\n",
              "    }\n",
              "</style>\n",
              "<table border=\"1\" class=\"dataframe\">\n",
              "  <thead>\n",
              "    <tr style=\"text-align: right;\">\n",
              "      <th></th>\n",
              "      <th>age</th>\n",
              "      <th>workclass</th>\n",
              "      <th>education</th>\n",
              "      <th>marital-status</th>\n",
              "      <th>race</th>\n",
              "      <th>sex</th>\n",
              "      <th>hours-per-week</th>\n",
              "      <th>income</th>\n",
              "    </tr>\n",
              "  </thead>\n",
              "  <tbody>\n",
              "    <tr>\n",
              "      <th>0</th>\n",
              "      <td>39</td>\n",
              "      <td>Public</td>\n",
              "      <td>13</td>\n",
              "      <td>Single</td>\n",
              "      <td>White</td>\n",
              "      <td>Male</td>\n",
              "      <td>40</td>\n",
              "      <td>&lt;=50K</td>\n",
              "    </tr>\n",
              "  </tbody>\n",
              "</table>\n",
              "</div>\n",
              "      <button class=\"colab-df-convert\" onclick=\"convertToInteractive('df-b8268380-011e-4edc-9973-1178f89b6c19')\"\n",
              "              title=\"Convert this dataframe to an interactive table.\"\n",
              "              style=\"display:none;\">\n",
              "        \n",
              "  <svg xmlns=\"http://www.w3.org/2000/svg\" height=\"24px\"viewBox=\"0 0 24 24\"\n",
              "       width=\"24px\">\n",
              "    <path d=\"M0 0h24v24H0V0z\" fill=\"none\"/>\n",
              "    <path d=\"M18.56 5.44l.94 2.06.94-2.06 2.06-.94-2.06-.94-.94-2.06-.94 2.06-2.06.94zm-11 1L8.5 8.5l.94-2.06 2.06-.94-2.06-.94L8.5 2.5l-.94 2.06-2.06.94zm10 10l.94 2.06.94-2.06 2.06-.94-2.06-.94-.94-2.06-.94 2.06-2.06.94z\"/><path d=\"M17.41 7.96l-1.37-1.37c-.4-.4-.92-.59-1.43-.59-.52 0-1.04.2-1.43.59L10.3 9.45l-7.72 7.72c-.78.78-.78 2.05 0 2.83L4 21.41c.39.39.9.59 1.41.59.51 0 1.02-.2 1.41-.59l7.78-7.78 2.81-2.81c.8-.78.8-2.07 0-2.86zM5.41 20L4 18.59l7.72-7.72 1.47 1.35L5.41 20z\"/>\n",
              "  </svg>\n",
              "      </button>\n",
              "      \n",
              "  <style>\n",
              "    .colab-df-container {\n",
              "      display:flex;\n",
              "      flex-wrap:wrap;\n",
              "      gap: 12px;\n",
              "    }\n",
              "\n",
              "    .colab-df-convert {\n",
              "      background-color: #E8F0FE;\n",
              "      border: none;\n",
              "      border-radius: 50%;\n",
              "      cursor: pointer;\n",
              "      display: none;\n",
              "      fill: #1967D2;\n",
              "      height: 32px;\n",
              "      padding: 0 0 0 0;\n",
              "      width: 32px;\n",
              "    }\n",
              "\n",
              "    .colab-df-convert:hover {\n",
              "      background-color: #E2EBFA;\n",
              "      box-shadow: 0px 1px 2px rgba(60, 64, 67, 0.3), 0px 1px 3px 1px rgba(60, 64, 67, 0.15);\n",
              "      fill: #174EA6;\n",
              "    }\n",
              "\n",
              "    [theme=dark] .colab-df-convert {\n",
              "      background-color: #3B4455;\n",
              "      fill: #D2E3FC;\n",
              "    }\n",
              "\n",
              "    [theme=dark] .colab-df-convert:hover {\n",
              "      background-color: #434B5C;\n",
              "      box-shadow: 0px 1px 3px 1px rgba(0, 0, 0, 0.15);\n",
              "      filter: drop-shadow(0px 1px 2px rgba(0, 0, 0, 0.3));\n",
              "      fill: #FFFFFF;\n",
              "    }\n",
              "  </style>\n",
              "\n",
              "      <script>\n",
              "        const buttonEl =\n",
              "          document.querySelector('#df-b8268380-011e-4edc-9973-1178f89b6c19 button.colab-df-convert');\n",
              "        buttonEl.style.display =\n",
              "          google.colab.kernel.accessAllowed ? 'block' : 'none';\n",
              "\n",
              "        async function convertToInteractive(key) {\n",
              "          const element = document.querySelector('#df-b8268380-011e-4edc-9973-1178f89b6c19');\n",
              "          const dataTable =\n",
              "            await google.colab.kernel.invokeFunction('convertToInteractive',\n",
              "                                                     [key], {});\n",
              "          if (!dataTable) return;\n",
              "\n",
              "          const docLinkHtml = 'Like what you see? Visit the ' +\n",
              "            '<a target=\"_blank\" href=https://colab.research.google.com/notebooks/data_table.ipynb>data table notebook</a>'\n",
              "            + ' to learn more about interactive tables.';\n",
              "          element.innerHTML = '';\n",
              "          dataTable['output_type'] = 'display_data';\n",
              "          await google.colab.output.renderOutput(dataTable, element);\n",
              "          const docLink = document.createElement('div');\n",
              "          docLink.innerHTML = docLinkHtml;\n",
              "          element.appendChild(docLink);\n",
              "        }\n",
              "      </script>\n",
              "    </div>\n",
              "  </div>\n",
              "  "
            ]
          },
          "metadata": {},
          "execution_count": 183
        }
      ]
    },
    {
      "cell_type": "code",
      "source": [
        "census_df['workclass'].value_counts().plot(kind='bar') \n",
        "plt.title('Workclass value counts')\n",
        "plt.show()"
      ],
      "metadata": {
        "colab": {
          "base_uri": "https://localhost:8080/",
          "height": 315
        },
        "id": "E2msEJqJq6xk",
        "outputId": "956ace34-3a42-4cbd-dede-c3ef9856c3aa"
      },
      "execution_count": 184,
      "outputs": [
        {
          "output_type": "display_data",
          "data": {
            "text/plain": [
              "<Figure size 432x288 with 1 Axes>"
            ],
            "image/png": "[encoded data removed]"
          },
          "metadata": {
            "needs_background": "light"
          }
        }
      ]
    },
    {
      "cell_type": "code",
      "source": [
        "census_df['marital-status'].value_counts().plot(kind='bar') \n",
        "plt.title('Marital status value counts')\n",
        "plt.show()"
      ],
      "metadata": {
        "colab": {
          "base_uri": "https://localhost:8080/",
          "height": 310
        },
        "id": "cp8aKq3WrDhe",
        "outputId": "5de219e2-961a-4478-e9cf-bb742b8311bb"
      },
      "execution_count": 185,
      "outputs": [
        {
          "output_type": "display_data",
          "data": {
            "text/plain": [
              "<Figure size 432x288 with 1 Axes>"
            ],
            "image/png": "[encoded data removed]"
          },
          "metadata": {
            "needs_background": "light"
          }
        }
      ]
    },
    {
      "cell_type": "code",
      "source": [
        "census_df['race'].value_counts().plot(kind='bar') \n",
        "plt.title('Race value counts')\n",
        "plt.show()"
      ],
      "metadata": {
        "colab": {
          "base_uri": "https://localhost:8080/",
          "height": 332
        },
        "id": "LyDkMZtur9qe",
        "outputId": "2655e0a2-2759-421e-8e33-d6c367398b39"
      },
      "execution_count": 186,
      "outputs": [
        {
          "output_type": "display_data",
          "data": {
            "text/plain": [
              "<Figure size 432x288 with 1 Axes>"
            ],
            "image/png": "[encoded data removed]"
          },
          "metadata": {
            "needs_background": "light"
          }
        }
      ]
    },
    {
      "cell_type": "code",
      "source": [
        "census_df['sex'].value_counts().plot(kind='bar') \n",
        "plt.title('Sex identification value counts')\n",
        "plt.show()"
      ],
      "metadata": {
        "colab": {
          "base_uri": "https://localhost:8080/",
          "height": 307
        },
        "id": "4egHTKwbsCHh",
        "outputId": "79b7a84d-245e-4548-c237-16718a74b55b"
      },
      "execution_count": 187,
      "outputs": [
        {
          "output_type": "display_data",
          "data": {
            "text/plain": [
              "<Figure size 432x288 with 1 Axes>"
            ],
            "image/png": "[encoded data removed]"
          },
          "metadata": {
            "needs_background": "light"
          }
        }
      ]
    },
    {
      "cell_type": "code",
      "source": [
        "census_df['income'].value_counts().plot(kind='bar') \n",
        "plt.title('Income value counts')\n",
        "plt.show()"
      ],
      "metadata": {
        "colab": {
          "base_uri": "https://localhost:8080/",
          "height": 307
        },
        "id": "rG9_05TOsGL7",
        "outputId": "b67e199d-566f-441a-f834-9e36aa85fa01"
      },
      "execution_count": 188,
      "outputs": [
        {
          "output_type": "display_data",
          "data": {
            "text/plain": [
              "<Figure size 432x288 with 1 Axes>"
            ],
            "image/png": "[encoded data removed]"
          },
          "metadata": {
            "needs_background": "light"
          }
        }
      ]
    },
    {
      "cell_type": "markdown",
      "source": [
        "3aiii: Cross-tabulations"
      ],
      "metadata": {
        "id": "Tvg0ty0kszfA"
      }
    },
    {
      "cell_type": "code",
      "source": [
        "ed_race = pd.crosstab(census_df['education'], census_df['race'])\n",
        "ed_race.plot(kind='bar')\n",
        "plt.title('Education and Race crosstab')\n",
        "plt.show() "
      ],
      "metadata": {
        "colab": {
          "base_uri": "https://localhost:8080/",
          "height": 298
        },
        "id": "coxn6wnWsK5V",
        "outputId": "5b979577-3e9e-4e26-8f73-f65787239d1c"
      },
      "execution_count": 189,
      "outputs": [
        {
          "output_type": "display_data",
          "data": {
            "text/plain": [
              "<Figure size 432x288 with 1 Axes>"
            ],
            "image/png": "[encoded data removed]"
          },
          "metadata": {
            "needs_background": "light"
          }
        }
      ]
    },
    {
      "cell_type": "code",
      "source": [
        "ed_race = pd.crosstab(census_df['workclass'], census_df['income'])\n",
        "ed_race.plot(kind='bar')\n",
        "plt.title('Work-class and income crosstab')\n",
        "plt.show() "
      ],
      "metadata": {
        "colab": {
          "base_uri": "https://localhost:8080/",
          "height": 329
        },
        "id": "s9xDLExGttmG",
        "outputId": "ae1fb3a6-aed1-463a-c5cb-b2d0b0685f99"
      },
      "execution_count": 190,
      "outputs": [
        {
          "output_type": "display_data",
          "data": {
            "text/plain": [
              "<Figure size 432x288 with 1 Axes>"
            ],
            "image/png": "[encoded data removed]"
          },
          "metadata": {
            "needs_background": "light"
          }
        }
      ]
    },
    {
      "cell_type": "code",
      "source": [
        "ed_race = pd.crosstab(census_df['workclass'], census_df['race'])\n",
        "ed_race.plot(kind='bar')\n",
        "plt.title('Work-class and Race crosstab')\n",
        "plt.show() "
      ],
      "metadata": {
        "colab": {
          "base_uri": "https://localhost:8080/",
          "height": 329
        },
        "id": "eHBm1_Gnt8yl",
        "outputId": "7488aac4-63bf-42a3-f023-d7a7b0cd7727"
      },
      "execution_count": 191,
      "outputs": [
        {
          "output_type": "display_data",
          "data": {
            "text/plain": [
              "<Figure size 432x288 with 1 Axes>"
            ],
            "image/png": "[encoded data removed]"
          },
          "metadata": {
            "needs_background": "light"
          }
        }
      ]
    },
    {
      "cell_type": "code",
      "source": [
        "ed_race = pd.crosstab(census_df['race'], census_df['income'])\n",
        "ed_race.plot(kind='bar')\n",
        "plt.title('Race and income crosstab')\n",
        "plt.show() "
      ],
      "metadata": {
        "colab": {
          "base_uri": "https://localhost:8080/",
          "height": 346
        },
        "id": "OhnWrV48uC_I",
        "outputId": "8ad0b1db-c1ab-4717-d78f-605f5776c32b"
      },
      "execution_count": 192,
      "outputs": [
        {
          "output_type": "display_data",
          "data": {
            "text/plain": [
              "<Figure size 432x288 with 1 Axes>"
            ],
            "image/png": "[encoded data removed]"
          },
          "metadata": {
            "needs_background": "light"
          }
        }
      ]
    },
    {
      "cell_type": "code",
      "source": [
        "#Creating something for the race+income \n",
        "race_income = census_df[['race', 'income']] "
      ],
      "metadata": {
        "id": "S4ystqyKuKfP"
      },
      "execution_count": 193,
      "outputs": []
    },
    {
      "cell_type": "code",
      "source": [
        "#Getting the total amount of white people, black, asian, hispanic, amer-indian\n",
        "tWhite = len(race_income[race_income==\"White\"])\n",
        "tBlack = len(race_income[race_income==\"Black\"])\n",
        "tAsain = len(race_income[race_income==\"Asian\"])\n",
        "tHispanic = len(race_income[race_income==\"Hispanic\"])\n",
        "tAmerIndian = len(race_income[race_income==\"Amer-Indian\"]) "
      ],
      "metadata": {
        "id": "G6A722hmYktC"
      },
      "execution_count": 194,
      "outputs": []
    },
    {
      "cell_type": "code",
      "source": [
        "race_income_cats = [\"White <=50k\", \"White >50k\", \\\n",
        "                    \"Black <=50k\", \"Black >50k\",\\\n",
        "                    \"Asian <=50k\", \"Asian >50k\",\\\n",
        "                    \"Hispanic <=50k\", \"Hispanic >50k\",\\\n",
        "                    \"Amer-Indian <=50k\", \"Amer-Indian >50k\"]\n",
        "race_income_percs = [5994/tWhite, 2118/tWhite,\\\n",
        "                    773/tBlack, 119/tBlack,\\\n",
        "                    224/tAsain, 67/tAsain,\\\n",
        "                    69/tHispanic, 6/tHispanic,\\\n",
        "                    83/tAmerIndian, 9/tAmerIndian]\n",
        "race_percent = {'race-income': race_income_cats, 'percent': race_income_percs}\n",
        "\n",
        "race_percent_df = df = pd.DataFrame(data=race_percent)\n",
        "\n",
        "race_percent_df.plot(kind='bar', x=\"race-income\",title=\"Income % by Race\")"
      ],
      "metadata": {
        "colab": {
          "base_uri": "https://localhost:8080/",
          "height": 402
        },
        "id": "djLqvKsJZH3O",
        "outputId": "49ec9f39-4765-4fb6-d5c8-1239908ad705"
      },
      "execution_count": 195,
      "outputs": [
        {
          "output_type": "execute_result",
          "data": {
            "text/plain": [
              "<matplotlib.axes._subplots.AxesSubplot at 0x7efcccfe9750>"
            ]
          },
          "metadata": {},
          "execution_count": 195
        },
        {
          "output_type": "display_data",
          "data": {
            "text/plain": [
              "<Figure size 432x288 with 1 Axes>"
            ],
            "image/png": "[encoded data removed]"
          },
          "metadata": {
            "needs_background": "light"
          }
        }
      ]
    },
    {
      "cell_type": "code",
      "source": [
        "bar_df = pd.crosstab(census_df[\"workclass\"], census_df[\"income\"])\n",
        "bar_df.plot(kind=\"bar\")\n",
        "plt.show()"
      ],
      "metadata": {
        "colab": {
          "base_uri": "https://localhost:8080/",
          "height": 313
        },
        "id": "8OpApp6XBO-G",
        "outputId": "bcbd7663-cdb8-44b9-ecc4-65f82342466d"
      },
      "execution_count": 196,
      "outputs": [
        {
          "output_type": "display_data",
          "data": {
            "text/plain": [
              "<Figure size 432x288 with 1 Axes>"
            ],
            "image/png": "[encoded data removed]"
          },
          "metadata": {
            "needs_background": "light"
          }
        }
      ]
    },
    {
      "cell_type": "code",
      "source": [
        "bar_df = pd.crosstab(census_df[\"education\"], census_df[\"income\"])\n",
        "bar_df.plot(kind=\"bar\")\n",
        "plt.show()"
      ],
      "metadata": {
        "id": "D15GmiOKa_PR",
        "colab": {
          "base_uri": "https://localhost:8080/",
          "height": 282
        },
        "outputId": "10bcbf5d-d609-457c-e7b1-0217bb4b13c2"
      },
      "execution_count": 197,
      "outputs": [
        {
          "output_type": "display_data",
          "data": {
            "text/plain": [
              "<Figure size 432x288 with 1 Axes>"
            ],
            "image/png": "[encoded data removed]"
          },
          "metadata": {
            "needs_background": "light"
          }
        }
      ]
    },
    {
      "cell_type": "code",
      "source": [
        "bar_df = pd.crosstab(census_df[\"marital-status\"], census_df[\"income\"])\n",
        "bar_df.plot(kind=\"bar\")\n",
        "plt.show()"
      ],
      "metadata": {
        "colab": {
          "base_uri": "https://localhost:8080/",
          "height": 308
        },
        "id": "Et0hcl7ru6cx",
        "outputId": "1d79ec13-3f7d-454e-a687-2e0b861b85a4"
      },
      "execution_count": 198,
      "outputs": [
        {
          "output_type": "display_data",
          "data": {
            "text/plain": [
              "<Figure size 432x288 with 1 Axes>"
            ],
            "image/png": "[encoded data removed]"
          },
          "metadata": {
            "needs_background": "light"
          }
        }
      ]
    },
    {
      "cell_type": "code",
      "source": [
        "bar_df = pd.crosstab(census_df[\"sex\"], census_df[\"income\"])\n",
        "bar_df.plot(kind=\"bar\")\n",
        "plt.show()"
      ],
      "metadata": {
        "colab": {
          "base_uri": "https://localhost:8080/",
          "height": 305
        },
        "id": "-Jw5FQ4iu8Ep",
        "outputId": "1b907f12-0710-4c21-85f7-a84e55cebc8b"
      },
      "execution_count": 199,
      "outputs": [
        {
          "output_type": "display_data",
          "data": {
            "text/plain": [
              "<Figure size 432x288 with 1 Axes>"
            ],
            "image/png": "[encoded data removed]"
          },
          "metadata": {
            "needs_background": "light"
          }
        }
      ]
    },
    {
      "cell_type": "code",
      "source": [
        "bar_df = pd.crosstab(census_df[\"hours-per-week\"], census_df[\"income\"])\n",
        "bar_df.plot(kind=\"line\")\n",
        "plt.show()"
      ],
      "metadata": {
        "colab": {
          "base_uri": "https://localhost:8080/",
          "height": 279
        },
        "id": "OG_8LcDlu93T",
        "outputId": "18eebfab-42ba-41a9-9fde-e443bd95ff52"
      },
      "execution_count": 200,
      "outputs": [
        {
          "output_type": "display_data",
          "data": {
            "text/plain": [
              "<Figure size 432x288 with 1 Axes>"
            ],
            "image/png": "[encoded data removed]"
          },
          "metadata": {
            "needs_background": "light"
          }
        }
      ]
    },
    {
      "cell_type": "markdown",
      "source": [
        "Predictive Modeling and Model Evaluation "
      ],
      "metadata": {
        "id": "CCHIa_advByB"
      }
    },
    {
      "cell_type": "code",
      "source": [
        "census_df[\"age\"] = pd.to_numeric(census_df[\"age\"])\n",
        "dum_census = pd.get_dummies(census_df)\n",
        "print(dum_census.head(5))\n",
        "\n",
        "X = dum_census.iloc[:, :-2]\n",
        "y = dum_census.iloc[:, -1]\n",
        "\n",
        "Xtrain, Xtest, ytrain, ytest = train_test_split(X, y, test_size=0.2, random_state=0)"
      ],
      "metadata": {
        "colab": {
          "base_uri": "https://localhost:8080/"
        },
        "id": "EJAfR9WrvDwl",
        "outputId": "f116f22e-cd3d-4b50-e351-e3d328efb5a8"
      },
      "execution_count": 201,
      "outputs": [
        {
          "output_type": "stream",
          "name": "stdout",
          "text": [
            "    age  education  hours-per-week  workclass_Private  workclass_Public  \\\n",
            "0  39.0         13              40                  0                 1   \n",
            "1  50.0         13              13                  0                 0   \n",
            "2  38.0          9              40                  1                 0   \n",
            "3  53.0          7              40                  1                 0   \n",
            "4  28.0         13              40                  1                 0   \n",
            "\n",
            "   workclass_Self-emp  marital-status_Married  marital-status_Single  \\\n",
            "0                   0                       0                      1   \n",
            "1                   1                       1                      0   \n",
            "2                   0                       0                      1   \n",
            "3                   0                       1                      0   \n",
            "4                   0                       1                      0   \n",
            "\n",
            "   race_Amer-Indian  race_Asian  race_Black  race_Hispanic  race_White  \\\n",
            "0                 0           0           0              0           1   \n",
            "1                 0           0           0              0           1   \n",
            "2                 0           0           0              0           1   \n",
            "3                 0           0           1              0           0   \n",
            "4                 0           0           1              0           0   \n",
            "\n",
            "   sex_Female  sex_Male  income_<=50K  income_>50K  \n",
            "0           0         1             1            0  \n",
            "1           0         1             1            0  \n",
            "2           0         1             1            0  \n",
            "3           0         1             1            0  \n",
            "4           1         0             1            0  \n"
          ]
        }
      ]
    },
    {
      "cell_type": "code",
      "source": [
        "# Make a tree object using entropy to decide splits\n",
        "gnb = GaussianNB()\n",
        "\n",
        "# Fit a model to the training data\n",
        "# (or, learn the decision tree)\n",
        "gnb = gnb.fit(Xtrain, ytrain)\n",
        "\n",
        "ypred = gnb.predict(Xtest)\n",
        "\n",
        "### Classification Report \n",
        "print(classification_report(ytest, ypred))"
      ],
      "metadata": {
        "colab": {
          "base_uri": "https://localhost:8080/"
        },
        "id": "su9hR0BQwJG8",
        "outputId": "717568bc-6c70-4e36-e2b2-684741e985b8"
      },
      "execution_count": 202,
      "outputs": [
        {
          "output_type": "stream",
          "name": "stdout",
          "text": [
            "              precision    recall  f1-score   support\n",
            "\n",
            "           0       0.90      0.71      0.79      1414\n",
            "           1       0.46      0.76      0.58       469\n",
            "\n",
            "    accuracy                           0.72      1883\n",
            "   macro avg       0.68      0.73      0.68      1883\n",
            "weighted avg       0.79      0.72      0.74      1883\n",
            "\n"
          ]
        }
      ]
    },
    {
      "cell_type": "code",
      "source": [
        "from sklearn.ensemble import RandomForestClassifier"
      ],
      "metadata": {
        "id": "cKySvfzL0p5y"
      },
      "execution_count": 203,
      "outputs": []
    },
    {
      "cell_type": "markdown",
      "source": [
        "Random Forest"
      ],
      "metadata": {
        "id": "Ty6ixY7f052C"
      }
    },
    {
      "cell_type": "code",
      "source": [
        "#Random Forest Classifier \n",
        "rModel = RandomForestClassifier(n_estimators=7, random_state=0, criterion='entropy') \n",
        "rModel.fit(Xtrain,ytrain)"
      ],
      "metadata": {
        "colab": {
          "base_uri": "https://localhost:8080/"
        },
        "id": "07MPm4_WwO9T",
        "outputId": "aad8b956-3a44-4b88-ba9e-eecc61d5de3b"
      },
      "execution_count": 249,
      "outputs": [
        {
          "output_type": "execute_result",
          "data": {
            "text/plain": [
              "RandomForestClassifier(criterion='entropy', n_estimators=7, random_state=0)"
            ]
          },
          "metadata": {},
          "execution_count": 249
        }
      ]
    },
    {
      "cell_type": "code",
      "source": [
        "rypred = rModel.predict(Xtest)"
      ],
      "metadata": {
        "id": "syVYFUa12K4x"
      },
      "execution_count": 250,
      "outputs": []
    },
    {
      "cell_type": "code",
      "source": [
        "print(\"Random Forest Classification report\")\n",
        "print(classification_report(ytest, rypred))"
      ],
      "metadata": {
        "colab": {
          "base_uri": "https://localhost:8080/"
        },
        "id": "fdIiS6Ms2oQ-",
        "outputId": "6e522fb5-c842-42f7-cd95-a1b996715018"
      },
      "execution_count": 251,
      "outputs": [
        {
          "output_type": "stream",
          "name": "stdout",
          "text": [
            "Random Forest Classification report\n",
            "              precision    recall  f1-score   support\n",
            "\n",
            "           0       0.85      0.88      0.86      1414\n",
            "           1       0.59      0.53      0.56       469\n",
            "\n",
            "    accuracy                           0.79      1883\n",
            "   macro avg       0.72      0.70      0.71      1883\n",
            "weighted avg       0.78      0.79      0.79      1883\n",
            "\n"
          ]
        }
      ]
    },
    {
      "cell_type": "markdown",
      "source": [
        "KNN Classifier"
      ],
      "metadata": {
        "id": "tRCgROaE081D"
      }
    },
    {
      "cell_type": "code",
      "source": [
        "#KNN Classifier \n",
        "kModel = KNeighborsClassifier(n_neighbors=1, metric='euclidean') \n",
        "kModel.fit(Xtrain,ytrain)"
      ],
      "metadata": {
        "colab": {
          "base_uri": "https://localhost:8080/"
        },
        "id": "FCPyDSr4yAzm",
        "outputId": "86674213-4411-423c-8609-261723f4342b"
      },
      "execution_count": 207,
      "outputs": [
        {
          "output_type": "execute_result",
          "data": {
            "text/plain": [
              "KNeighborsClassifier(metric='euclidean', n_neighbors=1)"
            ]
          },
          "metadata": {},
          "execution_count": 207
        }
      ]
    },
    {
      "cell_type": "code",
      "source": [
        "kypred = kModel.predict(Xtest) "
      ],
      "metadata": {
        "id": "OxxHxLu32cva"
      },
      "execution_count": 208,
      "outputs": []
    },
    {
      "cell_type": "code",
      "source": [
        "print('KNN Classification report') \n",
        "print(classification_report(ytest, kypred))"
      ],
      "metadata": {
        "colab": {
          "base_uri": "https://localhost:8080/"
        },
        "id": "cwlHOSZ-2i7P",
        "outputId": "782e4862-aa37-4445-c99f-9f9aafa6e975"
      },
      "execution_count": 209,
      "outputs": [
        {
          "output_type": "stream",
          "name": "stdout",
          "text": [
            "KNN Classification report\n",
            "              precision    recall  f1-score   support\n",
            "\n",
            "           0       0.84      0.85      0.84      1414\n",
            "           1       0.53      0.51      0.52       469\n",
            "\n",
            "    accuracy                           0.76      1883\n",
            "   macro avg       0.68      0.68      0.68      1883\n",
            "weighted avg       0.76      0.76      0.76      1883\n",
            "\n"
          ]
        }
      ]
    },
    {
      "cell_type": "markdown",
      "source": [
        "I see that the random forest classifier is better at classifying the information. This could be because it's such a vast amount of information. "
      ],
      "metadata": {
        "id": "T5TL5E463B_A"
      }
    },
    {
      "cell_type": "code",
      "source": [
        ""
      ],
      "metadata": {
        "id": "6MddN6cm42FL"
      },
      "execution_count": null,
      "outputs": []
    }
  ]
}