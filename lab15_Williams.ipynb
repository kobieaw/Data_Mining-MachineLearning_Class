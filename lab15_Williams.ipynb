{
  "nbformat": 4,
  "nbformat_minor": 0,
  "metadata": {
    "colab": {
      "name": "lab15_Williams.ipynb",
      "provenance": []
    },
    "kernelspec": {
      "name": "python3",
      "display_name": "Python 3"
    },
    "language_info": {
      "name": "python"
    },
    "accelerator": "GPU"
  },
  "cells": [
    {
      "cell_type": "markdown",
      "source": [
        "Lab 15: Tensor Flow \n",
        "\n",
        "Kobie Williams \n",
        "\n",
        "4/12/2022 \n",
        "\n",
        "The purpose of this file is to make a simple artificial neural network using Keras and Tensorflow "
      ],
      "metadata": {
        "id": "vQL0oq0n_-IL"
      }
    },
    {
      "cell_type": "code",
      "execution_count": 69,
      "metadata": {
        "id": "WwgUwGYG_h4u"
      },
      "outputs": [],
      "source": [
        "import numpy as np \n",
        "import matplotlib.pyplot as plt \n",
        "import tensorflow as tf"
      ]
    },
    {
      "cell_type": "code",
      "source": [
        "#Load the MNIST dataset \n",
        "mnist = tf.keras.datasets.mnist \n",
        "\n",
        "# Separate into train and test data and labels \n",
        "(x_train, y_train), (x_test, y_test) = mnist.load_data() \n",
        "\n",
        "#Preprocess for more stable training of the neural network \n",
        "# by normalizing the data values to be between 0 and 1 \n",
        "x_train = x_train / 255.0 \n",
        "x_test = x_test / 255.0 "
      ],
      "metadata": {
        "id": "icLdxVimAgw4"
      },
      "execution_count": 70,
      "outputs": []
    },
    {
      "cell_type": "code",
      "source": [
        "x_train.shape"
      ],
      "metadata": {
        "colab": {
          "base_uri": "https://localhost:8080/"
        },
        "id": "dwBSlHmCC7AD",
        "outputId": "e2e26176-ec51-443d-f5dc-b5f96aeb9843"
      },
      "execution_count": 71,
      "outputs": [
        {
          "output_type": "execute_result",
          "data": {
            "text/plain": [
              "(60000, 28, 28)"
            ]
          },
          "metadata": {},
          "execution_count": 71
        }
      ]
    },
    {
      "cell_type": "code",
      "source": [
        "y_train.shape"
      ],
      "metadata": {
        "colab": {
          "base_uri": "https://localhost:8080/"
        },
        "id": "FKkXw-ACC-cF",
        "outputId": "429624e7-969c-4860-dc6d-39d52ff5a274"
      },
      "execution_count": 72,
      "outputs": [
        {
          "output_type": "execute_result",
          "data": {
            "text/plain": [
              "(60000,)"
            ]
          },
          "metadata": {},
          "execution_count": 72
        }
      ]
    },
    {
      "cell_type": "code",
      "source": [
        "x_test.shape"
      ],
      "metadata": {
        "id": "5bPS8egAC_0M",
        "outputId": "7e09cc15-541d-4c00-de7c-50e65cfb193e",
        "colab": {
          "base_uri": "https://localhost:8080/"
        }
      },
      "execution_count": 73,
      "outputs": [
        {
          "output_type": "execute_result",
          "data": {
            "text/plain": [
              "(10000, 28, 28)"
            ]
          },
          "metadata": {},
          "execution_count": 73
        }
      ]
    },
    {
      "cell_type": "code",
      "source": [
        "y_test.shape"
      ],
      "metadata": {
        "id": "POUiun-oDCqj",
        "outputId": "8fe0ce11-d35d-49a8-d3f4-ef04eb2ed560",
        "colab": {
          "base_uri": "https://localhost:8080/"
        }
      },
      "execution_count": 74,
      "outputs": [
        {
          "output_type": "execute_result",
          "data": {
            "text/plain": [
              "(10000,)"
            ]
          },
          "metadata": {},
          "execution_count": 74
        }
      ]
    },
    {
      "cell_type": "code",
      "source": [
        "train_idx = 2 \n",
        "plt.imshow(x_train[train_idx], cmap='gray') \n",
        "plt.title('Label: {}'.format(y_train[train_idx])) \n",
        "plt.show() \n"
      ],
      "metadata": {
        "id": "_utdaogoDE2S",
        "colab": {
          "base_uri": "https://localhost:8080/",
          "height": 281
        },
        "outputId": "dac5ba3f-273f-42a5-da68-985f974a1e91"
      },
      "execution_count": 75,
      "outputs": [
        {
          "output_type": "display_data",
          "data": {
            "text/plain": [
              "<Figure size 432x288 with 1 Axes>"
            ],
            "image/png": "[encoded data removed]"
          },
          "metadata": {
            "needs_background": "light"
          }
        }
      ]
    },
    {
      "cell_type": "code",
      "source": [
        "model = tf.keras.models.Sequential([\n",
        "  tf.keras.layers.Flatten(input_shape=(28,28)), \n",
        "  tf.keras.layers.Dense(40,activation='relu'),\n",
        "  tf.keras.layers.Dense(16), \n",
        "  tf.keras.layers.Dropout(0.2), \n",
        "  tf.keras.layers.Dense(10) \n",
        "])"
      ],
      "metadata": {
        "id": "OAKlJs0GGK5m"
      },
      "execution_count": 76,
      "outputs": []
    },
    {
      "cell_type": "code",
      "source": [
        "predictions = model(x_train[:1]).numpy() \n",
        "predictions"
      ],
      "metadata": {
        "colab": {
          "base_uri": "https://localhost:8080/"
        },
        "id": "oB3UsKsjH-cy",
        "outputId": "4b8c4e47-b7c4-4efd-eb9a-cdc710db4bfc"
      },
      "execution_count": 77,
      "outputs": [
        {
          "output_type": "execute_result",
          "data": {
            "text/plain": [
              "array([[-0.225468  ,  0.25006944, -0.343845  , -0.02234282,  0.4332015 ,\n",
              "        -0.55791193,  0.33313355, -0.08753837, -0.10407096,  0.10575063]],\n",
              "      dtype=float32)"
            ]
          },
          "metadata": {},
          "execution_count": 77
        }
      ]
    },
    {
      "cell_type": "code",
      "source": [
        "tf.nn.softmax(predictions).numpy() "
      ],
      "metadata": {
        "colab": {
          "base_uri": "https://localhost:8080/"
        },
        "id": "hZv79dmDIEDf",
        "outputId": "b08b55b7-a677-4d1a-ce4f-8f611c0f1716"
      },
      "execution_count": 78,
      "outputs": [
        {
          "output_type": "execute_result",
          "data": {
            "text/plain": [
              "array([[0.07818785, 0.12579475, 0.06945904, 0.09579777, 0.1510761 ,\n",
              "        0.05607389, 0.13669002, 0.08975142, 0.08827978, 0.10888942]],\n",
              "      dtype=float32)"
            ]
          },
          "metadata": {},
          "execution_count": 78
        }
      ]
    },
    {
      "cell_type": "code",
      "source": [
        "loss_fn = tf.keras.losses.SparseCategoricalCrossentropy(from_logits=True) \n"
      ],
      "metadata": {
        "id": "RjUyFyE8IPnF"
      },
      "execution_count": 79,
      "outputs": []
    },
    {
      "cell_type": "code",
      "source": [
        "model.compile(optimizer='adam',\n",
        "              loss=loss_fn, \n",
        "              metrics=['accuracy']) \n"
      ],
      "metadata": {
        "id": "jr0uRVmfIXWD"
      },
      "execution_count": 80,
      "outputs": []
    },
    {
      "cell_type": "code",
      "source": [
        "model.fit(x_train, y_train, epochs=4) \n"
      ],
      "metadata": {
        "colab": {
          "base_uri": "https://localhost:8080/"
        },
        "id": "xMT5CCTZIfa-",
        "outputId": "025a6b8e-4c26-416e-b775-12a1fb17ee44"
      },
      "execution_count": 81,
      "outputs": [
        {
          "output_type": "stream",
          "name": "stdout",
          "text": [
            "Epoch 1/4\n",
            "1875/1875 [==============================] - 6s 3ms/step - loss: 0.4013 - accuracy: 0.8824\n",
            "Epoch 2/4\n",
            "1875/1875 [==============================] - 5s 3ms/step - loss: 0.2068 - accuracy: 0.9403\n",
            "Epoch 3/4\n",
            "1875/1875 [==============================] - 5s 3ms/step - loss: 0.1607 - accuracy: 0.9526\n",
            "Epoch 4/4\n",
            "1875/1875 [==============================] - 6s 3ms/step - loss: 0.1349 - accuracy: 0.9594\n"
          ]
        },
        {
          "output_type": "execute_result",
          "data": {
            "text/plain": [
              "<keras.callbacks.History at 0x7f01326dfc50>"
            ]
          },
          "metadata": {},
          "execution_count": 81
        }
      ]
    },
    {
      "cell_type": "code",
      "source": [
        "model.evaluate(x_train,y_train,verbose=2) "
      ],
      "metadata": {
        "colab": {
          "base_uri": "https://localhost:8080/"
        },
        "id": "GT4nvR6y3uR7",
        "outputId": "6d34d41f-a7b2-4b95-e66c-5d26d28ff2cf"
      },
      "execution_count": 82,
      "outputs": [
        {
          "output_type": "stream",
          "name": "stdout",
          "text": [
            "1875/1875 - 3s - loss: 0.0807 - accuracy: 0.9754 - 3s/epoch - 2ms/step\n"
          ]
        },
        {
          "output_type": "execute_result",
          "data": {
            "text/plain": [
              "[0.08074792474508286, 0.9753833413124084]"
            ]
          },
          "metadata": {},
          "execution_count": 82
        }
      ]
    },
    {
      "cell_type": "code",
      "source": [
        "model.evaluate(x_test, y_test, verbose=2) "
      ],
      "metadata": {
        "colab": {
          "base_uri": "https://localhost:8080/"
        },
        "id": "tT2MQB1LN8GH",
        "outputId": "2964d7f2-59ab-45b0-8ced-a164147f86c2"
      },
      "execution_count": 83,
      "outputs": [
        {
          "output_type": "stream",
          "name": "stdout",
          "text": [
            "313/313 - 1s - loss: 0.1076 - accuracy: 0.9678 - 966ms/epoch - 3ms/step\n"
          ]
        },
        {
          "output_type": "execute_result",
          "data": {
            "text/plain": [
              "[0.10758572816848755, 0.9678000211715698]"
            ]
          },
          "metadata": {},
          "execution_count": 83
        }
      ]
    },
    {
      "cell_type": "code",
      "source": [
        "probability_model = tf.keras.Sequential([\n",
        "  model, tf.keras.layers.Softmax() \n",
        "])"
      ],
      "metadata": {
        "id": "8xJNpvI_OB-A"
      },
      "execution_count": 84,
      "outputs": []
    },
    {
      "cell_type": "code",
      "source": [
        "test_idx = 200 \n",
        "plt.imshow(x_test[test_idx], cmap=plt.cm.gray) \n",
        "plt.title('Correct label: {}'.format(y_test[test_idx])) \n",
        "plt.show() \n",
        "print('Predicted probabilities:') \n",
        "probability_model(x_test[test_idx:test_idx+1]) \n"
      ],
      "metadata": {
        "colab": {
          "base_uri": "https://localhost:8080/",
          "height": 370
        },
        "id": "fyQEElbQOPwE",
        "outputId": "e19f8c5d-fa48-46ec-e741-fbb8ae14421c"
      },
      "execution_count": 85,
      "outputs": [
        {
          "output_type": "display_data",
          "data": {
            "text/plain": [
              "<Figure size 432x288 with 1 Axes>"
            ],
            "image/png": "[encoded data removed]"
          },
          "metadata": {
            "needs_background": "light"
          }
        },
        {
          "output_type": "stream",
          "name": "stdout",
          "text": [
            "Predicted probabilities:\n"
          ]
        },
        {
          "output_type": "execute_result",
          "data": {
            "text/plain": [
              "<tf.Tensor: shape=(1, 10), dtype=float32, numpy=\n",
              "array([[3.6754397e-08, 2.0402865e-07, 2.4569363e-04, 9.9973971e-01,\n",
              "        1.7989955e-10, 1.0481653e-05, 4.8807380e-10, 3.3469456e-07,\n",
              "        3.2442665e-06, 1.6802478e-07]], dtype=float32)>"
            ]
          },
          "metadata": {},
          "execution_count": 85
        }
      ]
    },
    {
      "cell_type": "markdown",
      "source": [
        "1) The test set had an accuracy of about 94.5% while the training set had an accuracy of about 94.9%. \n",
        "\n",
        "2a) Done \n",
        "\n",
        "2b) Done \n",
        "\n",
        "2c) Done \n",
        "\n",
        "2d) The accuracy that I ended up getting was 97.5% for the training data and 96.8% for the test data. \n",
        "\n",
        "3) Our model is not overfitting because the training data and test data accuracy has continouosly improved and the training data accuracy is still greater than the test data. Once we see a decrease, then we can know that there is overfitting. "
      ],
      "metadata": {
        "id": "dXdTlH1tOsS-"
      }
    },
    {
      "cell_type": "code",
      "source": [
        ""
      ],
      "metadata": {
        "id": "_2J7ykdOOlbp"
      },
      "execution_count": 85,
      "outputs": []
    }
  ]
}