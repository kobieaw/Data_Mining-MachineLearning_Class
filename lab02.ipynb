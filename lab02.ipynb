{
  "nbformat": 4,
  "nbformat_minor": 0,
  "metadata": {
    "colab": {
      "name": "lab02.ipynb",
      "provenance": []
    },
    "kernelspec": {
      "name": "python3",
      "display_name": "Python 3"
    },
    "language_info": {
      "name": "python"
    }
  },
  "cells": [
    {
      "cell_type": "markdown",
      "source": [
        "Lab 2: NumPy and Matlib\n",
        "\n",
        "Kobie Williams \n",
        "\n",
        "Feb 3, 2022 \n",
        "\n",
        "To use numpy and matplotlib for working with data "
      ],
      "metadata": {
        "id": "FgvUBTlp9xOX"
      }
    },
    {
      "cell_type": "code",
      "source": [
        "import numpy as np "
      ],
      "metadata": {
        "id": "pR3JZCO4-OVS"
      },
      "execution_count": 18,
      "outputs": []
    },
    {
      "cell_type": "code",
      "source": [
        "#read the data into a variable called poptable and print it out \n",
        "poptable = np.loadtxt('lab02_populations.csv',dtype=int, delimiter = ',',skiprows=1)\n",
        "poptable"
      ],
      "metadata": {
        "id": "qRx5dN_T-aS4",
        "colab": {
          "base_uri": "https://localhost:8080/"
        },
        "outputId": "1714791d-386a-4406-dc45-b2fdebdcb2ec"
      },
      "execution_count": 19,
      "outputs": [
        {
          "output_type": "execute_result",
          "data": {
            "text/plain": [
              "array([[ 1900, 30000,  4000, 48300],\n",
              "       [ 1901, 47200,  6100, 48200],\n",
              "       [ 1902, 70200,  9800, 41500],\n",
              "       [ 1903, 77400, 35200, 38200],\n",
              "       [ 1904, 36300, 59400, 40600],\n",
              "       [ 1905, 20600, 41700, 39800],\n",
              "       [ 1906, 18100, 19000, 38600],\n",
              "       [ 1907, 21400, 13000, 42300],\n",
              "       [ 1908, 22000,  8300, 44500],\n",
              "       [ 1909, 25400,  9100, 42100],\n",
              "       [ 1910, 27100,  7400, 46000],\n",
              "       [ 1911, 40300,  8000, 46800],\n",
              "       [ 1912, 57000, 12300, 43800],\n",
              "       [ 1913, 76600, 19500, 40900],\n",
              "       [ 1914, 52300, 45700, 39400],\n",
              "       [ 1915, 19500, 51100, 39000],\n",
              "       [ 1916, 11200, 29700, 36700],\n",
              "       [ 1917,  7600, 15800, 41800],\n",
              "       [ 1918, 14600,  9700, 43300],\n",
              "       [ 1919, 16200, 10100, 41300],\n",
              "       [ 1920, 24700,  8600, 47300],\n",
              "       [ 1921,    -1,  9900, 45200]])"
            ]
          },
          "metadata": {},
          "execution_count": 19
        }
      ]
    },
    {
      "cell_type": "code",
      "source": [
        "#Create the mask and identify rows with a negative column \n",
        "maskData = poptable[:, 1] >= 0 \n",
        "#Setting the mask to positive \n",
        "posRows = maskData\n"
      ],
      "metadata": {
        "id": "pFvpaWtp1VCX"
      },
      "execution_count": 20,
      "outputs": []
    },
    {
      "cell_type": "code",
      "source": [
        "cleanData = poptable[posRows] \n"
      ],
      "metadata": {
        "id": "vTm59MaI5vca"
      },
      "execution_count": 21,
      "outputs": []
    },
    {
      "cell_type": "code",
      "source": [
        "print(cleanData)"
      ],
      "metadata": {
        "colab": {
          "base_uri": "https://localhost:8080/"
        },
        "id": "yQbZicVo56Fp",
        "outputId": "0930155f-81d0-4b32-8602-299b30ab2f47"
      },
      "execution_count": 22,
      "outputs": [
        {
          "output_type": "stream",
          "name": "stdout",
          "text": [
            "[[ 1900 30000  4000 48300]\n",
            " [ 1901 47200  6100 48200]\n",
            " [ 1902 70200  9800 41500]\n",
            " [ 1903 77400 35200 38200]\n",
            " [ 1904 36300 59400 40600]\n",
            " [ 1905 20600 41700 39800]\n",
            " [ 1906 18100 19000 38600]\n",
            " [ 1907 21400 13000 42300]\n",
            " [ 1908 22000  8300 44500]\n",
            " [ 1909 25400  9100 42100]\n",
            " [ 1910 27100  7400 46000]\n",
            " [ 1911 40300  8000 46800]\n",
            " [ 1912 57000 12300 43800]\n",
            " [ 1913 76600 19500 40900]\n",
            " [ 1914 52300 45700 39400]\n",
            " [ 1915 19500 51100 39000]\n",
            " [ 1916 11200 29700 36700]\n",
            " [ 1917  7600 15800 41800]\n",
            " [ 1918 14600  9700 43300]\n",
            " [ 1919 16200 10100 41300]\n",
            " [ 1920 24700  8600 47300]]\n"
          ]
        }
      ]
    },
    {
      "cell_type": "code",
      "source": [
        "#print out the number of rows and columns in poptable \n",
        "print(\"row:\", cleanData.shape[0])\n",
        "print(\"col:\", cleanData.shape[1])"
      ],
      "metadata": {
        "colab": {
          "base_uri": "https://localhost:8080/"
        },
        "id": "-yUtu2vMHcwh",
        "outputId": "40abb3ef-785f-4ba0-caed-14d906866b92"
      },
      "execution_count": 43,
      "outputs": [
        {
          "output_type": "stream",
          "name": "stdout",
          "text": [
            "row: 21\n",
            "col: 4\n"
          ]
        }
      ]
    },
    {
      "cell_type": "code",
      "source": [
        "#Minimum number of hares \n",
        "print(cleanData[:,1].min())\n",
        "#Max number of hares \n",
        "print(cleanData[:,1].max())\n",
        "#Average number of hares \n",
        "print(cleanData[:,1].mean())\n",
        "\n",
        "#Minimum number of Lynxes \n",
        "print(cleanData[:,2].min())\n",
        "#Maximum number of Lynxes \n",
        "print(cleanData[:,2].max())\n",
        "#Average number of Lynxes \n",
        "print(cleanData[:,2].mean())\n",
        "\n",
        "#Minimum number of Carrots \n",
        "print(cleanData[:,3].min())\n",
        "#Maximum number of Carrots \n",
        "print(cleanData[:,3].max())\n",
        "#Average number of Carrots \n",
        "print(cleanData[:,3].mean())"
      ],
      "metadata": {
        "colab": {
          "base_uri": "https://localhost:8080/"
        },
        "id": "c6DIqJgh7rgn",
        "outputId": "09cc2996-459f-4763-b419-8c34d06b0540"
      },
      "execution_count": 24,
      "outputs": [
        {
          "output_type": "stream",
          "name": "stdout",
          "text": [
            "7600\n",
            "77400\n",
            "34080.95238095238\n",
            "4000\n",
            "59400\n",
            "20166.666666666668\n",
            "36700\n",
            "48300\n",
            "42400.0\n"
          ]
        }
      ]
    },
    {
      "cell_type": "code",
      "source": [
        "#All the years where population is greater than 40000\n",
        "print(cleanData[cleanData[:,1] > 40000][:,0])\n",
        "\n",
        "  "
      ],
      "metadata": {
        "colab": {
          "base_uri": "https://localhost:8080/"
        },
        "id": "-3OPC9-T7549",
        "outputId": "bbd1e243-a39b-4519-81c9-2b13140bd5c1"
      },
      "execution_count": 28,
      "outputs": [
        {
          "output_type": "stream",
          "name": "stdout",
          "text": [
            "[1901 1902 1903 1911 1912 1913 1914]\n"
          ]
        }
      ]
    },
    {
      "cell_type": "code",
      "source": [
        "import matplotlib.pyplot as plt"
      ],
      "metadata": {
        "id": "vvLl09kb-zdJ"
      },
      "execution_count": 29,
      "outputs": []
    },
    {
      "cell_type": "code",
      "source": [
        "#Plot the number of hares, lynxes, and carrots over time (3 curves on one graph). Include a title, axis labels, and a legend."
      ],
      "metadata": {
        "id": "hjxu2y9B_4bw"
      },
      "execution_count": null,
      "outputs": []
    },
    {
      "cell_type": "code",
      "source": [
        "#x axis as the years of the study and its range \n",
        "x = np.arange(1900,1921)\n",
        "\n",
        "#hare \n",
        "a = cleanData[:,1] \n",
        "#lynx \n",
        "y = cleanData[:,2] \n",
        "#carrot \n",
        "z = cleanData[:,3] \n",
        "\n",
        "#Plotting the curves \n",
        "plt.plot(x,a,label='hare') \n",
        "plt.plot(x,y,label='lynx')\n",
        "plt.plot(x,z,label='carrot')\n",
        "\n",
        "#title \n",
        "plt.title('Plots of change in hares,lynxes, and carrots over time')\n",
        "\n",
        "#axis labels\n",
        "plt.ylabel('Y') \n",
        "plt.xlabel('X') \n",
        "#legend\n",
        "plt.legend(('hare','lynx','carrot'))\n",
        "plt.show() \n"
      ],
      "metadata": {
        "colab": {
          "base_uri": "https://localhost:8080/",
          "height": 295
        },
        "id": "DONc5RtAAETu",
        "outputId": "b04afba1-5cae-47ec-9111-59ebeaae2ade"
      },
      "execution_count": 37,
      "outputs": [
        {
          "output_type": "display_data",
          "data": {
            "image/png": "[encoded data removed]",
            "text/plain": [
              "<Figure size 432x288 with 1 Axes>"
            ]
          },
          "metadata": {
            "needs_background": "light"
          }
        }
      ]
    },
    {
      "cell_type": "code",
      "source": [
        ""
      ],
      "metadata": {
        "id": "CSnhoudzC6ks"
      },
      "execution_count": 38,
      "outputs": []
    },
    {
      "cell_type": "code",
      "source": [
        "plt.hist(a,bins=8) \n",
        "plt.xlabel('hare') \n",
        "plt.ylabel('number')\n",
        "plt.grid(True)\n",
        "plt.show()"
      ],
      "metadata": {
        "colab": {
          "base_uri": "https://localhost:8080/",
          "height": 279
        },
        "id": "7fTbgmSfFjAs",
        "outputId": "d89e36a3-5c97-400c-da5e-d0132c3ad3ee"
      },
      "execution_count": 41,
      "outputs": [
        {
          "output_type": "display_data",
          "data": {
            "image/png": "[encoded data removed]",
            "text/plain": [
              "<Figure size 432x288 with 1 Axes>"
            ]
          },
          "metadata": {
            "needs_background": "light"
          }
        }
      ]
    },
    {
      "cell_type": "code",
      "source": [
        ""
      ],
      "metadata": {
        "id": "yF0xli7iFyfk"
      },
      "execution_count": null,
      "outputs": []
    },
    {
      "cell_type": "code",
      "source": [
        "plt.scatter(a,y) \n",
        "plt.xlabel('hare') \n",
        "plt.ylabel('lynx') \n",
        "plt.title(\"scatter plot of hares vs lynx\") \n",
        "plt.show()"
      ],
      "metadata": {
        "colab": {
          "base_uri": "https://localhost:8080/",
          "height": 295
        },
        "id": "0KbFz-wuF2Mt",
        "outputId": "f3a738a6-8ca9-4c75-9d0d-1be1b28755a0"
      },
      "execution_count": 39,
      "outputs": [
        {
          "output_type": "display_data",
          "data": {
            "image/png": "[encoded data removed]",
            "text/plain": [
              "<Figure size 432x288 with 1 Axes>"
            ]
          },
          "metadata": {
            "needs_background": "light"
          }
        }
      ]
    },
    {
      "cell_type": "markdown",
      "source": [
        "g. The relationship between the number of lynxes and number of hares looks somewhat inversely proportional with a few outliers. So I assume the lynxes are eating the hares. "
      ],
      "metadata": {
        "id": "BNjcVc5EGDTx"
      }
    },
    {
      "cell_type": "code",
      "source": [
        ""
      ],
      "metadata": {
        "id": "chCNunW_GQtP"
      },
      "execution_count": null,
      "outputs": []
    }
  ]
}