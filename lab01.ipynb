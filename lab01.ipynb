{
  "nbformat": 4,
  "nbformat_minor": 0,
  "metadata": {
    "colab": {
      "name": "lab01.ipynb",
      "provenance": []
    },
    "kernelspec": {
      "name": "python3",
      "display_name": "Python 3"
    },
    "language_info": {
      "name": "python"
    }
  },
  "cells": [
    {
      "cell_type": "markdown",
      "source": [
        "CSC 4422 DMML \n",
        "\n",
        "Lab 1: Python Basics \n",
        "\n",
        "Kobie Williams\n",
        "\n",
        "2/1/2022"
      ],
      "metadata": {
        "id": "6LTq8LGJltK4"
      }
    },
    {
      "cell_type": "code",
      "execution_count": null,
      "metadata": {
        "id": "d1zwzz5Miz_R"
      },
      "outputs": [],
      "source": [
        "#open the file for reading \n",
        "file = open('lab01_testFile.txt', 'r')"
      ]
    },
    {
      "cell_type": "code",
      "source": [
        "next = file.read()"
      ],
      "metadata": {
        "id": "wdlV9q5vytHe"
      },
      "execution_count": null,
      "outputs": []
    },
    {
      "cell_type": "code",
      "source": [
        "print(next)"
      ],
      "metadata": {
        "colab": {
          "base_uri": "https://localhost:8080/"
        },
        "id": "UD2Z_FXvy23F",
        "outputId": "b9fb4a77-20af-4060-fdb4-343d605eebec"
      },
      "execution_count": null,
      "outputs": [
        {
          "output_type": "stream",
          "name": "stdout",
          "text": [
            "Words words words.\n",
            "So many words and so little time.\n",
            "Let's use Python to read the words and summarize them for us.\n",
            "A little Python is a powerful thing.\n"
          ]
        }
      ]
    },
    {
      "cell_type": "markdown",
      "source": [
        ""
      ],
      "metadata": {
        "id": "xhL7stz3lsEi"
      }
    },
    {
      "cell_type": "code",
      "source": [
        "words = next.split() "
      ],
      "metadata": {
        "id": "dYWrXKrYlrum"
      },
      "execution_count": null,
      "outputs": []
    },
    {
      "cell_type": "code",
      "source": [
        "print(words)"
      ],
      "metadata": {
        "colab": {
          "base_uri": "https://localhost:8080/"
        },
        "id": "s8cH_KZZyot_",
        "outputId": "f6bf80ae-3d1c-48ee-fb3d-4c2f9307e20a"
      },
      "execution_count": null,
      "outputs": [
        {
          "output_type": "stream",
          "name": "stdout",
          "text": [
            "['Words', 'words', 'words.', 'So', 'many', 'words', 'and', 'so', 'little', 'time.', \"Let's\", 'use', 'Python', 'to', 'read', 'the', 'words', 'and', 'summarize', 'them', 'for', 'us.', 'A', 'little', 'Python', 'is', 'a', 'powerful', 'thing.']\n"
          ]
        }
      ]
    },
    {
      "cell_type": "code",
      "source": [
        "word_dict = {}"
      ],
      "metadata": {
        "id": "fbdxVjimzHzx"
      },
      "execution_count": null,
      "outputs": []
    },
    {
      "cell_type": "code",
      "source": [
        "#for each word in the word dictinoary \n",
        "for i in words:\n",
        "  #if the word is in the dictionary  \n",
        "  if word_dict.keys == i: \n",
        "    word_dict[i] = 1 \n",
        "  else: \n",
        "    #if it's not in the dictionary, add to it \n",
        "    word_dict[i] + 1 \n"
      ],
      "metadata": {
        "id": "vjyfrAUgoIQB"
      },
      "execution_count": null,
      "outputs": []
    },
    {
      "cell_type": "code",
      "source": [
        "print(word_dict)"
      ],
      "metadata": {
        "colab": {
          "base_uri": "https://localhost:8080/"
        },
        "id": "ELqhq_bTygzX",
        "outputId": "2e7f86c1-9b0c-4fb3-c6c3-0c1105384c04"
      },
      "execution_count": null,
      "outputs": [
        {
          "output_type": "stream",
          "name": "stdout",
          "text": [
            "{'Words': 1, 'words': 1, 'words.': 1, 'So': 1, 'many': 1, 'and': 1, 'so': 1, 'little': 1, 'time.': 1, \"Let's\": 1, 'use': 1, 'Python': 1, 'to': 1, 'read': 1, 'the': 1, 'summarize': 1, 'them': 1, 'for': 1, 'us.': 1, 'A': 1, 'is': 1, 'a': 1, 'powerful': 1, 'thing.': 1}\n"
          ]
        }
      ]
    },
    {
      "cell_type": "code",
      "source": [
        "word_count = {} "
      ],
      "metadata": {
        "id": "bJaCcRPbo1h_"
      },
      "execution_count": null,
      "outputs": []
    },
    {
      "cell_type": "code",
      "source": [
        "#for each word in out of all of the words \n",
        "for word in words: \n",
        "  #if the word is in the dictionary\n",
        "  if word_count.keys == word:  \n",
        "    word_count[word] + 1\n",
        "  else: \n",
        "    #if it's not in the dictionary, add it to it \n",
        "     word_count[word] = 1 \n",
        "\n",
        "print(word_count) "
      ],
      "metadata": {
        "colab": {
          "base_uri": "https://localhost:8080/"
        },
        "id": "SeTc7NUCqMz_",
        "outputId": "3fce1179-8766-4a87-f4b2-2c0dc2e980af"
      },
      "execution_count": null,
      "outputs": [
        {
          "output_type": "stream",
          "name": "stdout",
          "text": [
            "{'Words': 1, 'words': 1, 'words.': 1, 'So': 1, 'many': 1, 'and': 1, 'so': 1, 'little': 1, 'time.': 1, \"Let's\": 1, 'use': 1, 'Python': 1, 'to': 1, 'read': 1, 'the': 1, 'summarize': 1, 'them': 1, 'for': 1, 'us.': 1, 'A': 1, 'is': 1, 'a': 1, 'powerful': 1, 'thing.': 1}\n"
          ]
        }
      ]
    },
    {
      "cell_type": "code",
      "source": [
        ""
      ],
      "metadata": {
        "id": "f0eQcQn2rj4o"
      },
      "execution_count": null,
      "outputs": []
    }
  ]
}