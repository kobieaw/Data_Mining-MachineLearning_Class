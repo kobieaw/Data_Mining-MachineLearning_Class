{
  "nbformat": 4,
  "nbformat_minor": 0,
  "metadata": {
    "colab": {
      "name": "hw04_Williams_Geiger.ipynb",
      "provenance": [],
      "collapsed_sections": []
    },
    "kernelspec": {
      "name": "python3",
      "display_name": "Python 3"
    },
    "language_info": {
      "name": "python"
    },
    "accelerator": "GPU"
  },
  "cells": [
    {
      "cell_type": "markdown",
      "source": [
        "#1b: \n",
        "## Homework 4: Capstone \n",
        "\n",
        "## Kobie Williams and Nyles Geiger\n",
        "\n",
        "#### 4/12/2022"
      ],
      "metadata": {
        "id": "rYwBDa8v8qin"
      }
    },
    {
      "cell_type": "code",
      "execution_count": 1,
      "metadata": {
        "id": "_UnhG1ZC8lxs"
      },
      "outputs": [],
      "source": [
        "import numpy as np \n",
        "import pandas as pd \n"
      ]
    },
    {
      "cell_type": "code",
      "source": [
        "people = pd.read_csv('https://drive.google.com/uc?export=download&id=1Xza-mD7u0w3AHMvntoQMaXu3AlX9BAbA')\n",
        "\n",
        "social_media = pd.read_csv('https://drive.google.com/uc?export=download&id=1XwXv7CoqmqfVe4UCKwQvrkPiwLarOjLo')\n",
        "\n",
        "social_connect = pd.read_csv('https://drive.google.com/uc?export=download&id=1Xue80IWkuKZMkl6AofA4zYslLMKLvRmP')"
      ],
      "metadata": {
        "id": "v8Hg0MBYKtMm"
      },
      "execution_count": 2,
      "outputs": []
    },
    {
      "cell_type": "code",
      "source": [
        "people.describe() "
      ],
      "metadata": {
        "colab": {
          "base_uri": "https://localhost:8080/",
          "height": 364
        },
        "id": "v4054-m5K7Wm",
        "outputId": "4104cd1b-5103-41a4-ad77-eb2e9c4fd638"
      },
      "execution_count": 3,
      "outputs": [
        {
          "output_type": "execute_result",
          "data": {
            "text/plain": [
              "                  ID       Weight      ZipCode        SqFt        Shoes  \\\n",
              "count    2000.000000  2000.000000  2000.000000  2000.00000  2000.000000   \n",
              "mean   101000.500000   144.492835  3808.212000  2071.45350     7.134000   \n",
              "std       577.494589    31.996841  3132.924239   587.90871     3.807005   \n",
              "min    100001.000000    59.000000   221.000000     5.00000     0.000000   \n",
              "25%    100500.750000   120.642500   221.000000  1740.75000     4.000000   \n",
              "50%    101000.500000   143.790000  3977.000000  2033.50000     7.000000   \n",
              "75%    101500.250000   166.147500  6861.000000  2284.25000    10.000000   \n",
              "max    102000.000000   249.070000  8161.000000  6495.00000    24.000000   \n",
              "\n",
              "           Commute         Income  \n",
              "count  2000.000000    1500.000000  \n",
              "mean     26.112925   66894.393680  \n",
              "std      18.726101   45953.545286  \n",
              "min       0.050000     754.080000  \n",
              "25%      11.045000   34024.247500  \n",
              "50%      22.875000   54956.200000  \n",
              "75%      37.717500   86720.820000  \n",
              "max     117.070000  400211.640000  "
            ],
            "text/html": [
              "\n",
              "  <div id=\"df-1b0effd7-dbc3-4de5-9090-f6703538f2a9\">\n",
              "    <div class=\"colab-df-container\">\n",
              "      <div>\n",
              "<style scoped>\n",
              "    .dataframe tbody tr th:only-of-type {\n",
              "        vertical-align: middle;\n",
              "    }\n",
              "\n",
              "    .dataframe tbody tr th {\n",
              "        vertical-align: top;\n",
              "    }\n",
              "\n",
              "    .dataframe thead th {\n",
              "        text-align: right;\n",
              "    }\n",
              "</style>\n",
              "<table border=\"1\" class=\"dataframe\">\n",
              "  <thead>\n",
              "    <tr style=\"text-align: right;\">\n",
              "      <th></th>\n",
              "      <th>ID</th>\n",
              "      <th>Weight</th>\n",
              "      <th>ZipCode</th>\n",
              "      <th>SqFt</th>\n",
              "      <th>Shoes</th>\n",
              "      <th>Commute</th>\n",
              "      <th>Income</th>\n",
              "    </tr>\n",
              "  </thead>\n",
              "  <tbody>\n",
              "    <tr>\n",
              "      <th>count</th>\n",
              "      <td>2000.000000</td>\n",
              "      <td>2000.000000</td>\n",
              "      <td>2000.000000</td>\n",
              "      <td>2000.00000</td>\n",
              "      <td>2000.000000</td>\n",
              "      <td>2000.000000</td>\n",
              "      <td>1500.000000</td>\n",
              "    </tr>\n",
              "    <tr>\n",
              "      <th>mean</th>\n",
              "      <td>101000.500000</td>\n",
              "      <td>144.492835</td>\n",
              "      <td>3808.212000</td>\n",
              "      <td>2071.45350</td>\n",
              "      <td>7.134000</td>\n",
              "      <td>26.112925</td>\n",
              "      <td>66894.393680</td>\n",
              "    </tr>\n",
              "    <tr>\n",
              "      <th>std</th>\n",
              "      <td>577.494589</td>\n",
              "      <td>31.996841</td>\n",
              "      <td>3132.924239</td>\n",
              "      <td>587.90871</td>\n",
              "      <td>3.807005</td>\n",
              "      <td>18.726101</td>\n",
              "      <td>45953.545286</td>\n",
              "    </tr>\n",
              "    <tr>\n",
              "      <th>min</th>\n",
              "      <td>100001.000000</td>\n",
              "      <td>59.000000</td>\n",
              "      <td>221.000000</td>\n",
              "      <td>5.00000</td>\n",
              "      <td>0.000000</td>\n",
              "      <td>0.050000</td>\n",
              "      <td>754.080000</td>\n",
              "    </tr>\n",
              "    <tr>\n",
              "      <th>25%</th>\n",
              "      <td>100500.750000</td>\n",
              "      <td>120.642500</td>\n",
              "      <td>221.000000</td>\n",
              "      <td>1740.75000</td>\n",
              "      <td>4.000000</td>\n",
              "      <td>11.045000</td>\n",
              "      <td>34024.247500</td>\n",
              "    </tr>\n",
              "    <tr>\n",
              "      <th>50%</th>\n",
              "      <td>101000.500000</td>\n",
              "      <td>143.790000</td>\n",
              "      <td>3977.000000</td>\n",
              "      <td>2033.50000</td>\n",
              "      <td>7.000000</td>\n",
              "      <td>22.875000</td>\n",
              "      <td>54956.200000</td>\n",
              "    </tr>\n",
              "    <tr>\n",
              "      <th>75%</th>\n",
              "      <td>101500.250000</td>\n",
              "      <td>166.147500</td>\n",
              "      <td>6861.000000</td>\n",
              "      <td>2284.25000</td>\n",
              "      <td>10.000000</td>\n",
              "      <td>37.717500</td>\n",
              "      <td>86720.820000</td>\n",
              "    </tr>\n",
              "    <tr>\n",
              "      <th>max</th>\n",
              "      <td>102000.000000</td>\n",
              "      <td>249.070000</td>\n",
              "      <td>8161.000000</td>\n",
              "      <td>6495.00000</td>\n",
              "      <td>24.000000</td>\n",
              "      <td>117.070000</td>\n",
              "      <td>400211.640000</td>\n",
              "    </tr>\n",
              "  </tbody>\n",
              "</table>\n",
              "</div>\n",
              "      <button class=\"colab-df-convert\" onclick=\"convertToInteractive('df-1b0effd7-dbc3-4de5-9090-f6703538f2a9')\"\n",
              "              title=\"Convert this dataframe to an interactive table.\"\n",
              "              style=\"display:none;\">\n",
              "        \n",
              "  <svg xmlns=\"http://www.w3.org/2000/svg\" height=\"24px\"viewBox=\"0 0 24 24\"\n",
              "       width=\"24px\">\n",
              "    <path d=\"M0 0h24v24H0V0z\" fill=\"none\"/>\n",
              "    <path d=\"M18.56 5.44l.94 2.06.94-2.06 2.06-.94-2.06-.94-.94-2.06-.94 2.06-2.06.94zm-11 1L8.5 8.5l.94-2.06 2.06-.94-2.06-.94L8.5 2.5l-.94 2.06-2.06.94zm10 10l.94 2.06.94-2.06 2.06-.94-2.06-.94-.94-2.06-.94 2.06-2.06.94z\"/><path d=\"M17.41 7.96l-1.37-1.37c-.4-.4-.92-.59-1.43-.59-.52 0-1.04.2-1.43.59L10.3 9.45l-7.72 7.72c-.78.78-.78 2.05 0 2.83L4 21.41c.39.39.9.59 1.41.59.51 0 1.02-.2 1.41-.59l7.78-7.78 2.81-2.81c.8-.78.8-2.07 0-2.86zM5.41 20L4 18.59l7.72-7.72 1.47 1.35L5.41 20z\"/>\n",
              "  </svg>\n",
              "      </button>\n",
              "      \n",
              "  <style>\n",
              "    .colab-df-container {\n",
              "      display:flex;\n",
              "      flex-wrap:wrap;\n",
              "      gap: 12px;\n",
              "    }\n",
              "\n",
              "    .colab-df-convert {\n",
              "      background-color: #E8F0FE;\n",
              "      border: none;\n",
              "      border-radius: 50%;\n",
              "      cursor: pointer;\n",
              "      display: none;\n",
              "      fill: #1967D2;\n",
              "      height: 32px;\n",
              "      padding: 0 0 0 0;\n",
              "      width: 32px;\n",
              "    }\n",
              "\n",
              "    .colab-df-convert:hover {\n",
              "      background-color: #E2EBFA;\n",
              "      box-shadow: 0px 1px 2px rgba(60, 64, 67, 0.3), 0px 1px 3px 1px rgba(60, 64, 67, 0.15);\n",
              "      fill: #174EA6;\n",
              "    }\n",
              "\n",
              "    [theme=dark] .colab-df-convert {\n",
              "      background-color: #3B4455;\n",
              "      fill: #D2E3FC;\n",
              "    }\n",
              "\n",
              "    [theme=dark] .colab-df-convert:hover {\n",
              "      background-color: #434B5C;\n",
              "      box-shadow: 0px 1px 3px 1px rgba(0, 0, 0, 0.15);\n",
              "      filter: drop-shadow(0px 1px 2px rgba(0, 0, 0, 0.3));\n",
              "      fill: #FFFFFF;\n",
              "    }\n",
              "  </style>\n",
              "\n",
              "      <script>\n",
              "        const buttonEl =\n",
              "          document.querySelector('#df-1b0effd7-dbc3-4de5-9090-f6703538f2a9 button.colab-df-convert');\n",
              "        buttonEl.style.display =\n",
              "          google.colab.kernel.accessAllowed ? 'block' : 'none';\n",
              "\n",
              "        async function convertToInteractive(key) {\n",
              "          const element = document.querySelector('#df-1b0effd7-dbc3-4de5-9090-f6703538f2a9');\n",
              "          const dataTable =\n",
              "            await google.colab.kernel.invokeFunction('convertToInteractive',\n",
              "                                                     [key], {});\n",
              "          if (!dataTable) return;\n",
              "\n",
              "          const docLinkHtml = 'Like what you see? Visit the ' +\n",
              "            '<a target=\"_blank\" href=https://colab.research.google.com/notebooks/data_table.ipynb>data table notebook</a>'\n",
              "            + ' to learn more about interactive tables.';\n",
              "          element.innerHTML = '';\n",
              "          dataTable['output_type'] = 'display_data';\n",
              "          await google.colab.output.renderOutput(dataTable, element);\n",
              "          const docLink = document.createElement('div');\n",
              "          docLink.innerHTML = docLinkHtml;\n",
              "          element.appendChild(docLink);\n",
              "        }\n",
              "      </script>\n",
              "    </div>\n",
              "  </div>\n",
              "  "
            ]
          },
          "metadata": {},
          "execution_count": 3
        }
      ]
    },
    {
      "cell_type": "code",
      "source": [
        "# print(df[\"Tweet Text\"])\n",
        "print(\"Cleaning People df... \")\n",
        "print()\n",
        "\n",
        "#Have to add a .replace to some of these places \n",
        "#Maybe even just drop the whole column \n",
        "\n",
        "#We don't wan't to use the mask \n",
        "mask = people[\"Water\"].str.contains('[^\\?]')\n",
        "people[\"Water\"] = people[\"Water\"][mask]\n",
        "\n",
        "#Filling the NaN values with 0's \n",
        "people[\"Water\"] = people[\"Water\"].fillna(0)\n",
        "\n",
        "\n",
        "nmask = people[\"NumKids\"].str.contains('[^None]')\n",
        "people[\"NumKids\"] = people[\"NumKids\"][mask]\n",
        "\n",
        "print(\"Done...\")"
      ],
      "metadata": {
        "colab": {
          "base_uri": "https://localhost:8080/"
        },
        "id": "MhAbXooeGFVK",
        "outputId": "a4303a26-4e4d-48d1-82a7-ea11f8c5dba1"
      },
      "execution_count": 4,
      "outputs": [
        {
          "output_type": "stream",
          "name": "stdout",
          "text": [
            "Cleaning People df... \n",
            "\n",
            "Done...\n"
          ]
        }
      ]
    },
    {
      "cell_type": "code",
      "source": [
        "people['Water'] = people['Water'].astype(float)"
      ],
      "metadata": {
        "id": "YeoPUEx3PuHU"
      },
      "execution_count": 5,
      "outputs": []
    },
    {
      "cell_type": "code",
      "source": [
        "people.dtypes"
      ],
      "metadata": {
        "colab": {
          "base_uri": "https://localhost:8080/"
        },
        "id": "IgluDOO5PYOm",
        "outputId": "efeba73b-9f4e-4a9e-b30a-769a4b440fca"
      },
      "execution_count": 6,
      "outputs": [
        {
          "output_type": "execute_result",
          "data": {
            "text/plain": [
              "ID            int64\n",
              "Name         object\n",
              "Gender       object\n",
              "BirthDay     object\n",
              "Weight      float64\n",
              "ZipCode       int64\n",
              "SqFt          int64\n",
              "Pets         object\n",
              "Water       float64\n",
              "Shoes         int64\n",
              "Commute     float64\n",
              "NumKids      object\n",
              "Exercise     object\n",
              "Income      float64\n",
              "Beverage     object\n",
              "dtype: object"
            ]
          },
          "metadata": {},
          "execution_count": 6
        }
      ]
    },
    {
      "cell_type": "code",
      "source": [
        "mask"
      ],
      "metadata": {
        "id": "Xg8zDvteyLGs",
        "colab": {
          "base_uri": "https://localhost:8080/"
        },
        "outputId": "e5642c11-5205-47eb-b622-12769906c127"
      },
      "execution_count": 7,
      "outputs": [
        {
          "output_type": "execute_result",
          "data": {
            "text/plain": [
              "0        True\n",
              "1       False\n",
              "2        True\n",
              "3        True\n",
              "4       False\n",
              "        ...  \n",
              "1995     True\n",
              "1996     True\n",
              "1997     True\n",
              "1998     True\n",
              "1999     True\n",
              "Name: Water, Length: 2000, dtype: bool"
            ]
          },
          "metadata": {},
          "execution_count": 7
        }
      ]
    },
    {
      "cell_type": "code",
      "source": [
        "import seaborn as sns \n",
        "import matplotlib.pyplot as plt"
      ],
      "metadata": {
        "id": "IZzSZu8aK_Sa"
      },
      "execution_count": 8,
      "outputs": []
    },
    {
      "cell_type": "code",
      "source": [
        "#Changing the birthday column to age \n",
        "people['Birthday'] = pd.to_datetime(people.BirthDay) \n"
      ],
      "metadata": {
        "id": "4mE8uiSTKAo-"
      },
      "execution_count": 9,
      "outputs": []
    },
    {
      "cell_type": "code",
      "source": [
        "people[\"ZipCode\"].value_counts().plot(kind='bar', title=\"Zip Code\")"
      ],
      "metadata": {
        "id": "aX65JSBaLG99",
        "colab": {
          "base_uri": "https://localhost:8080/",
          "height": 315
        },
        "outputId": "94c333f5-fbdc-4da4-bfa8-59ee57dcbadd"
      },
      "execution_count": 10,
      "outputs": [
        {
          "output_type": "execute_result",
          "data": {
            "text/plain": [
              "<matplotlib.axes._subplots.AxesSubplot at 0x7fb28da66890>"
            ]
          },
          "metadata": {},
          "execution_count": 10
        },
        {
          "output_type": "display_data",
          "data": {
            "text/plain": [
              "<Figure size 432x288 with 1 Axes>"
            ],
            "image/png": "[encoded data removed]"
          },
          "metadata": {
            "needs_background": "light"
          }
        }
      ]
    },
    {
      "cell_type": "code",
      "source": [
        "people[\"Beverage\"].value_counts().plot(kind='bar', title=\"Beverage\")"
      ],
      "metadata": {
        "id": "EAg7FjAc3zHE",
        "colab": {
          "base_uri": "https://localhost:8080/",
          "height": 343
        },
        "outputId": "5fa822c4-ec75-4c09-ce03-23a556b4bac8"
      },
      "execution_count": 11,
      "outputs": [
        {
          "output_type": "execute_result",
          "data": {
            "text/plain": [
              "<matplotlib.axes._subplots.AxesSubplot at 0x7fb28d974350>"
            ]
          },
          "metadata": {},
          "execution_count": 11
        },
        {
          "output_type": "display_data",
          "data": {
            "text/plain": [
              "<Figure size 432x288 with 1 Axes>"
            ],
            "image/png": "[encoded data removed]"
          },
          "metadata": {
            "needs_background": "light"
          }
        }
      ]
    },
    {
      "cell_type": "code",
      "source": [
        "people[\"Exercise\"].value_counts().plot(kind='bar', title=\"Exercise\")"
      ],
      "metadata": {
        "id": "sRbPs3Qu36l1",
        "colab": {
          "base_uri": "https://localhost:8080/",
          "height": 329
        },
        "outputId": "5423aa09-6cba-438a-fa33-303379c78733"
      },
      "execution_count": 12,
      "outputs": [
        {
          "output_type": "execute_result",
          "data": {
            "text/plain": [
              "<matplotlib.axes._subplots.AxesSubplot at 0x7fb28d986cd0>"
            ]
          },
          "metadata": {},
          "execution_count": 12
        },
        {
          "output_type": "display_data",
          "data": {
            "text/plain": [
              "<Figure size 432x288 with 1 Axes>"
            ],
            "image/png": "[encoded data removed]"
          },
          "metadata": {
            "needs_background": "light"
          }
        }
      ]
    },
    {
      "cell_type": "code",
      "source": [
        "people[\"NumKids\"].value_counts(dropna=False).plot(kind='bar', title=\"Number of Kids\")"
      ],
      "metadata": {
        "id": "flL3miUU3_Jt",
        "colab": {
          "base_uri": "https://localhost:8080/",
          "height": 315
        },
        "outputId": "9237b0fa-31a8-47aa-9660-67d25c442f57"
      },
      "execution_count": 13,
      "outputs": [
        {
          "output_type": "execute_result",
          "data": {
            "text/plain": [
              "<matplotlib.axes._subplots.AxesSubplot at 0x7fb28d422810>"
            ]
          },
          "metadata": {},
          "execution_count": 13
        },
        {
          "output_type": "display_data",
          "data": {
            "text/plain": [
              "<Figure size 432x288 with 1 Axes>"
            ],
            "image/png": "[encoded data removed]"
          },
          "metadata": {
            "needs_background": "light"
          }
        }
      ]
    },
    {
      "cell_type": "code",
      "source": [
        "people[\"Gender\"].value_counts().plot(kind='bar', title=\"Gender\")"
      ],
      "metadata": {
        "id": "Jh0pOGQ54zVz",
        "colab": {
          "base_uri": "https://localhost:8080/",
          "height": 298
        },
        "outputId": "05b1251b-bbb6-46a0-a5db-a50a6e6624c2"
      },
      "execution_count": 14,
      "outputs": [
        {
          "output_type": "execute_result",
          "data": {
            "text/plain": [
              "<matplotlib.axes._subplots.AxesSubplot at 0x7fb28d3abf10>"
            ]
          },
          "metadata": {},
          "execution_count": 14
        },
        {
          "output_type": "display_data",
          "data": {
            "text/plain": [
              "<Figure size 432x288 with 1 Axes>"
            ],
            "image/png": "[encoded data removed]"
          },
          "metadata": {
            "needs_background": "light"
          }
        }
      ]
    },
    {
      "cell_type": "code",
      "source": [
        "people[\"Weight\"].plot(kind='hist', title=\"Weight\", bins=8)"
      ],
      "metadata": {
        "id": "9M4ygFzq42oZ",
        "colab": {
          "base_uri": "https://localhost:8080/",
          "height": 299
        },
        "outputId": "52aa2785-e251-40ae-dc78-53af83054d20"
      },
      "execution_count": 15,
      "outputs": [
        {
          "output_type": "execute_result",
          "data": {
            "text/plain": [
              "<matplotlib.axes._subplots.AxesSubplot at 0x7fb28d306a90>"
            ]
          },
          "metadata": {},
          "execution_count": 15
        },
        {
          "output_type": "display_data",
          "data": {
            "text/plain": [
              "<Figure size 432x288 with 1 Axes>"
            ],
            "image/png": "[encoded data removed]"
          },
          "metadata": {
            "needs_background": "light"
          }
        }
      ]
    },
    {
      "cell_type": "code",
      "source": [
        "people[\"Income\"].plot(kind='hist', title=\"Income\", bins=13)"
      ],
      "metadata": {
        "id": "olaw22DP47-d",
        "colab": {
          "base_uri": "https://localhost:8080/",
          "height": 299
        },
        "outputId": "05283a68-fee7-4c74-b6ee-390ae39a40bc"
      },
      "execution_count": 16,
      "outputs": [
        {
          "output_type": "execute_result",
          "data": {
            "text/plain": [
              "<matplotlib.axes._subplots.AxesSubplot at 0x7fb28d2a5d90>"
            ]
          },
          "metadata": {},
          "execution_count": 16
        },
        {
          "output_type": "display_data",
          "data": {
            "text/plain": [
              "<Figure size 432x288 with 1 Axes>"
            ],
            "image/png": "[encoded data removed]"
          },
          "metadata": {
            "needs_background": "light"
          }
        }
      ]
    },
    {
      "cell_type": "code",
      "source": [
        "people[\"Shoes\"].plot(kind='hist', title=\"Shoes\", bins=8)"
      ],
      "metadata": {
        "id": "8FY2dmwd5Ake",
        "colab": {
          "base_uri": "https://localhost:8080/",
          "height": 299
        },
        "outputId": "40a099b8-bb35-4a46-ce5a-f9178427f702"
      },
      "execution_count": 17,
      "outputs": [
        {
          "output_type": "execute_result",
          "data": {
            "text/plain": [
              "<matplotlib.axes._subplots.AxesSubplot at 0x7fb28d1c6310>"
            ]
          },
          "metadata": {},
          "execution_count": 17
        },
        {
          "output_type": "display_data",
          "data": {
            "text/plain": [
              "<Figure size 432x288 with 1 Axes>"
            ],
            "image/png": "[encoded data removed]"
          },
          "metadata": {
            "needs_background": "light"
          }
        }
      ]
    },
    {
      "cell_type": "code",
      "source": [
        "print(people[\"ZipCode\"].value_counts())"
      ],
      "metadata": {
        "id": "88JjR0Mr5DjI",
        "colab": {
          "base_uri": "https://localhost:8080/"
        },
        "outputId": "701e940e-035b-4f4f-916a-f4c4f4f99dfc"
      },
      "execution_count": 18,
      "outputs": [
        {
          "output_type": "stream",
          "name": "stdout",
          "text": [
            "221     596\n",
            "3977    393\n",
            "8161    307\n",
            "6861    208\n",
            "7770    104\n",
            "4532     96\n",
            "849      95\n",
            "445      92\n",
            "6393     90\n",
            "2585     19\n",
            "Name: ZipCode, dtype: int64\n"
          ]
        }
      ]
    },
    {
      "cell_type": "markdown",
      "source": [
        "Obeservations about data:\n",
        "\n",
        "- about 75% of the entries live in the Zipcodes 221, 3977, 8161, and 6861\n",
        "- Most people own 5-10 pairs of shoes\n",
        "- The data is provided by nearly 50% women and 50% men\n",
        "- Most of these entries have kids and earn around $50,000"
      ],
      "metadata": {
        "id": "_TMEHbkr5b9m"
      }
    },
    {
      "cell_type": "markdown",
      "source": [
        "#### 3"
      ],
      "metadata": {
        "id": "PwLpNfLh5ewL"
      }
    },
    {
      "cell_type": "markdown",
      "source": [
        "#### a"
      ],
      "metadata": {
        "id": "pdq3d6Fi5jCH"
      }
    },
    {
      "cell_type": "code",
      "source": [
        "import networkx as nx \n",
        "from operator import itemgetter "
      ],
      "metadata": {
        "id": "-MkukB5r7GKM"
      },
      "execution_count": 19,
      "outputs": []
    },
    {
      "cell_type": "code",
      "source": [
        "\n",
        "node_names = social_connect.iloc[:, 0].unique()\n",
        "\n",
        "edges = []\n",
        "\n",
        "for index, row in social_connect.iterrows():\n",
        "  source = row.iloc[0]\n",
        "  target = row.iloc[1]\n",
        "  edges.append((source, target))\n",
        "\n",
        "print(\"num of nodes:\",len(node_names))\n",
        "print(\"num edges:\",len(edges))\n",
        "\n",
        "G = nx.Graph()\n",
        "G.add_nodes_from(node_names)\n",
        "G.add_edges_from(edges)\n",
        "\n",
        "print(nx.info(G))"
      ],
      "metadata": {
        "id": "a7IwfSAF5Y0F",
        "colab": {
          "base_uri": "https://localhost:8080/"
        },
        "outputId": "280aba6a-74f5-4414-ca2d-da3ff184949a"
      },
      "execution_count": 20,
      "outputs": [
        {
          "output_type": "stream",
          "name": "stdout",
          "text": [
            "num of nodes: 1820\n",
            "num edges: 10645\n",
            "Graph with 2000 nodes and 10645 edges\n"
          ]
        }
      ]
    },
    {
      "cell_type": "markdown",
      "source": [
        "#### b"
      ],
      "metadata": {
        "id": "i_Xwo8u87OGo"
      }
    },
    {
      "cell_type": "code",
      "source": [
        "# Calculate the best position for laying out the nodes graphically.\n",
        "# k controls how far apart nodes are forced to be and will usually need to be\n",
        "# adjusted for each different graph.\n",
        "pos = nx.spring_layout(G, k=1.0)\n",
        "\n",
        "plt.figure(figsize=(10,10))\n",
        "nx.draw(G, pos=pos, with_labels=False,\n",
        "        node_color='#33ddff', node_size=100,\n",
        "        edge_color='#ffaa00', width=0.5)\n",
        "plt.show()"
      ],
      "metadata": {
        "colab": {
          "base_uri": "https://localhost:8080/",
          "height": 646
        },
        "id": "Nd1D0n4268BM",
        "outputId": "d75ab8bc-78fb-41a0-a7a5-e1957a751990"
      },
      "execution_count": 21,
      "outputs": [
        {
          "output_type": "display_data",
          "data": {
            "text/plain": [
              "<Figure size 720x720 with 1 Axes>"
            ],
            "image/png": "[encoded data removed]"
          },
          "metadata": {}
        }
      ]
    },
    {
      "cell_type": "markdown",
      "source": [
        "#### c"
      ],
      "metadata": {
        "id": "v5M0Tk7X7Whu"
      }
    },
    {
      "cell_type": "code",
      "source": [
        "print('- In Degree Centrality:\\n', sorted(nx.degree_centrality(G).items(), key=itemgetter(1))[:20])\n",
        "print('\\n- Betweenness Centrality:\\n', (sorted(nx.betweenness_centrality(G).items(), key=itemgetter(1)))[:20])\n",
        "print('\\n- Closeness Centrality:\\n', (sorted(nx.closeness_centrality(G).items(), key=itemgetter(1)))[:20])\n",
        "print('\\n- Eigenvector Centrality\\n', (sorted(nx.eigenvector_centrality(G).items(), key=itemgetter(1)))[:20])"
      ],
      "metadata": {
        "colab": {
          "base_uri": "https://localhost:8080/"
        },
        "id": "nhB2QFd67RtR",
        "outputId": "d32681ec-5a5b-4096-facb-e9b5555155a2"
      },
      "execution_count": 22,
      "outputs": [
        {
          "output_type": "stream",
          "name": "stdout",
          "text": [
            "- In Degree Centrality:\n",
            " [(101007, 0.0005002501250625312), (100797, 0.0010005002501250625), (101557, 0.0010005002501250625), (100903, 0.0010005002501250625), (100283, 0.0010005002501250625), (100924, 0.0015007503751875936), (100121, 0.0015007503751875936), (101990, 0.0015007503751875936), (100570, 0.0015007503751875936), (101131, 0.0015007503751875936), (100336, 0.0015007503751875936), (101162, 0.0015007503751875936), (100070, 0.0015007503751875936), (100847, 0.0015007503751875936), (101427, 0.0015007503751875936), (101330, 0.0015007503751875936), (101810, 0.0015007503751875936), (101099, 0.0015007503751875936), (100305, 0.0015007503751875936), (100916, 0.0015007503751875936)]\n",
            "\n",
            "- Betweenness Centrality:\n",
            " [(101007, 0.0), (100797, 6.730330225411099e-07), (100283, 9.359889694516403e-06), (101810, 9.565668510981517e-06), (100070, 1.076912625539971e-05), (100807, 1.611336175945273e-05), (101475, 1.9521668423460423e-05), (101990, 2.523337487269926e-05), (100209, 2.5411758085132305e-05), (100618, 2.5443032353500935e-05), (100924, 2.5907583705715582e-05), (100336, 2.8034027636084786e-05), (101765, 3.044325979419611e-05), (100248, 3.19614477359357e-05), (100991, 3.377185208955045e-05), (101099, 3.645706125730621e-05), (101164, 3.806425960827579e-05), (101346, 3.913146976838009e-05), (101330, 4.063489748876974e-05), (100813, 4.190769333588807e-05)]\n",
            "\n",
            "- Closeness Centrality:\n",
            " [(101007, 0.15930825629582404), (101330, 0.16012495994873438), (100283, 0.1627187627187627), (101099, 0.16464871097932626), (100634, 0.16464871097932626), (101810, 0.16557607885364037), (101189, 0.16630615640599003), (101164, 0.16833684210526315), (100070, 0.16903433113478775), (101707, 0.1697232127695704), (100807, 0.17014213975657502), (100472, 0.17021457765667575), (100847, 0.17065050367082124), (100306, 0.17122055674518202), (101296, 0.1717649080598041), (100119, 0.1718830610490112), (101399, 0.17217915590008614), (100254, 0.1721939874235507), (100236, 0.17220882150241212), (100305, 0.17240189736955586)]\n",
            "\n",
            "- Eigenvector Centrality\n",
            " [(100283, 5.277005717427245e-07), (101330, 9.950401563452415e-07), (101007, 1.102604190350322e-06), (100305, 1.4585655873652346e-06), (101810, 2.3496565103690617e-06), (100870, 2.481687786819948e-06), (101707, 2.9175763657913396e-06), (100390, 3.0318569627742704e-06), (101396, 3.0665453482937328e-06), (100688, 3.1600282529361584e-06), (100835, 3.358720385678768e-06), (101491, 3.447410232568663e-06), (100211, 3.805926503144207e-06), (100306, 3.8110837569833025e-06), (100737, 3.914215370288473e-06), (101970, 3.9598464480273334e-06), (100300, 3.992343733668842e-06), (100671, 4.075533396828809e-06), (100620, 4.163160697675503e-06), (101742, 4.358220318695909e-06)]\n"
          ]
        }
      ]
    },
    {
      "cell_type": "code",
      "source": [
        "# This library helps find communities within social network graphs\n",
        "import networkx.algorithms.community as nxcom\n",
        "\n",
        "# For large networks, this may take a while (34 seconds)\n",
        "communities = sorted(nxcom.greedy_modularity_communities(G), key=len, reverse=True)\n",
        "\n",
        "# communities is a list of sets of vertices\n",
        "# E.g., communities[0] is a list of the vertices in the first community\n",
        "print(len(communities), 'communities found')\n",
        "\n",
        "# Let's use a colormap to define colors for our communities\n",
        "from matplotlib import cm\n",
        "# this colormap has RGB values for 20 distinct colors\n",
        "cm.tab20.colors\n",
        "\n",
        "\n",
        "# Helper functions to labels nodes/edges with community\n",
        "def set_node_community(G, communities):\n",
        "    '''Add community to node attributes'''\n",
        "    for c, v_c in enumerate(communities):\n",
        "        for v in v_c:\n",
        "            # Add 1 to save 0 for external edges\n",
        "            G.nodes[v]['community'] = c + 1\n",
        "            \n",
        "def set_edge_community(G):\n",
        "    '''Find internal edges and add their community to their attributes'''\n",
        "    for v, w, in G.edges:\n",
        "        if G.nodes[v]['community'] == G.nodes[w]['community']:\n",
        "            # Internal edge, mark with community\n",
        "            G.edges[v, w]['community'] = G.nodes[v]['community']\n",
        "        else:\n",
        "            # External edge, mark as 0\n",
        "            G.edges[v, w]['community'] = 0\n",
        "\n",
        "# Helper function to get distinct colors for display\n",
        "def get_color(i):\n",
        "    colors = cm.tab20.colors\n",
        "\n",
        "    # If i gets too big for how many colors we have, wrap around\n",
        "    if i > len(colors)-5:\n",
        "        i = i % len(colors)\n",
        "\n",
        "    return colors[i]\n",
        "\n",
        "\n",
        "# Set node and edge communities\n",
        "set_node_community(G, communities)\n",
        "set_edge_community(G)\n",
        "\n",
        "\n",
        "# Set community color for internal edges\n",
        "external = [(v, w) for v, w in G.edges if G.edges[v, w]['community'] == 0]\n",
        "internal = [(v, w) for v, w in G.edges if G.edges[v, w]['community'] > 0]\n",
        "internal_color = [get_color(G.edges[e]['community']) for e in internal]\n",
        "\n",
        "\n",
        "\n",
        "# Draw external edges\n",
        "pos = nx.spring_layout(G, k=0.1)\n",
        "nx.draw_networkx(\n",
        "    G, pos=pos, node_size=0,\n",
        "    edgelist=external, edge_color=\"#333333\",\n",
        "    alpha=0.2, with_labels=False)\n",
        "# Draw internal edges\n",
        "nx.draw_networkx(\n",
        "    G, pos=pos, node_size=0,\n",
        "    edgelist=internal, edge_color=internal_color,\n",
        "    alpha=0.05, with_labels=False)"
      ],
      "metadata": {
        "colab": {
          "base_uri": "https://localhost:8080/",
          "height": 266
        },
        "id": "KSJN5u2y7Z8i",
        "outputId": "5be5f7b7-f226-405f-ea51-3248b9081d36"
      },
      "execution_count": 23,
      "outputs": [
        {
          "output_type": "stream",
          "name": "stdout",
          "text": [
            "8 communities found\n"
          ]
        },
        {
          "output_type": "display_data",
          "data": {
            "text/plain": [
              "<Figure size 432x288 with 1 Axes>"
            ],
            "image/png": "[encoded data removed]"
          },
          "metadata": {}
        }
      ]
    },
    {
      "cell_type": "markdown",
      "source": [
        "#### 4"
      ],
      "metadata": {
        "id": "O_UvmfHp8ZOc"
      }
    },
    {
      "cell_type": "code",
      "source": [
        "social_media['PosterID'].value_counts().plot(kind='hist')"
      ],
      "metadata": {
        "colab": {
          "base_uri": "https://localhost:8080/",
          "height": 283
        },
        "id": "GAa-cOYf8QoC",
        "outputId": "ff7a6daa-0ad9-4ea0-a4af-f1deaf8e04f3"
      },
      "execution_count": 24,
      "outputs": [
        {
          "output_type": "execute_result",
          "data": {
            "text/plain": [
              "<matplotlib.axes._subplots.AxesSubplot at 0x7fb28d18da90>"
            ]
          },
          "metadata": {},
          "execution_count": 24
        },
        {
          "output_type": "display_data",
          "data": {
            "text/plain": [
              "<Figure size 432x288 with 1 Axes>"
            ],
            "image/png": "[encoded data removed]"
          },
          "metadata": {
            "needs_background": "light"
          }
        }
      ]
    },
    {
      "cell_type": "code",
      "source": [
        "sc_corpus = pd.DataFrame(social_media[\"Post\"].to_numpy(), columns=['doc_text'])\n",
        "# print(sc_corpus)\n",
        "\n",
        "from sklearn.feature_extraction.text import CountVectorizer\n",
        "\n",
        "# Specify stop words that should be ignored.\n",
        "stop_list = ['a', 'an', 'the', 'and', 'has', 'I', 'in', 'for', 'but', 'of',\n",
        "              'not', 'can', 'are', 'not', 'when', 'it', 'is', 'its', 'comes',\n",
        "              'do', 'be', 'how', 'put', 'able', 'been', 'just', 'into', 'so', 'me',\n",
        "              'you', 'we', 'our', 'on', 'to', 'rt', 'co', 'your', 'this', 'with',\n",
        "              'at', 'about', 'from', 'that', 'great', 'you', 'by', 'with', 'at',\n",
        "              'what', 'as', 'they', 'my', 'them', 'had', 'me', 'was', 'have', 'would',\n",
        "              'their', 'all', 'or', 'no', '00', 'xxxx', 'xx', 'am', 'did', 'which',\n",
        "             'told']\n",
        "\n",
        "count_vect = CountVectorizer(lowercase=True, stop_words=stop_list, max_features=25)\n",
        "sparse_counts = count_vect.fit_transform(sc_corpus['doc_text'])\n",
        "\n",
        "counts = np.asarray(sparse_counts.todense())\n",
        "\n",
        "count_vect.get_feature_names_out()\n",
        "\n",
        "terms = count_vect.get_feature_names_out()\n",
        "total_counts = counts.sum(axis=0)\n",
        "\n",
        "df_counts = pd.DataFrame()\n",
        "df_counts['term'] = terms\n",
        "df_counts['count'] = total_counts\n",
        "df_counts = df_counts.sort_values(by='count', ascending=False)\n",
        "\n",
        "# Just keep the top 10\n",
        "df_counts = df_counts.iloc[:10]\n",
        "\n",
        "df_counts.plot(y='count', x='term', kind='barh', legend=None, figsize=(10, 5))\n",
        "plt.xlabel('Count')\n",
        "plt.ylabel('Term')\n",
        "plt.title('Most frequently used terms')\n",
        "plt.show()\n"
      ],
      "metadata": {
        "colab": {
          "base_uri": "https://localhost:8080/",
          "height": 345
        },
        "id": "zPUGJcEr8cm4",
        "outputId": "71e070c5-6319-48a8-8694-6385ddaa5bdd"
      },
      "execution_count": 25,
      "outputs": [
        {
          "output_type": "display_data",
          "data": {
            "text/plain": [
              "<Figure size 720x360 with 1 Axes>"
            ],
            "image/png": "[encoded data removed]"
          },
          "metadata": {
            "needs_background": "light"
          }
        }
      ]
    },
    {
      "cell_type": "markdown",
      "source": [
        "In the text there were a lot of instances where people were using 'xxx' or 'xxxx'. I assume this means seneitive information was being blocked.\n",
        "\n",
        "The demographic must be working individuals because the common words are mostly financial in nature. This could be a forum for people to release their finanical frustrations, hence debt is at the top of the chart\n",
        "\n"
      ],
      "metadata": {
        "id": "Jrwfp7jJ8neB"
      }
    },
    {
      "cell_type": "code",
      "source": [
        ""
      ],
      "metadata": {
        "id": "ZB0QSHfztUKQ"
      },
      "execution_count": 25,
      "outputs": []
    },
    {
      "cell_type": "markdown",
      "source": [
        "###5"
      ],
      "metadata": {
        "id": "HGh888pr_Bnf"
      }
    },
    {
      "cell_type": "code",
      "source": [
        "people.head(1)"
      ],
      "metadata": {
        "colab": {
          "base_uri": "https://localhost:8080/",
          "height": 162
        },
        "id": "4OTALeWdcUdw",
        "outputId": "19778077-6e50-4311-9c02-aa6dbc03d149"
      },
      "execution_count": 26,
      "outputs": [
        {
          "output_type": "execute_result",
          "data": {
            "text/plain": [
              "       ID             Name Gender    BirthDay  Weight  ZipCode  SqFt  \\\n",
              "0  100001  Imogene Hackett      F  1939-10-17  164.24      221  2044   \n",
              "\n",
              "                              Pets  Water  Shoes  Commute NumKids Exercise  \\\n",
              "0  dog,cat,cat,hamster,hamster,dog  114.1      9    42.13       1      Low   \n",
              "\n",
              "     Income Beverage   Birthday  \n",
              "0  89897.46   Coffee 1939-10-17  "
            ],
            "text/html": [
              "\n",
              "  <div id=\"df-2edd04ea-5f5b-4180-ac59-8c3d1aff18a8\">\n",
              "    <div class=\"colab-df-container\">\n",
              "      <div>\n",
              "<style scoped>\n",
              "    .dataframe tbody tr th:only-of-type {\n",
              "        vertical-align: middle;\n",
              "    }\n",
              "\n",
              "    .dataframe tbody tr th {\n",
              "        vertical-align: top;\n",
              "    }\n",
              "\n",
              "    .dataframe thead th {\n",
              "        text-align: right;\n",
              "    }\n",
              "</style>\n",
              "<table border=\"1\" class=\"dataframe\">\n",
              "  <thead>\n",
              "    <tr style=\"text-align: right;\">\n",
              "      <th></th>\n",
              "      <th>ID</th>\n",
              "      <th>Name</th>\n",
              "      <th>Gender</th>\n",
              "      <th>BirthDay</th>\n",
              "      <th>Weight</th>\n",
              "      <th>ZipCode</th>\n",
              "      <th>SqFt</th>\n",
              "      <th>Pets</th>\n",
              "      <th>Water</th>\n",
              "      <th>Shoes</th>\n",
              "      <th>Commute</th>\n",
              "      <th>NumKids</th>\n",
              "      <th>Exercise</th>\n",
              "      <th>Income</th>\n",
              "      <th>Beverage</th>\n",
              "      <th>Birthday</th>\n",
              "    </tr>\n",
              "  </thead>\n",
              "  <tbody>\n",
              "    <tr>\n",
              "      <th>0</th>\n",
              "      <td>100001</td>\n",
              "      <td>Imogene Hackett</td>\n",
              "      <td>F</td>\n",
              "      <td>1939-10-17</td>\n",
              "      <td>164.24</td>\n",
              "      <td>221</td>\n",
              "      <td>2044</td>\n",
              "      <td>dog,cat,cat,hamster,hamster,dog</td>\n",
              "      <td>114.1</td>\n",
              "      <td>9</td>\n",
              "      <td>42.13</td>\n",
              "      <td>1</td>\n",
              "      <td>Low</td>\n",
              "      <td>89897.46</td>\n",
              "      <td>Coffee</td>\n",
              "      <td>1939-10-17</td>\n",
              "    </tr>\n",
              "  </tbody>\n",
              "</table>\n",
              "</div>\n",
              "      <button class=\"colab-df-convert\" onclick=\"convertToInteractive('df-2edd04ea-5f5b-4180-ac59-8c3d1aff18a8')\"\n",
              "              title=\"Convert this dataframe to an interactive table.\"\n",
              "              style=\"display:none;\">\n",
              "        \n",
              "  <svg xmlns=\"http://www.w3.org/2000/svg\" height=\"24px\"viewBox=\"0 0 24 24\"\n",
              "       width=\"24px\">\n",
              "    <path d=\"M0 0h24v24H0V0z\" fill=\"none\"/>\n",
              "    <path d=\"M18.56 5.44l.94 2.06.94-2.06 2.06-.94-2.06-.94-.94-2.06-.94 2.06-2.06.94zm-11 1L8.5 8.5l.94-2.06 2.06-.94-2.06-.94L8.5 2.5l-.94 2.06-2.06.94zm10 10l.94 2.06.94-2.06 2.06-.94-2.06-.94-.94-2.06-.94 2.06-2.06.94z\"/><path d=\"M17.41 7.96l-1.37-1.37c-.4-.4-.92-.59-1.43-.59-.52 0-1.04.2-1.43.59L10.3 9.45l-7.72 7.72c-.78.78-.78 2.05 0 2.83L4 21.41c.39.39.9.59 1.41.59.51 0 1.02-.2 1.41-.59l7.78-7.78 2.81-2.81c.8-.78.8-2.07 0-2.86zM5.41 20L4 18.59l7.72-7.72 1.47 1.35L5.41 20z\"/>\n",
              "  </svg>\n",
              "      </button>\n",
              "      \n",
              "  <style>\n",
              "    .colab-df-container {\n",
              "      display:flex;\n",
              "      flex-wrap:wrap;\n",
              "      gap: 12px;\n",
              "    }\n",
              "\n",
              "    .colab-df-convert {\n",
              "      background-color: #E8F0FE;\n",
              "      border: none;\n",
              "      border-radius: 50%;\n",
              "      cursor: pointer;\n",
              "      display: none;\n",
              "      fill: #1967D2;\n",
              "      height: 32px;\n",
              "      padding: 0 0 0 0;\n",
              "      width: 32px;\n",
              "    }\n",
              "\n",
              "    .colab-df-convert:hover {\n",
              "      background-color: #E2EBFA;\n",
              "      box-shadow: 0px 1px 2px rgba(60, 64, 67, 0.3), 0px 1px 3px 1px rgba(60, 64, 67, 0.15);\n",
              "      fill: #174EA6;\n",
              "    }\n",
              "\n",
              "    [theme=dark] .colab-df-convert {\n",
              "      background-color: #3B4455;\n",
              "      fill: #D2E3FC;\n",
              "    }\n",
              "\n",
              "    [theme=dark] .colab-df-convert:hover {\n",
              "      background-color: #434B5C;\n",
              "      box-shadow: 0px 1px 3px 1px rgba(0, 0, 0, 0.15);\n",
              "      filter: drop-shadow(0px 1px 2px rgba(0, 0, 0, 0.3));\n",
              "      fill: #FFFFFF;\n",
              "    }\n",
              "  </style>\n",
              "\n",
              "      <script>\n",
              "        const buttonEl =\n",
              "          document.querySelector('#df-2edd04ea-5f5b-4180-ac59-8c3d1aff18a8 button.colab-df-convert');\n",
              "        buttonEl.style.display =\n",
              "          google.colab.kernel.accessAllowed ? 'block' : 'none';\n",
              "\n",
              "        async function convertToInteractive(key) {\n",
              "          const element = document.querySelector('#df-2edd04ea-5f5b-4180-ac59-8c3d1aff18a8');\n",
              "          const dataTable =\n",
              "            await google.colab.kernel.invokeFunction('convertToInteractive',\n",
              "                                                     [key], {});\n",
              "          if (!dataTable) return;\n",
              "\n",
              "          const docLinkHtml = 'Like what you see? Visit the ' +\n",
              "            '<a target=\"_blank\" href=https://colab.research.google.com/notebooks/data_table.ipynb>data table notebook</a>'\n",
              "            + ' to learn more about interactive tables.';\n",
              "          element.innerHTML = '';\n",
              "          dataTable['output_type'] = 'display_data';\n",
              "          await google.colab.output.renderOutput(dataTable, element);\n",
              "          const docLink = document.createElement('div');\n",
              "          docLink.innerHTML = docLinkHtml;\n",
              "          element.appendChild(docLink);\n",
              "        }\n",
              "      </script>\n",
              "    </div>\n",
              "  </div>\n",
              "  "
            ]
          },
          "metadata": {},
          "execution_count": 26
        }
      ]
    },
    {
      "cell_type": "code",
      "source": [
        "people['Exercise'].value_counts()"
      ],
      "metadata": {
        "colab": {
          "base_uri": "https://localhost:8080/"
        },
        "id": "t1tt2FWwJlry",
        "outputId": "618d29e4-a7e2-4696-b178-e60c19de0608"
      },
      "execution_count": 27,
      "outputs": [
        {
          "output_type": "execute_result",
          "data": {
            "text/plain": [
              "None      682\n",
              "Low       495\n",
              "High      486\n",
              "Medium    337\n",
              "Name: Exercise, dtype: int64"
            ]
          },
          "metadata": {},
          "execution_count": 27
        }
      ]
    },
    {
      "cell_type": "code",
      "source": [
        "from sklearn.linear_model import LinearRegression\n",
        "from sklearn.model_selection import train_test_split\n",
        "from sklearn.tree import DecisionTreeRegressor \n",
        "from sklearn.preprocessing import PolynomialFeatures \n",
        "from sklearn.pipeline import make_pipeline \n",
        "\n",
        "#First 1500 rows \n",
        "p1500 = people.head(1500) \n",
        "\n",
        "#Last 500 rows \n",
        "p500 = people.tail(500) \n",
        "\n",
        "#Training data \n",
        "Xtrain = p1500[['Gender','Weight',  'SqFt', 'Water', 'Shoes', 'Commute', 'NumKids', 'Exercise']]\n",
        "\n",
        "#Getting dummies to make data better \n",
        "Xdumb = pd.get_dummies(Xtrain)\n",
        "\n",
        "#normalize the data \n",
        "\n",
        "#Training output \n",
        "ytrain= p1500['Income'] \n",
        "\n",
        "#Test variables from the last 500 rows \n",
        "Xtest = p500[['Gender','Weight', 'SqFt', 'Water', 'Shoes', 'Commute', 'NumKids', 'Exercise']]\n",
        "\n",
        "#Remove ytest because we have to predict it, and we don't have the right answers \n",
        "#ytest = p500['Income']\n",
        "\n",
        "# from sklearn.model_selection import train_test_split\n",
        "#Xtrain, Xtest, ytrain, ytest = train_test_split(X, y, test_size=.25, random_state=0)\n",
        "\n",
        "\n",
        "\n"
      ],
      "metadata": {
        "id": "i89YdtTk8iDl"
      },
      "execution_count": 28,
      "outputs": []
    },
    {
      "cell_type": "code",
      "source": [
        " #Getting dummies \n",
        "Xdumb2 = pd.get_dummies(Xtest)"
      ],
      "metadata": {
        "id": "4swrtAiquwCP"
      },
      "execution_count": 29,
      "outputs": []
    },
    {
      "cell_type": "code",
      "source": [
        "#Creating the model, we have 8 attributes to try "
      ],
      "metadata": {
        "id": "QiaJJFMVl-nT"
      },
      "execution_count": 30,
      "outputs": []
    },
    {
      "cell_type": "code",
      "source": [
        "\n",
        "model = LinearRegression()\n",
        "model.fit(Xdumb,ytrain) \n",
        "#DT_model = DecisionTreeRegressor(max_depth=5).fit(Xtrain,ytrain)\n",
        "#DT_predict = DT_model.predict(X_test) #Predictions on Testing data "
      ],
      "metadata": {
        "id": "4ek61ERSEJqN",
        "colab": {
          "base_uri": "https://localhost:8080/"
        },
        "outputId": "d3f07ce7-9c0d-474b-a70d-7303bb20d3b1"
      },
      "execution_count": 31,
      "outputs": [
        {
          "output_type": "execute_result",
          "data": {
            "text/plain": [
              "LinearRegression()"
            ]
          },
          "metadata": {},
          "execution_count": 31
        }
      ]
    },
    {
      "cell_type": "code",
      "source": [
        "#predicting the data \n",
        "ytest = model.predict(Xdumb) \n",
        "#new_ytest = ytest.reshape((-1,1)) \n",
        "print(ytest)"
      ],
      "metadata": {
        "colab": {
          "base_uri": "https://localhost:8080/"
        },
        "id": "4AaJjymWgoRc",
        "outputId": "32f3eb6f-56b5-406e-85ec-693e384c5a8f"
      },
      "execution_count": 32,
      "outputs": [
        {
          "output_type": "stream",
          "name": "stdout",
          "text": [
            "[ 79942.94570832  58864.7564692   68802.79263906 ...  53286.57798346\n",
            "  50089.31205697 -13070.03811068]\n"
          ]
        }
      ]
    },
    {
      "cell_type": "code",
      "source": [
        "ypred = model.predict(Xdumb2) "
      ],
      "metadata": {
        "id": "8mvO8fZ0O8Yf"
      },
      "execution_count": 33,
      "outputs": []
    },
    {
      "cell_type": "code",
      "source": [
        "for i in ypred: \n",
        "  print(i) "
      ],
      "metadata": {
        "colab": {
          "base_uri": "https://localhost:8080/"
        },
        "id": "7q2GODADP_xq",
        "outputId": "17fe30f1-2395-4002-ee05-2d69da04ec7b"
      },
      "execution_count": 34,
      "outputs": [
        {
          "output_type": "stream",
          "name": "stdout",
          "text": [
            "20567.52273807665\n",
            "44526.89952504257\n",
            "33670.105530391025\n",
            "77018.64428607267\n",
            "36668.27487339138\n",
            "35665.19778430403\n",
            "86942.05045066754\n",
            "90090.16993900301\n",
            "59511.36627409855\n",
            "50264.49814507175\n",
            "32076.647931763317\n",
            "71732.28733971831\n",
            "67781.07488451165\n",
            "-11920.161104930234\n",
            "66910.72996000829\n",
            "77214.11718026365\n",
            "68405.87054670358\n",
            "61482.14534141876\n",
            "42223.1673314655\n",
            "56453.8792521121\n",
            "77856.57612651418\n",
            "50486.09229883409\n",
            "69484.91862234139\n",
            "112409.93402433943\n",
            "100461.21144920096\n",
            "97139.59031850958\n",
            "95838.18415591097\n",
            "40036.51252766474\n",
            "43295.31063793228\n",
            "21707.528006144625\n",
            "80621.68659856424\n",
            "67339.20931661129\n",
            "50191.15330724599\n",
            "77431.29263789876\n",
            "60208.89249131435\n",
            "120181.6571213688\n",
            "61287.346324802995\n",
            "76781.47240213864\n",
            "91461.58986761089\n",
            "76860.00728118396\n",
            "68486.69515240967\n",
            "60811.09718000893\n",
            "46558.99175037069\n",
            "60966.98566402145\n",
            "68387.5441566233\n",
            "86350.3632459277\n",
            "116465.91650312845\n",
            "60807.789012189074\n",
            "16461.23948647886\n",
            "85253.01529375868\n",
            "51736.10892592045\n",
            "86754.58387713548\n",
            "53682.97482263232\n",
            "65382.13488300144\n",
            "24241.346155223746\n",
            "57813.58086051829\n",
            "78121.31203343126\n",
            "57418.80344671058\n",
            "99036.08247158074\n",
            "81663.88804118562\n",
            "25907.329306087475\n",
            "22528.912027645387\n",
            "62133.04085138665\n",
            "66720.81864562002\n",
            "35449.808292435024\n",
            "52180.82473986188\n",
            "39344.83876764523\n",
            "33337.81610326683\n",
            "67712.94806094043\n",
            "74425.37708298059\n",
            "54289.82196023974\n",
            "73696.4603255693\n",
            "61304.04479842197\n",
            "50399.301986747545\n",
            "68883.76694717642\n",
            "47636.496853951765\n",
            "86540.10497178204\n",
            "75193.95829906318\n",
            "81970.11048983486\n",
            "71588.54152909486\n",
            "90151.0340563411\n",
            "62716.66379317741\n",
            "68425.87485326707\n",
            "52550.58869765649\n",
            "62132.697501877694\n",
            "83127.20849146077\n",
            "16842.92903123762\n",
            "80280.47568028473\n",
            "140899.46526082495\n",
            "77441.40993123388\n",
            "90733.08818595504\n",
            "66782.02680952128\n",
            "68192.38414297401\n",
            "83117.74137300081\n",
            "96663.93811843015\n",
            "49038.298678052815\n",
            "67921.85290806694\n",
            "71130.1296145819\n",
            "71050.75276429937\n",
            "85241.44676785509\n",
            "75191.6712979759\n",
            "54044.20127525117\n",
            "41001.19968239872\n",
            "51154.4976051647\n",
            "74750.05702450738\n",
            "82870.61901050675\n",
            "78909.06624542715\n",
            "58060.1356074991\n",
            "76503.29740330135\n",
            "87173.30572964784\n",
            "89208.05909073053\n",
            "67151.1219159929\n",
            "57838.36732033283\n",
            "57861.949786229154\n",
            "11105.570378128314\n",
            "96944.75047132082\n",
            "55752.71255416092\n",
            "69401.14195540949\n",
            "116796.80961005259\n",
            "78856.94743115176\n",
            "63646.09743802253\n",
            "72490.24505885088\n",
            "107838.68661162094\n",
            "75979.18691058084\n",
            "49777.620857868744\n",
            "69084.19114397868\n",
            "106953.13090566656\n",
            "63404.232194494274\n",
            "43378.437440620524\n",
            "58566.21030165023\n",
            "86569.0302051579\n",
            "46189.78128383587\n",
            "54484.096091627456\n",
            "63263.67911818729\n",
            "43937.70943287816\n",
            "56687.23813752502\n",
            "40147.42525424338\n",
            "63373.91731655447\n",
            "75359.38271682491\n",
            "52739.35226792731\n",
            "76028.80118549714\n",
            "64379.890786214346\n",
            "64155.57330931238\n",
            "45497.75456517503\n",
            "62862.634749473706\n",
            "69793.76557989517\n",
            "20945.916736619158\n",
            "127260.51372402222\n",
            "36916.6492267315\n",
            "71786.840176934\n",
            "69358.20050894548\n",
            "59542.54480231781\n",
            "72972.4459293398\n",
            "59512.489534120985\n",
            "58810.12596134835\n",
            "32206.621726276124\n",
            "51256.780706012425\n",
            "63533.82716720421\n",
            "45576.56565601151\n",
            "62368.382417439534\n",
            "74691.75579382596\n",
            "65385.59262007468\n",
            "73271.42177417199\n",
            "41934.16253112032\n",
            "67416.20077673311\n",
            "117531.4498439104\n",
            "79065.2831786884\n",
            "50902.67084394875\n",
            "90466.59101322372\n",
            "77075.58010405002\n",
            "94919.91842552676\n",
            "74088.02651863644\n",
            "69330.43759014373\n",
            "75181.91530740459\n",
            "62846.622728976705\n",
            "66000.33536975352\n",
            "68191.48565899933\n",
            "62025.99300043798\n",
            "74960.68663332995\n",
            "39685.57162616816\n",
            "86408.44007142374\n",
            "93748.64087128357\n",
            "100457.59236633932\n",
            "69882.3015113548\n",
            "85210.90251964174\n",
            "73350.54533198624\n",
            "32722.676230380424\n",
            "65029.155575599994\n",
            "64587.08694974743\n",
            "65424.701284968374\n",
            "91151.21931376582\n",
            "52662.42139251649\n",
            "83041.98411080072\n",
            "63693.79538169629\n",
            "47866.732056762536\n",
            "76521.6042946195\n",
            "87379.31288093279\n",
            "31904.970783993445\n",
            "63976.594205729394\n",
            "67265.19150752536\n",
            "81662.31579858201\n",
            "57516.53448025131\n",
            "48036.868845365425\n",
            "34030.01255291587\n",
            "44335.87314258902\n",
            "23767.190868297424\n",
            "68869.54843285555\n",
            "25704.195691099838\n",
            "67249.79641260213\n",
            "55072.894262636204\n",
            "68642.89394543823\n",
            "51159.19886073945\n",
            "58492.18000443033\n",
            "75950.59454144357\n",
            "57163.3307897534\n",
            "48300.68377953329\n",
            "24112.50324452903\n",
            "78146.93269049536\n",
            "36720.070263583075\n",
            "75351.24748472899\n",
            "56750.89298273676\n",
            "91161.96468093796\n",
            "22929.97474316625\n",
            "77235.10302811718\n",
            "50846.497369494755\n",
            "96365.58349195993\n",
            "42114.445596445374\n",
            "95280.1840638112\n",
            "94146.54032665488\n",
            "62519.25515590309\n",
            "87602.6426059528\n",
            "88331.89775681496\n",
            "72303.44540108542\n",
            "58996.880110965874\n",
            "69121.87179319593\n",
            "77140.54421538676\n",
            "34079.33456300412\n",
            "57944.76451364942\n",
            "65232.01234552268\n",
            "37718.294288429955\n",
            "47488.362363022825\n",
            "45995.86416376831\n",
            "60395.44476296298\n",
            "53092.31205807432\n",
            "73150.73580215126\n",
            "70254.0006510726\n",
            "61675.1539269947\n",
            "38957.42840580679\n",
            "88161.69594540162\n",
            "87988.1242105838\n",
            "105732.11318258068\n",
            "84473.74762137001\n",
            "45979.198334088804\n",
            "62991.23688808358\n",
            "68388.67104981514\n",
            "57913.43835805781\n",
            "115412.16698303231\n",
            "48113.72064365075\n",
            "41228.95204684996\n",
            "28877.876601550128\n",
            "39104.078147769585\n",
            "33404.36484127688\n",
            "46390.46820357424\n",
            "46588.47347475883\n",
            "71177.80215680576\n",
            "53802.648291968515\n",
            "85335.06076195417\n",
            "51155.91390970947\n",
            "58558.834492775095\n",
            "57973.56427395496\n",
            "32277.35245424339\n",
            "52596.70827935126\n",
            "61418.58581660745\n",
            "100605.77905526472\n",
            "84329.42511113259\n",
            "77926.7700367835\n",
            "58203.80742554782\n",
            "101817.34971794681\n",
            "66163.91543810209\n",
            "72569.28981518513\n",
            "128783.22791823445\n",
            "104155.32723886051\n",
            "49630.75778221107\n",
            "32898.77968898641\n",
            "23489.904102826087\n",
            "76934.16197387542\n",
            "96566.75383988782\n",
            "57272.630120445436\n",
            "80710.69521475697\n",
            "95424.30350969819\n",
            "80283.90649272405\n",
            "74617.26323080753\n",
            "93360.78549895014\n",
            "65430.71940696751\n",
            "35784.293505042\n",
            "60634.09849738674\n",
            "80654.21547927227\n",
            "46319.56173020187\n",
            "41339.4767944931\n",
            "60184.99274457129\n",
            "57926.617989831466\n",
            "143524.06632758872\n",
            "98803.17715619659\n",
            "68380.31139059016\n",
            "75871.63381462274\n",
            "64738.95712722159\n",
            "109506.6078882229\n",
            "100621.44045604503\n",
            "108802.92404544813\n",
            "104434.19403629555\n",
            "67425.28212512983\n",
            "47280.78145033538\n",
            "87941.43831304906\n",
            "78678.71021355633\n",
            "46075.6532820841\n",
            "38357.177670998666\n",
            "54638.652572480845\n",
            "70434.31434429294\n",
            "70813.08075856444\n",
            "54081.61800114619\n",
            "18120.988230020022\n",
            "93772.66850870941\n",
            "39678.19623913836\n",
            "64341.71928635093\n",
            "95054.0762701561\n",
            "54899.79545589352\n",
            "88440.79701518893\n",
            "65718.41905178322\n",
            "62951.46018779705\n",
            "66147.74057382563\n",
            "88726.49387150767\n",
            "51200.80491451508\n",
            "56490.77960432902\n",
            "44472.58140553532\n",
            "61765.70186826462\n",
            "69489.1762367737\n",
            "49460.00463095334\n",
            "39238.51790355228\n",
            "44998.59668753665\n",
            "37854.74299732269\n",
            "73968.33948084258\n",
            "115174.7144329148\n",
            "8426.31495818614\n",
            "88630.06514331704\n",
            "127045.17116480772\n",
            "83116.71520228812\n",
            "71709.86147893145\n",
            "60071.27143389037\n",
            "108431.16832354403\n",
            "67931.91046003008\n",
            "80621.58578850716\n",
            "65189.47320363187\n",
            "30393.78426515501\n",
            "60381.17682698472\n",
            "70684.4188070677\n",
            "66450.769394331\n",
            "57109.75978424418\n",
            "66631.199751435\n",
            "49813.502139390555\n",
            "81177.29038559805\n",
            "53674.36354509902\n",
            "71093.17410364846\n",
            "74344.55138562099\n",
            "67179.99954259815\n",
            "64820.28519925876\n",
            "42948.404347690695\n",
            "73670.70210606963\n",
            "63160.601381299355\n",
            "53510.85858647046\n",
            "105997.59430376059\n",
            "50543.8747355185\n",
            "53224.347084631234\n",
            "66186.55098232854\n",
            "50185.89838338701\n",
            "78603.39156839409\n",
            "38888.11534646211\n",
            "36028.82290992271\n",
            "86097.37959975298\n",
            "59026.77890794523\n",
            "72292.67069743644\n",
            "58531.169008513265\n",
            "75033.80565730503\n",
            "-1571.4152775821162\n",
            "92662.61841749155\n",
            "66566.37818237557\n",
            "95072.90327122455\n",
            "60288.07690800078\n",
            "80185.21658217083\n",
            "40237.33671353588\n",
            "52500.88213960626\n",
            "85143.08605305999\n",
            "45121.79248783527\n",
            "65995.18959937335\n",
            "60229.55376240865\n",
            "74407.63979833317\n",
            "44673.39915549638\n",
            "79471.40094372997\n",
            "49493.460482668626\n",
            "76496.59428707234\n",
            "46056.5048971858\n",
            "93911.77492478603\n",
            "50555.71755476148\n",
            "159010.9428803199\n",
            "69868.10690731346\n",
            "28556.963893429758\n",
            "69624.99488411628\n",
            "73470.97553729446\n",
            "64772.75670817748\n",
            "75444.81950154467\n",
            "75104.85272572737\n",
            "55902.19199577417\n",
            "79892.63635411114\n",
            "43732.75297453431\n",
            "74218.57458973426\n",
            "61011.97654706894\n",
            "50976.71799967421\n",
            "60396.11975289744\n",
            "69465.0500743259\n",
            "60622.71251801191\n",
            "50580.858528881094\n",
            "83582.95826346011\n",
            "23122.486527303645\n",
            "46599.86513366363\n",
            "185649.76698110809\n",
            "53340.97626603589\n",
            "28126.100046272117\n",
            "57304.43528908087\n",
            "54033.0849715141\n",
            "45392.518755631725\n",
            "95661.57778810189\n",
            "37765.72107108156\n",
            "84099.9331414472\n",
            "62539.02948538717\n",
            "58699.77719022854\n",
            "50340.08340733486\n",
            "82752.0813746186\n",
            "75743.03318125178\n",
            "39073.22553173206\n",
            "50169.396939297774\n",
            "88103.9878060093\n",
            "88906.1707167071\n",
            "54517.27874471337\n",
            "73951.93330853371\n",
            "51286.22001371558\n",
            "51677.246049917514\n",
            "41313.8867321807\n",
            "65351.04504648031\n",
            "49575.6118859725\n",
            "49468.795098762224\n",
            "79091.61662652885\n",
            "94241.83711177239\n",
            "68617.83347305976\n",
            "55527.34833389166\n",
            "66953.40042911432\n",
            "131774.1776996292\n",
            "37290.65258879924\n",
            "30202.232762418196\n",
            "44854.26427494064\n",
            "67294.28289683757\n",
            "43840.95418004479\n",
            "48479.28478309274\n",
            "51646.39988779628\n",
            "57218.49412619204\n",
            "80342.52916485275\n",
            "48893.04201212592\n",
            "87334.77853057958\n",
            "79096.88759719982\n",
            "67103.02985393867\n",
            "40874.20536861789\n",
            "38595.85455553348\n",
            "82230.53834075219\n",
            "33163.42170204024\n",
            "76599.8974946434\n",
            "50917.163000071516\n",
            "34966.095885763556\n",
            "88984.31937847991\n",
            "102546.58801602697\n",
            "23218.21821667589\n",
            "24795.466347046327\n",
            "14599.096134637293\n",
            "64787.924433638684\n",
            "101508.33776314827\n",
            "51474.56327733596\n",
            "63763.55154533333\n",
            "32213.165422626702\n",
            "59187.79722108477\n",
            "63284.00662834594\n",
            "35208.43403481009\n",
            "79242.60786625999\n",
            "52055.120811793466\n",
            "58121.7866092908\n",
            "49318.563415287026\n",
            "108913.89168912475\n",
            "31653.904854952565\n",
            "93290.51993287445\n",
            "45565.34356475829\n",
            "46522.98627262927\n",
            "69649.55042279934\n",
            "86095.03550830265\n",
            "41874.15358304486\n"
          ]
        }
      ]
    },
    {
      "cell_type": "code",
      "source": [
        "#plt.scatter(Xdumb, ytrain) \n",
        "#plt.plot()"
      ],
      "metadata": {
        "id": "6OU9iwOCObPy"
      },
      "execution_count": 35,
      "outputs": []
    },
    {
      "cell_type": "code",
      "source": [
        "#Randomly splitting the data \n",
        "rXtrain, rXtest, rytrain, rytest = train_test_split(Xdumb, ytrain,test_size=.50, random_state=0)"
      ],
      "metadata": {
        "id": "TK6G393mFNzF"
      },
      "execution_count": 36,
      "outputs": []
    },
    {
      "cell_type": "code",
      "source": [
        "rmodel = LinearRegression()\n",
        "rmodel.fit(rXtrain,rytrain)"
      ],
      "metadata": {
        "id": "GKMPOVbfGIjy",
        "colab": {
          "base_uri": "https://localhost:8080/"
        },
        "outputId": "2fb0e712-69c9-4a52-c949-c178db727a22"
      },
      "execution_count": 37,
      "outputs": [
        {
          "output_type": "execute_result",
          "data": {
            "text/plain": [
              "LinearRegression()"
            ]
          },
          "metadata": {},
          "execution_count": 37
        }
      ]
    },
    {
      "cell_type": "code",
      "source": [
        "rypred = rmodel.predict(rXtest) "
      ],
      "metadata": {
        "id": "lCqHMC2bH0o2"
      },
      "execution_count": 38,
      "outputs": []
    },
    {
      "cell_type": "code",
      "source": [
        "from sklearn.metrics import mean_absolute_error\n",
        "from sklearn.metrics import mean_squared_error"
      ],
      "metadata": {
        "id": "jVcgCtxkUlpk"
      },
      "execution_count": 39,
      "outputs": []
    },
    {
      "cell_type": "code",
      "source": [
        "mae = mean_absolute_error(rytest, rypred)"
      ],
      "metadata": {
        "id": "4uinfPWzUtgh"
      },
      "execution_count": 40,
      "outputs": []
    },
    {
      "cell_type": "code",
      "source": [
        "#printing the mean absolute error \n",
        "mae"
      ],
      "metadata": {
        "colab": {
          "base_uri": "https://localhost:8080/"
        },
        "id": "paT4PI74U13Z",
        "outputId": "37a43bf9-a0f9-4349-b46a-ae6a252a6c4d"
      },
      "execution_count": 41,
      "outputs": [
        {
          "output_type": "execute_result",
          "data": {
            "text/plain": [
              "28848.24760726716"
            ]
          },
          "metadata": {},
          "execution_count": 41
        }
      ]
    },
    {
      "cell_type": "markdown",
      "source": [
        "The final mae is 28848.24760726716. "
      ],
      "metadata": {
        "id": "GGaje5ZFVGB4"
      }
    },
    {
      "cell_type": "markdown",
      "source": [
        "###6"
      ],
      "metadata": {
        "id": "m6x0W3AQGLyH"
      }
    },
    {
      "cell_type": "code",
      "source": [
        "#Variable to predict beverage \n",
        "class_ytrain = p1500['Beverage'] "
      ],
      "metadata": {
        "id": "vkDTg5m4GOJe"
      },
      "execution_count": 42,
      "outputs": []
    },
    {
      "cell_type": "code",
      "source": [
        "from sklearn.neighbors import KNeighborsClassifier \n"
      ],
      "metadata": {
        "id": "LsXHUok6SF3a"
      },
      "execution_count": 43,
      "outputs": []
    },
    {
      "cell_type": "code",
      "source": [
        "class_model = KNeighborsClassifier(n_neighbors=2, metric='euclidean')"
      ],
      "metadata": {
        "id": "RwIdEQvvR-_q"
      },
      "execution_count": 44,
      "outputs": []
    },
    {
      "cell_type": "code",
      "source": [
        "#1500 training data \n",
        "c_Xtrain = p1500[['Gender','Weight',  'SqFt', 'Water', 'Shoes', 'Commute', 'NumKids', 'Exercise']]\n",
        "c_Xtrain = pd.get_dummies(c_Xtrain) \n",
        "\n",
        "#500 test data \n",
        "c_Xtest = p500[['Gender','Weight', 'SqFt', 'Water', 'Shoes', 'Commute', 'NumKids', 'Exercise']]\n",
        "c_Xtest = pd.get_dummies(c_Xtest) \n"
      ],
      "metadata": {
        "id": "e4XAcu_WXToP"
      },
      "execution_count": 45,
      "outputs": []
    },
    {
      "cell_type": "code",
      "source": [
        "#fit the model \n",
        "class_model.fit(c_Xtrain, class_ytrain) \n"
      ],
      "metadata": {
        "colab": {
          "base_uri": "https://localhost:8080/"
        },
        "id": "qd_jWAkzU726",
        "outputId": "076302e2-df44-4eeb-e37c-4037df03dd04"
      },
      "execution_count": 46,
      "outputs": [
        {
          "output_type": "execute_result",
          "data": {
            "text/plain": [
              "KNeighborsClassifier(metric='euclidean', n_neighbors=2)"
            ]
          },
          "metadata": {},
          "execution_count": 46
        }
      ]
    },
    {
      "cell_type": "code",
      "source": [
        "classPred = class_model.predict(c_Xtest)"
      ],
      "metadata": {
        "id": "io5dzldO37Y0"
      },
      "execution_count": 48,
      "outputs": []
    },
    {
      "cell_type": "code",
      "source": [
        "#Classification data split \n",
        "cXtrain, cXtest, cytrain, cytest = train_test_split(c_Xtrain, class_ytrain, test_size=0.5,random_state=0)"
      ],
      "metadata": {
        "id": "eDkIx6nM4Bx-"
      },
      "execution_count": 52,
      "outputs": []
    },
    {
      "cell_type": "code",
      "source": [
        "class_model.fit(cXtrain,cytrain)"
      ],
      "metadata": {
        "colab": {
          "base_uri": "https://localhost:8080/"
        },
        "id": "2szUT5NnBQ4O",
        "outputId": "9603b437-78a4-449d-a1e1-f7a752d2a954"
      },
      "execution_count": 53,
      "outputs": [
        {
          "output_type": "execute_result",
          "data": {
            "text/plain": [
              "KNeighborsClassifier(metric='euclidean', n_neighbors=2)"
            ]
          },
          "metadata": {},
          "execution_count": 53
        }
      ]
    },
    {
      "cell_type": "code",
      "source": [
        "cypred= class_model.predict(cXtest)"
      ],
      "metadata": {
        "id": "tvZHRZKpCAbh"
      },
      "execution_count": 54,
      "outputs": []
    },
    {
      "cell_type": "code",
      "source": [
        "cypred"
      ],
      "metadata": {
        "colab": {
          "base_uri": "https://localhost:8080/"
        },
        "id": "3WA8ZEGECMlo",
        "outputId": "4f80d1b6-67df-4ecf-c801-a21755bee515"
      },
      "execution_count": 55,
      "outputs": [
        {
          "output_type": "execute_result",
          "data": {
            "text/plain": [
              "array(['Tea', 'Cider', 'Tea', 'Cocoa', 'Tea', 'Coffee', 'Cider', 'Cider',\n",
              "       'Cocoa', 'Cider', 'Cocoa', 'Tea', 'Cider', 'Cider', 'Cider',\n",
              "       'Cocoa', 'Cocoa', 'Cider', 'Cocoa', 'Cider', 'Tea', 'Cocoa', 'Tea',\n",
              "       'Cocoa', 'Cocoa', 'Coffee', 'Cider', 'Cider', 'Cocoa', 'Cider',\n",
              "       'Coffee', 'Coffee', 'Coffee', 'Tea', 'Cocoa', 'Coffee', 'Cider',\n",
              "       'Tea', 'Cider', 'Tea', 'Cider', 'Cider', 'Cocoa', 'Cider',\n",
              "       'Coffee', 'Cider', 'Cocoa', 'Cocoa', 'Coffee', 'Cider', 'Tea',\n",
              "       'Cider', 'Cider', 'Cocoa', 'Coffee', 'Cider', 'Coffee', 'Cocoa',\n",
              "       'None', 'Cider', 'Cider', 'Tea', 'Cider', 'Cider', 'Cocoa',\n",
              "       'Cider', 'Cider', 'None', 'Cider', 'Cocoa', 'Cider', 'Coffee',\n",
              "       'Cocoa', 'Cocoa', 'Coffee', 'Coffee', 'Coffee', 'Cocoa', 'Cider',\n",
              "       'Cider', 'Cider', 'Coffee', 'Coffee', 'Cider', 'Tea', 'Cider',\n",
              "       'Cider', 'Coffee', 'Cider', 'Coffee', 'Cider', 'Cocoa', 'Cocoa',\n",
              "       'Cocoa', 'Cider', 'Coffee', 'Cocoa', 'Coffee', 'Cider', 'Coffee',\n",
              "       'Coffee', 'Coffee', 'Cocoa', 'Coffee', 'Coffee', 'Cocoa', 'Cider',\n",
              "       'Cocoa', 'None', 'Cocoa', 'Cider', 'Cider', 'Cocoa', 'Coffee',\n",
              "       'Cider', 'None', 'Cocoa', 'Cider', 'Coffee', 'Cocoa', 'Cider',\n",
              "       'Cider', 'Cocoa', 'Cocoa', 'Cider', 'Cocoa', 'Cider', 'Cider',\n",
              "       'Cider', 'Cider', 'Coffee', 'Cocoa', 'Cocoa', 'Cider', 'Coffee',\n",
              "       'Cocoa', 'Coffee', 'Cider', 'Cider', 'Cider', 'Cocoa', 'Cocoa',\n",
              "       'Cocoa', 'Coffee', 'Coffee', 'Cider', 'Coffee', 'Cider', 'Tea',\n",
              "       'Cocoa', 'Tea', 'Cocoa', 'Cider', 'Cocoa', 'Coffee', 'Cider',\n",
              "       'Coffee', 'None', 'Coffee', 'Cider', 'Cider', 'Coffee', 'Coffee',\n",
              "       'Cocoa', 'Cider', 'Cocoa', 'Cider', 'Cider', 'Tea', 'Tea', 'Cider',\n",
              "       'Coffee', 'Tea', 'Cider', 'Coffee', 'Cocoa', 'Cocoa', 'Cocoa',\n",
              "       'Cocoa', 'Cider', 'None', 'Cider', 'Cocoa', 'Cider', 'Cider',\n",
              "       'Cocoa', 'Coffee', 'Cider', 'Cider', 'Coffee', 'Cocoa', 'Cider',\n",
              "       'None', 'Cocoa', 'Cider', 'Cider', 'Coffee', 'Cider', 'Cider',\n",
              "       'Cider', 'Cider', 'Coffee', 'Cocoa', 'Cider', 'Cider', 'Cider',\n",
              "       'Coffee', 'Cocoa', 'Coffee', 'Coffee', 'Cocoa', 'Cider', 'Cocoa',\n",
              "       'Tea', 'Cocoa', 'Tea', 'Cider', 'Coffee', 'Cider', 'Cocoa',\n",
              "       'Coffee', 'Cocoa', 'None', 'Coffee', 'Coffee', 'Coffee', 'Coffee',\n",
              "       'Cocoa', 'Coffee', 'None', 'Cider', 'Coffee', 'Cocoa', 'Coffee',\n",
              "       'Cider', 'Cider', 'Coffee', 'Cider', 'Coffee', 'Coffee', 'Cocoa',\n",
              "       'Cider', 'Cider', 'Cider', 'Cocoa', 'Tea', 'Coffee', 'Cocoa',\n",
              "       'Cider', 'Cocoa', 'Cocoa', 'Coffee', 'Coffee', 'Coffee', 'Coffee',\n",
              "       'Coffee', 'None', 'Coffee', 'Cider', 'Cider', 'Cocoa', 'Cider',\n",
              "       'Cider', 'Coffee', 'Cider', 'Coffee', 'Cider', 'Cider', 'Tea',\n",
              "       'Cider', 'Cider', 'None', 'Tea', 'Cider', 'Cocoa', 'Coffee',\n",
              "       'Cider', 'Cider', 'Cocoa', 'Cocoa', 'None', 'Tea', 'Cider',\n",
              "       'Cider', 'Cocoa', 'Cider', 'Cider', 'Cider', 'Tea', 'Cider',\n",
              "       'Cider', 'Coffee', 'Cocoa', 'Tea', 'Cocoa', 'Coffee', 'Cider',\n",
              "       'Cider', 'Tea', 'Cocoa', 'Cider', 'Cider', 'Cider', 'Cocoa',\n",
              "       'Cider', 'Cider', 'Cocoa', 'Coffee', 'Coffee', 'Coffee', 'Cider',\n",
              "       'Cocoa', 'Tea', 'Coffee', 'Coffee', 'Cider', 'Cider', 'Cocoa',\n",
              "       'Cider', 'Cocoa', 'Cocoa', 'Cider', 'None', 'Cider', 'Cocoa',\n",
              "       'Cider', 'Cocoa', 'Coffee', 'Coffee', 'Cocoa', 'None', 'Cider',\n",
              "       'Cider', 'Cider', 'Cocoa', 'Cider', 'Cocoa', 'Cocoa', 'Coffee',\n",
              "       'Cocoa', 'Cider', 'Cider', 'Cocoa', 'Cocoa', 'Coffee', 'Cider',\n",
              "       'Coffee', 'Cider', 'Cider', 'Cider', 'Cider', 'Tea', 'None', 'Tea',\n",
              "       'Cocoa', 'Cocoa', 'Tea', 'Cider', 'Coffee', 'Coffee', 'Coffee',\n",
              "       'Tea', 'Cider', 'Cocoa', 'Cider', 'Cocoa', 'Cocoa', 'Cocoa',\n",
              "       'Cocoa', 'Tea', 'Cocoa', 'Cocoa', 'Cider', 'Tea', 'Cocoa', 'Cocoa',\n",
              "       'Cocoa', 'Cider', 'Coffee', 'Coffee', 'Cider', 'Coffee', 'Cider',\n",
              "       'Cider', 'Cider', 'Coffee', 'Cider', 'None', 'Tea', 'Cider',\n",
              "       'Cider', 'Cider', 'Cider', 'Cider', 'Coffee', 'Cocoa', 'Cider',\n",
              "       'Cocoa', 'Cider', 'Cocoa', 'Cider', 'Cider', 'Cider', 'Cider',\n",
              "       'Tea', 'Cocoa', 'Tea', 'Coffee', 'Cider', 'Coffee', 'Tea', 'Cider',\n",
              "       'Cider', 'Coffee', 'Cider', 'Cider', 'Cocoa', 'Cocoa', 'Coffee',\n",
              "       'Tea', 'Cocoa', 'Cocoa', 'Coffee', 'Coffee', 'Coffee', 'Cocoa',\n",
              "       'Cider', 'Cocoa', 'Tea', 'Cider', 'None', 'Cider', 'Cocoa',\n",
              "       'Coffee', 'Cider', 'Coffee', 'Coffee', 'Cider', 'Cider', 'Cider',\n",
              "       'Cocoa', 'Coffee', 'Cider', 'Cocoa', 'Cider', 'Cocoa', 'Cocoa',\n",
              "       'Cider', 'Cider', 'Coffee', 'Coffee', 'Cider', 'Cocoa', 'Cider',\n",
              "       'Cider', 'Tea', 'Cider', 'Cider', 'Cocoa', 'Cocoa', 'Cider',\n",
              "       'Cocoa', 'Cocoa', 'Coffee', 'Cider', 'Cider', 'Cider', 'Cocoa',\n",
              "       'Cider', 'Cider', 'Tea', 'Cider', 'Cocoa', 'Cocoa', 'Coffee',\n",
              "       'Cocoa', 'Coffee', 'Coffee', 'Cider', 'Cocoa', 'Tea', 'Cider',\n",
              "       'Cider', 'Cider', 'Coffee', 'Cocoa', 'Coffee', 'Cider', 'Cocoa',\n",
              "       'Cocoa', 'Cocoa', 'Tea', 'Coffee', 'Cider', 'Cider', 'Cider',\n",
              "       'Coffee', 'Cocoa', 'Cocoa', 'Coffee', 'Cider', 'Cider', 'Cocoa',\n",
              "       'Cocoa', 'Cocoa', 'Cider', 'Cider', 'Coffee', 'Cider', 'Cider',\n",
              "       'Cocoa', 'Cider', 'Cocoa', 'Coffee', 'Cider', 'Tea', 'Cider',\n",
              "       'Cider', 'Coffee', 'Cocoa', 'Cocoa', 'Cider', 'Cocoa', 'None',\n",
              "       'Cider', 'Cider', 'Cider', 'Cider', 'Coffee', 'Cider', 'Coffee',\n",
              "       'Cider', 'Tea', 'Cider', 'Cider', 'Tea', 'Coffee', 'Cocoa',\n",
              "       'Cocoa', 'Cocoa', 'Coffee', 'Coffee', 'Cocoa', 'Coffee', 'Cider',\n",
              "       'Cider', 'Cocoa', 'Coffee', 'Cider', 'Cider', 'Cider', 'Coffee',\n",
              "       'Cider', 'Cider', 'Cider', 'Cocoa', 'Cider', 'Coffee', 'Cider',\n",
              "       'Coffee', 'Cider', 'Cocoa', 'Cider', 'Tea', 'Coffee', 'Coffee',\n",
              "       'Cider', 'Cocoa', 'Cider', 'Cider', 'Tea', 'Cocoa', 'Tea', 'Cider',\n",
              "       'Coffee', 'Coffee', 'Cider', 'Tea', 'Cider', 'Cider', 'Cider',\n",
              "       'Coffee', 'Cider', 'Cocoa', 'Cocoa', 'Cocoa', 'Coffee', 'Cider',\n",
              "       'Coffee', 'Cider', 'Cider', 'Coffee', 'Cider', 'Cider', 'Coffee',\n",
              "       'Cider', 'Cocoa', 'Tea', 'Coffee', 'Cocoa', 'Cider', 'Coffee',\n",
              "       'Coffee', 'Cocoa', 'Coffee', 'Cocoa', 'Cocoa', 'Cocoa', 'Cider',\n",
              "       'Cider', 'Cider', 'Cocoa', 'None', 'None', 'Cocoa', 'Cider',\n",
              "       'Coffee', 'Cider', 'Cocoa', 'Cocoa', 'Cider', 'Cocoa', 'Cider',\n",
              "       'Tea', 'Cocoa', 'Cider', 'Cocoa', 'Cider', 'Cider', 'Cider',\n",
              "       'Coffee', 'Coffee', 'Cider', 'Coffee', 'Cider', 'Coffee', 'Cider',\n",
              "       'Cocoa', 'Cider', 'Cider', 'Cider', 'Cider', 'Cider', 'Coffee',\n",
              "       'Cider', 'Coffee', 'Cider', 'Cocoa', 'Coffee', 'Cider', 'Cocoa',\n",
              "       'Cider', 'Cider', 'Coffee', 'Cocoa', 'Cider', 'Cocoa', 'Cider',\n",
              "       'Coffee', 'Cider', 'Coffee', 'Coffee', 'Cocoa', 'Cocoa', 'Cocoa',\n",
              "       'Cider', 'Cider', 'Coffee', 'Cider', 'None', 'Coffee', 'Tea',\n",
              "       'Coffee', 'Coffee', 'Coffee', 'Cocoa', 'Coffee', 'Cider', 'Cider',\n",
              "       'Cocoa', 'Cocoa', 'Coffee', 'Cider', 'Cocoa', 'Cider', 'Cocoa',\n",
              "       'Cider', 'Cider', 'Coffee', 'Cider', 'Cocoa', 'Tea', 'Cider',\n",
              "       'Cocoa', 'Cider', 'Coffee', 'Coffee', 'Coffee', 'Tea', 'Coffee',\n",
              "       'Cider', 'Coffee', 'Coffee', 'Tea', 'Tea', 'Cider', 'Cocoa',\n",
              "       'Cider', 'Cider', 'Cocoa', 'Cider', 'Cocoa', 'Coffee', 'Coffee',\n",
              "       'Cocoa', 'Cocoa', 'Coffee', 'Cider', 'Coffee', 'Coffee', 'Cocoa',\n",
              "       'Coffee', 'Cider', 'Coffee', 'Cocoa', 'Cocoa', 'Cider', 'Coffee',\n",
              "       'Coffee', 'Cider', 'Coffee', 'Coffee', 'Cocoa', 'Cider', 'Coffee',\n",
              "       'Cider', 'Cocoa', 'Cider', 'Tea', 'Cider', 'Coffee', 'Coffee',\n",
              "       'Tea', 'Cider', 'Tea', 'Cocoa', 'Cider', 'Cider', 'Tea', 'Cocoa'],\n",
              "      dtype=object)"
            ]
          },
          "metadata": {},
          "execution_count": 55
        }
      ]
    },
    {
      "cell_type": "code",
      "source": [
        "for i in cypred: \n",
        "  print(i)"
      ],
      "metadata": {
        "colab": {
          "base_uri": "https://localhost:8080/"
        },
        "id": "JCqzRSruCcrs",
        "outputId": "97c7c160-7392-4544-abb7-ef1114fe14e3"
      },
      "execution_count": 56,
      "outputs": [
        {
          "output_type": "stream",
          "name": "stdout",
          "text": [
            "Tea\n",
            "Cider\n",
            "Tea\n",
            "Cocoa\n",
            "Tea\n",
            "Coffee\n",
            "Cider\n",
            "Cider\n",
            "Cocoa\n",
            "Cider\n",
            "Cocoa\n",
            "Tea\n",
            "Cider\n",
            "Cider\n",
            "Cider\n",
            "Cocoa\n",
            "Cocoa\n",
            "Cider\n",
            "Cocoa\n",
            "Cider\n",
            "Tea\n",
            "Cocoa\n",
            "Tea\n",
            "Cocoa\n",
            "Cocoa\n",
            "Coffee\n",
            "Cider\n",
            "Cider\n",
            "Cocoa\n",
            "Cider\n",
            "Coffee\n",
            "Coffee\n",
            "Coffee\n",
            "Tea\n",
            "Cocoa\n",
            "Coffee\n",
            "Cider\n",
            "Tea\n",
            "Cider\n",
            "Tea\n",
            "Cider\n",
            "Cider\n",
            "Cocoa\n",
            "Cider\n",
            "Coffee\n",
            "Cider\n",
            "Cocoa\n",
            "Cocoa\n",
            "Coffee\n",
            "Cider\n",
            "Tea\n",
            "Cider\n",
            "Cider\n",
            "Cocoa\n",
            "Coffee\n",
            "Cider\n",
            "Coffee\n",
            "Cocoa\n",
            "None\n",
            "Cider\n",
            "Cider\n",
            "Tea\n",
            "Cider\n",
            "Cider\n",
            "Cocoa\n",
            "Cider\n",
            "Cider\n",
            "None\n",
            "Cider\n",
            "Cocoa\n",
            "Cider\n",
            "Coffee\n",
            "Cocoa\n",
            "Cocoa\n",
            "Coffee\n",
            "Coffee\n",
            "Coffee\n",
            "Cocoa\n",
            "Cider\n",
            "Cider\n",
            "Cider\n",
            "Coffee\n",
            "Coffee\n",
            "Cider\n",
            "Tea\n",
            "Cider\n",
            "Cider\n",
            "Coffee\n",
            "Cider\n",
            "Coffee\n",
            "Cider\n",
            "Cocoa\n",
            "Cocoa\n",
            "Cocoa\n",
            "Cider\n",
            "Coffee\n",
            "Cocoa\n",
            "Coffee\n",
            "Cider\n",
            "Coffee\n",
            "Coffee\n",
            "Coffee\n",
            "Cocoa\n",
            "Coffee\n",
            "Coffee\n",
            "Cocoa\n",
            "Cider\n",
            "Cocoa\n",
            "None\n",
            "Cocoa\n",
            "Cider\n",
            "Cider\n",
            "Cocoa\n",
            "Coffee\n",
            "Cider\n",
            "None\n",
            "Cocoa\n",
            "Cider\n",
            "Coffee\n",
            "Cocoa\n",
            "Cider\n",
            "Cider\n",
            "Cocoa\n",
            "Cocoa\n",
            "Cider\n",
            "Cocoa\n",
            "Cider\n",
            "Cider\n",
            "Cider\n",
            "Cider\n",
            "Coffee\n",
            "Cocoa\n",
            "Cocoa\n",
            "Cider\n",
            "Coffee\n",
            "Cocoa\n",
            "Coffee\n",
            "Cider\n",
            "Cider\n",
            "Cider\n",
            "Cocoa\n",
            "Cocoa\n",
            "Cocoa\n",
            "Coffee\n",
            "Coffee\n",
            "Cider\n",
            "Coffee\n",
            "Cider\n",
            "Tea\n",
            "Cocoa\n",
            "Tea\n",
            "Cocoa\n",
            "Cider\n",
            "Cocoa\n",
            "Coffee\n",
            "Cider\n",
            "Coffee\n",
            "None\n",
            "Coffee\n",
            "Cider\n",
            "Cider\n",
            "Coffee\n",
            "Coffee\n",
            "Cocoa\n",
            "Cider\n",
            "Cocoa\n",
            "Cider\n",
            "Cider\n",
            "Tea\n",
            "Tea\n",
            "Cider\n",
            "Coffee\n",
            "Tea\n",
            "Cider\n",
            "Coffee\n",
            "Cocoa\n",
            "Cocoa\n",
            "Cocoa\n",
            "Cocoa\n",
            "Cider\n",
            "None\n",
            "Cider\n",
            "Cocoa\n",
            "Cider\n",
            "Cider\n",
            "Cocoa\n",
            "Coffee\n",
            "Cider\n",
            "Cider\n",
            "Coffee\n",
            "Cocoa\n",
            "Cider\n",
            "None\n",
            "Cocoa\n",
            "Cider\n",
            "Cider\n",
            "Coffee\n",
            "Cider\n",
            "Cider\n",
            "Cider\n",
            "Cider\n",
            "Coffee\n",
            "Cocoa\n",
            "Cider\n",
            "Cider\n",
            "Cider\n",
            "Coffee\n",
            "Cocoa\n",
            "Coffee\n",
            "Coffee\n",
            "Cocoa\n",
            "Cider\n",
            "Cocoa\n",
            "Tea\n",
            "Cocoa\n",
            "Tea\n",
            "Cider\n",
            "Coffee\n",
            "Cider\n",
            "Cocoa\n",
            "Coffee\n",
            "Cocoa\n",
            "None\n",
            "Coffee\n",
            "Coffee\n",
            "Coffee\n",
            "Coffee\n",
            "Cocoa\n",
            "Coffee\n",
            "None\n",
            "Cider\n",
            "Coffee\n",
            "Cocoa\n",
            "Coffee\n",
            "Cider\n",
            "Cider\n",
            "Coffee\n",
            "Cider\n",
            "Coffee\n",
            "Coffee\n",
            "Cocoa\n",
            "Cider\n",
            "Cider\n",
            "Cider\n",
            "Cocoa\n",
            "Tea\n",
            "Coffee\n",
            "Cocoa\n",
            "Cider\n",
            "Cocoa\n",
            "Cocoa\n",
            "Coffee\n",
            "Coffee\n",
            "Coffee\n",
            "Coffee\n",
            "Coffee\n",
            "None\n",
            "Coffee\n",
            "Cider\n",
            "Cider\n",
            "Cocoa\n",
            "Cider\n",
            "Cider\n",
            "Coffee\n",
            "Cider\n",
            "Coffee\n",
            "Cider\n",
            "Cider\n",
            "Tea\n",
            "Cider\n",
            "Cider\n",
            "None\n",
            "Tea\n",
            "Cider\n",
            "Cocoa\n",
            "Coffee\n",
            "Cider\n",
            "Cider\n",
            "Cocoa\n",
            "Cocoa\n",
            "None\n",
            "Tea\n",
            "Cider\n",
            "Cider\n",
            "Cocoa\n",
            "Cider\n",
            "Cider\n",
            "Cider\n",
            "Tea\n",
            "Cider\n",
            "Cider\n",
            "Coffee\n",
            "Cocoa\n",
            "Tea\n",
            "Cocoa\n",
            "Coffee\n",
            "Cider\n",
            "Cider\n",
            "Tea\n",
            "Cocoa\n",
            "Cider\n",
            "Cider\n",
            "Cider\n",
            "Cocoa\n",
            "Cider\n",
            "Cider\n",
            "Cocoa\n",
            "Coffee\n",
            "Coffee\n",
            "Coffee\n",
            "Cider\n",
            "Cocoa\n",
            "Tea\n",
            "Coffee\n",
            "Coffee\n",
            "Cider\n",
            "Cider\n",
            "Cocoa\n",
            "Cider\n",
            "Cocoa\n",
            "Cocoa\n",
            "Cider\n",
            "None\n",
            "Cider\n",
            "Cocoa\n",
            "Cider\n",
            "Cocoa\n",
            "Coffee\n",
            "Coffee\n",
            "Cocoa\n",
            "None\n",
            "Cider\n",
            "Cider\n",
            "Cider\n",
            "Cocoa\n",
            "Cider\n",
            "Cocoa\n",
            "Cocoa\n",
            "Coffee\n",
            "Cocoa\n",
            "Cider\n",
            "Cider\n",
            "Cocoa\n",
            "Cocoa\n",
            "Coffee\n",
            "Cider\n",
            "Coffee\n",
            "Cider\n",
            "Cider\n",
            "Cider\n",
            "Cider\n",
            "Tea\n",
            "None\n",
            "Tea\n",
            "Cocoa\n",
            "Cocoa\n",
            "Tea\n",
            "Cider\n",
            "Coffee\n",
            "Coffee\n",
            "Coffee\n",
            "Tea\n",
            "Cider\n",
            "Cocoa\n",
            "Cider\n",
            "Cocoa\n",
            "Cocoa\n",
            "Cocoa\n",
            "Cocoa\n",
            "Tea\n",
            "Cocoa\n",
            "Cocoa\n",
            "Cider\n",
            "Tea\n",
            "Cocoa\n",
            "Cocoa\n",
            "Cocoa\n",
            "Cider\n",
            "Coffee\n",
            "Coffee\n",
            "Cider\n",
            "Coffee\n",
            "Cider\n",
            "Cider\n",
            "Cider\n",
            "Coffee\n",
            "Cider\n",
            "None\n",
            "Tea\n",
            "Cider\n",
            "Cider\n",
            "Cider\n",
            "Cider\n",
            "Cider\n",
            "Coffee\n",
            "Cocoa\n",
            "Cider\n",
            "Cocoa\n",
            "Cider\n",
            "Cocoa\n",
            "Cider\n",
            "Cider\n",
            "Cider\n",
            "Cider\n",
            "Tea\n",
            "Cocoa\n",
            "Tea\n",
            "Coffee\n",
            "Cider\n",
            "Coffee\n",
            "Tea\n",
            "Cider\n",
            "Cider\n",
            "Coffee\n",
            "Cider\n",
            "Cider\n",
            "Cocoa\n",
            "Cocoa\n",
            "Coffee\n",
            "Tea\n",
            "Cocoa\n",
            "Cocoa\n",
            "Coffee\n",
            "Coffee\n",
            "Coffee\n",
            "Cocoa\n",
            "Cider\n",
            "Cocoa\n",
            "Tea\n",
            "Cider\n",
            "None\n",
            "Cider\n",
            "Cocoa\n",
            "Coffee\n",
            "Cider\n",
            "Coffee\n",
            "Coffee\n",
            "Cider\n",
            "Cider\n",
            "Cider\n",
            "Cocoa\n",
            "Coffee\n",
            "Cider\n",
            "Cocoa\n",
            "Cider\n",
            "Cocoa\n",
            "Cocoa\n",
            "Cider\n",
            "Cider\n",
            "Coffee\n",
            "Coffee\n",
            "Cider\n",
            "Cocoa\n",
            "Cider\n",
            "Cider\n",
            "Tea\n",
            "Cider\n",
            "Cider\n",
            "Cocoa\n",
            "Cocoa\n",
            "Cider\n",
            "Cocoa\n",
            "Cocoa\n",
            "Coffee\n",
            "Cider\n",
            "Cider\n",
            "Cider\n",
            "Cocoa\n",
            "Cider\n",
            "Cider\n",
            "Tea\n",
            "Cider\n",
            "Cocoa\n",
            "Cocoa\n",
            "Coffee\n",
            "Cocoa\n",
            "Coffee\n",
            "Coffee\n",
            "Cider\n",
            "Cocoa\n",
            "Tea\n",
            "Cider\n",
            "Cider\n",
            "Cider\n",
            "Coffee\n",
            "Cocoa\n",
            "Coffee\n",
            "Cider\n",
            "Cocoa\n",
            "Cocoa\n",
            "Cocoa\n",
            "Tea\n",
            "Coffee\n",
            "Cider\n",
            "Cider\n",
            "Cider\n",
            "Coffee\n",
            "Cocoa\n",
            "Cocoa\n",
            "Coffee\n",
            "Cider\n",
            "Cider\n",
            "Cocoa\n",
            "Cocoa\n",
            "Cocoa\n",
            "Cider\n",
            "Cider\n",
            "Coffee\n",
            "Cider\n",
            "Cider\n",
            "Cocoa\n",
            "Cider\n",
            "Cocoa\n",
            "Coffee\n",
            "Cider\n",
            "Tea\n",
            "Cider\n",
            "Cider\n",
            "Coffee\n",
            "Cocoa\n",
            "Cocoa\n",
            "Cider\n",
            "Cocoa\n",
            "None\n",
            "Cider\n",
            "Cider\n",
            "Cider\n",
            "Cider\n",
            "Coffee\n",
            "Cider\n",
            "Coffee\n",
            "Cider\n",
            "Tea\n",
            "Cider\n",
            "Cider\n",
            "Tea\n",
            "Coffee\n",
            "Cocoa\n",
            "Cocoa\n",
            "Cocoa\n",
            "Coffee\n",
            "Coffee\n",
            "Cocoa\n",
            "Coffee\n",
            "Cider\n",
            "Cider\n",
            "Cocoa\n",
            "Coffee\n",
            "Cider\n",
            "Cider\n",
            "Cider\n",
            "Coffee\n",
            "Cider\n",
            "Cider\n",
            "Cider\n",
            "Cocoa\n",
            "Cider\n",
            "Coffee\n",
            "Cider\n",
            "Coffee\n",
            "Cider\n",
            "Cocoa\n",
            "Cider\n",
            "Tea\n",
            "Coffee\n",
            "Coffee\n",
            "Cider\n",
            "Cocoa\n",
            "Cider\n",
            "Cider\n",
            "Tea\n",
            "Cocoa\n",
            "Tea\n",
            "Cider\n",
            "Coffee\n",
            "Coffee\n",
            "Cider\n",
            "Tea\n",
            "Cider\n",
            "Cider\n",
            "Cider\n",
            "Coffee\n",
            "Cider\n",
            "Cocoa\n",
            "Cocoa\n",
            "Cocoa\n",
            "Coffee\n",
            "Cider\n",
            "Coffee\n",
            "Cider\n",
            "Cider\n",
            "Coffee\n",
            "Cider\n",
            "Cider\n",
            "Coffee\n",
            "Cider\n",
            "Cocoa\n",
            "Tea\n",
            "Coffee\n",
            "Cocoa\n",
            "Cider\n",
            "Coffee\n",
            "Coffee\n",
            "Cocoa\n",
            "Coffee\n",
            "Cocoa\n",
            "Cocoa\n",
            "Cocoa\n",
            "Cider\n",
            "Cider\n",
            "Cider\n",
            "Cocoa\n",
            "None\n",
            "None\n",
            "Cocoa\n",
            "Cider\n",
            "Coffee\n",
            "Cider\n",
            "Cocoa\n",
            "Cocoa\n",
            "Cider\n",
            "Cocoa\n",
            "Cider\n",
            "Tea\n",
            "Cocoa\n",
            "Cider\n",
            "Cocoa\n",
            "Cider\n",
            "Cider\n",
            "Cider\n",
            "Coffee\n",
            "Coffee\n",
            "Cider\n",
            "Coffee\n",
            "Cider\n",
            "Coffee\n",
            "Cider\n",
            "Cocoa\n",
            "Cider\n",
            "Cider\n",
            "Cider\n",
            "Cider\n",
            "Cider\n",
            "Coffee\n",
            "Cider\n",
            "Coffee\n",
            "Cider\n",
            "Cocoa\n",
            "Coffee\n",
            "Cider\n",
            "Cocoa\n",
            "Cider\n",
            "Cider\n",
            "Coffee\n",
            "Cocoa\n",
            "Cider\n",
            "Cocoa\n",
            "Cider\n",
            "Coffee\n",
            "Cider\n",
            "Coffee\n",
            "Coffee\n",
            "Cocoa\n",
            "Cocoa\n",
            "Cocoa\n",
            "Cider\n",
            "Cider\n",
            "Coffee\n",
            "Cider\n",
            "None\n",
            "Coffee\n",
            "Tea\n",
            "Coffee\n",
            "Coffee\n",
            "Coffee\n",
            "Cocoa\n",
            "Coffee\n",
            "Cider\n",
            "Cider\n",
            "Cocoa\n",
            "Cocoa\n",
            "Coffee\n",
            "Cider\n",
            "Cocoa\n",
            "Cider\n",
            "Cocoa\n",
            "Cider\n",
            "Cider\n",
            "Coffee\n",
            "Cider\n",
            "Cocoa\n",
            "Tea\n",
            "Cider\n",
            "Cocoa\n",
            "Cider\n",
            "Coffee\n",
            "Coffee\n",
            "Coffee\n",
            "Tea\n",
            "Coffee\n",
            "Cider\n",
            "Coffee\n",
            "Coffee\n",
            "Tea\n",
            "Tea\n",
            "Cider\n",
            "Cocoa\n",
            "Cider\n",
            "Cider\n",
            "Cocoa\n",
            "Cider\n",
            "Cocoa\n",
            "Coffee\n",
            "Coffee\n",
            "Cocoa\n",
            "Cocoa\n",
            "Coffee\n",
            "Cider\n",
            "Coffee\n",
            "Coffee\n",
            "Cocoa\n",
            "Coffee\n",
            "Cider\n",
            "Coffee\n",
            "Cocoa\n",
            "Cocoa\n",
            "Cider\n",
            "Coffee\n",
            "Coffee\n",
            "Cider\n",
            "Coffee\n",
            "Coffee\n",
            "Cocoa\n",
            "Cider\n",
            "Coffee\n",
            "Cider\n",
            "Cocoa\n",
            "Cider\n",
            "Tea\n",
            "Cider\n",
            "Coffee\n",
            "Coffee\n",
            "Tea\n",
            "Cider\n",
            "Tea\n",
            "Cocoa\n",
            "Cider\n",
            "Cider\n",
            "Tea\n",
            "Cocoa\n"
          ]
        }
      ]
    },
    {
      "cell_type": "code",
      "source": [
        "from sklearn.metrics import accuracy_score \n",
        "accuracy_score(cytest, cypred)"
      ],
      "metadata": {
        "colab": {
          "base_uri": "https://localhost:8080/"
        },
        "id": "At-y5k5KFAkp",
        "outputId": "52174ace-da79-4c25-dcf7-8ae86db2be41"
      },
      "execution_count": 57,
      "outputs": [
        {
          "output_type": "execute_result",
          "data": {
            "text/plain": [
              "0.248"
            ]
          },
          "metadata": {},
          "execution_count": 57
        }
      ]
    },
    {
      "cell_type": "markdown",
      "source": [
        "Accuracy is 0.248"
      ],
      "metadata": {
        "id": "BY7-b2WNFLhD"
      }
    }
  ]
}