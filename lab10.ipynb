{
  "nbformat": 4,
  "nbformat_minor": 0,
  "metadata": {
    "colab": {
      "name": "lab10.ipynb",
      "provenance": []
    },
    "kernelspec": {
      "name": "python3",
      "display_name": "Python 3"
    },
    "language_info": {
      "name": "python"
    }
  },
  "cells": [
    {
      "cell_type": "markdown",
      "source": [
        "Lab 10: Regression \n",
        "\n",
        "Kobie Williams \n",
        "\n",
        "3/8/2022 \n",
        "\n",
        "The purpose of this lab is to predict continuous values using regression "
      ],
      "metadata": {
        "id": "MO9RePrIqygC"
      }
    },
    {
      "cell_type": "code",
      "execution_count": 27,
      "metadata": {
        "id": "N4y-6xiwpoMy"
      },
      "outputs": [],
      "source": [
        "import matplotlib.pyplot as plt\n",
        "import seaborn as sns\n",
        "import numpy as np\n",
        "import pandas as pd\n",
        "from sklearn.linear_model import LinearRegression"
      ]
    },
    {
      "cell_type": "code",
      "source": [
        "df = pd.read_csv('https://drive.google.com/uc?export=download&id=1XHF2E7uXPqXSmGi2X1E9_o9VmIh89bfV') \n",
        "df.head(5)"
      ],
      "metadata": {
        "colab": {
          "base_uri": "https://localhost:8080/",
          "height": 206
        },
        "id": "0zt2vPTbqxFA",
        "outputId": "0ab8fd50-8247-4699-bc3f-ad9a88ccc122"
      },
      "execution_count": 28,
      "outputs": [
        {
          "output_type": "execute_result",
          "data": {
            "text/html": [
              "\n",
              "  <div id=\"df-22c1b73e-784e-4c2c-9044-8f7266ce242c\">\n",
              "    <div class=\"colab-df-container\">\n",
              "      <div>\n",
              "<style scoped>\n",
              "    .dataframe tbody tr th:only-of-type {\n",
              "        vertical-align: middle;\n",
              "    }\n",
              "\n",
              "    .dataframe tbody tr th {\n",
              "        vertical-align: top;\n",
              "    }\n",
              "\n",
              "    .dataframe thead th {\n",
              "        text-align: right;\n",
              "    }\n",
              "</style>\n",
              "<table border=\"1\" class=\"dataframe\">\n",
              "  <thead>\n",
              "    <tr style=\"text-align: right;\">\n",
              "      <th></th>\n",
              "      <th>x</th>\n",
              "      <th>y</th>\n",
              "      <th>is_train</th>\n",
              "    </tr>\n",
              "  </thead>\n",
              "  <tbody>\n",
              "    <tr>\n",
              "      <th>0</th>\n",
              "      <td>0.000799</td>\n",
              "      <td>1.699337</td>\n",
              "      <td>1.0</td>\n",
              "    </tr>\n",
              "    <tr>\n",
              "      <th>1</th>\n",
              "      <td>0.010214</td>\n",
              "      <td>-0.436091</td>\n",
              "      <td>1.0</td>\n",
              "    </tr>\n",
              "    <tr>\n",
              "      <th>2</th>\n",
              "      <td>0.071439</td>\n",
              "      <td>-1.873174</td>\n",
              "      <td>1.0</td>\n",
              "    </tr>\n",
              "    <tr>\n",
              "      <th>3</th>\n",
              "      <td>0.076680</td>\n",
              "      <td>15.854541</td>\n",
              "      <td>1.0</td>\n",
              "    </tr>\n",
              "    <tr>\n",
              "      <th>4</th>\n",
              "      <td>0.115109</td>\n",
              "      <td>-0.831285</td>\n",
              "      <td>1.0</td>\n",
              "    </tr>\n",
              "  </tbody>\n",
              "</table>\n",
              "</div>\n",
              "      <button class=\"colab-df-convert\" onclick=\"convertToInteractive('df-22c1b73e-784e-4c2c-9044-8f7266ce242c')\"\n",
              "              title=\"Convert this dataframe to an interactive table.\"\n",
              "              style=\"display:none;\">\n",
              "        \n",
              "  <svg xmlns=\"http://www.w3.org/2000/svg\" height=\"24px\"viewBox=\"0 0 24 24\"\n",
              "       width=\"24px\">\n",
              "    <path d=\"M0 0h24v24H0V0z\" fill=\"none\"/>\n",
              "    <path d=\"M18.56 5.44l.94 2.06.94-2.06 2.06-.94-2.06-.94-.94-2.06-.94 2.06-2.06.94zm-11 1L8.5 8.5l.94-2.06 2.06-.94-2.06-.94L8.5 2.5l-.94 2.06-2.06.94zm10 10l.94 2.06.94-2.06 2.06-.94-2.06-.94-.94-2.06-.94 2.06-2.06.94z\"/><path d=\"M17.41 7.96l-1.37-1.37c-.4-.4-.92-.59-1.43-.59-.52 0-1.04.2-1.43.59L10.3 9.45l-7.72 7.72c-.78.78-.78 2.05 0 2.83L4 21.41c.39.39.9.59 1.41.59.51 0 1.02-.2 1.41-.59l7.78-7.78 2.81-2.81c.8-.78.8-2.07 0-2.86zM5.41 20L4 18.59l7.72-7.72 1.47 1.35L5.41 20z\"/>\n",
              "  </svg>\n",
              "      </button>\n",
              "      \n",
              "  <style>\n",
              "    .colab-df-container {\n",
              "      display:flex;\n",
              "      flex-wrap:wrap;\n",
              "      gap: 12px;\n",
              "    }\n",
              "\n",
              "    .colab-df-convert {\n",
              "      background-color: #E8F0FE;\n",
              "      border: none;\n",
              "      border-radius: 50%;\n",
              "      cursor: pointer;\n",
              "      display: none;\n",
              "      fill: #1967D2;\n",
              "      height: 32px;\n",
              "      padding: 0 0 0 0;\n",
              "      width: 32px;\n",
              "    }\n",
              "\n",
              "    .colab-df-convert:hover {\n",
              "      background-color: #E2EBFA;\n",
              "      box-shadow: 0px 1px 2px rgba(60, 64, 67, 0.3), 0px 1px 3px 1px rgba(60, 64, 67, 0.15);\n",
              "      fill: #174EA6;\n",
              "    }\n",
              "\n",
              "    [theme=dark] .colab-df-convert {\n",
              "      background-color: #3B4455;\n",
              "      fill: #D2E3FC;\n",
              "    }\n",
              "\n",
              "    [theme=dark] .colab-df-convert:hover {\n",
              "      background-color: #434B5C;\n",
              "      box-shadow: 0px 1px 3px 1px rgba(0, 0, 0, 0.15);\n",
              "      filter: drop-shadow(0px 1px 2px rgba(0, 0, 0, 0.3));\n",
              "      fill: #FFFFFF;\n",
              "    }\n",
              "  </style>\n",
              "\n",
              "      <script>\n",
              "        const buttonEl =\n",
              "          document.querySelector('#df-22c1b73e-784e-4c2c-9044-8f7266ce242c button.colab-df-convert');\n",
              "        buttonEl.style.display =\n",
              "          google.colab.kernel.accessAllowed ? 'block' : 'none';\n",
              "\n",
              "        async function convertToInteractive(key) {\n",
              "          const element = document.querySelector('#df-22c1b73e-784e-4c2c-9044-8f7266ce242c');\n",
              "          const dataTable =\n",
              "            await google.colab.kernel.invokeFunction('convertToInteractive',\n",
              "                                                     [key], {});\n",
              "          if (!dataTable) return;\n",
              "\n",
              "          const docLinkHtml = 'Like what you see? Visit the ' +\n",
              "            '<a target=\"_blank\" href=https://colab.research.google.com/notebooks/data_table.ipynb>data table notebook</a>'\n",
              "            + ' to learn more about interactive tables.';\n",
              "          element.innerHTML = '';\n",
              "          dataTable['output_type'] = 'display_data';\n",
              "          await google.colab.output.renderOutput(dataTable, element);\n",
              "          const docLink = document.createElement('div');\n",
              "          docLink.innerHTML = docLinkHtml;\n",
              "          element.appendChild(docLink);\n",
              "        }\n",
              "      </script>\n",
              "    </div>\n",
              "  </div>\n",
              "  "
            ],
            "text/plain": [
              "          x          y  is_train\n",
              "0  0.000799   1.699337       1.0\n",
              "1  0.010214  -0.436091       1.0\n",
              "2  0.071439  -1.873174       1.0\n",
              "3  0.076680  15.854541       1.0\n",
              "4  0.115109  -0.831285       1.0"
            ]
          },
          "metadata": {},
          "execution_count": 28
        }
      ]
    },
    {
      "cell_type": "code",
      "source": [
        "#Pandas Series \n",
        "\n",
        "#Creating Xtrain variable \n",
        "Xtrain = df['x'][df['is_train'] == 1] \n",
        "\n",
        "#Creating ytrain variable \n",
        "ytrain = df['y'][df['is_train'] == 1] \n",
        "\n",
        "#Creating Xtest variable \n",
        "Xtest = df['x'][df['is_train'] == 0] \n",
        "\n",
        "#Creating ytest variable\n",
        "ytest = df['y'][df['is_train'] == 0] "
      ],
      "metadata": {
        "id": "qW1T5Cn8rTmo"
      },
      "execution_count": 29,
      "outputs": []
    },
    {
      "cell_type": "code",
      "source": [
        "#NumPy arrays \n",
        "\n",
        "#Creating Xtrain variable \n",
        "Xtrain = df['x'][df['is_train'] == 1].values.reshape((-1,1))\n",
        "\n",
        "#Creating ytrain variable \n",
        "ytrain = df['y'][df['is_train'] == 1].values.reshape((-1,1))\n",
        "\n",
        "#Creating Xtest variable \n",
        "Xtest = df['x'][df['is_train'] == 0].values.reshape((-1,1))\n",
        "\n",
        "#Creating ytest variable\n",
        "ytest = df['y'][df['is_train'] == 0].values.reshape((-1,1))"
      ],
      "metadata": {
        "id": "aUPqzdpcxyxc"
      },
      "execution_count": 30,
      "outputs": []
    },
    {
      "cell_type": "code",
      "source": [
        "#Scatterplot of the data \n",
        "\n",
        "plt.scatter(Xtrain, ytrain) "
      ],
      "metadata": {
        "colab": {
          "base_uri": "https://localhost:8080/",
          "height": 283
        },
        "id": "9fKJBSWv0Dwj",
        "outputId": "09af546b-ae82-428c-a562-80df021ddc30"
      },
      "execution_count": 31,
      "outputs": [
        {
          "output_type": "execute_result",
          "data": {
            "text/plain": [
              "<matplotlib.collections.PathCollection at 0x7fa07f955c90>"
            ]
          },
          "metadata": {},
          "execution_count": 31
        },
        {
          "output_type": "display_data",
          "data": {
            "image/png": "[encoded data removed]",
            "text/plain": [
              "<Figure size 432x288 with 1 Axes>"
            ]
          },
          "metadata": {
            "needs_background": "light"
          }
        }
      ]
    },
    {
      "cell_type": "code",
      "source": [
        "from sklearn.preprocessing import PolynomialFeatures "
      ],
      "metadata": {
        "id": "zjzcyM8W05iJ"
      },
      "execution_count": 32,
      "outputs": []
    },
    {
      "cell_type": "code",
      "source": [
        "from sklearn.pipeline import make_pipeline \n",
        "\n",
        "poly_model = make_pipeline(PolynomialFeatures(4), LinearRegression()) "
      ],
      "metadata": {
        "id": "z9DNN41f3_nq"
      },
      "execution_count": 33,
      "outputs": []
    },
    {
      "cell_type": "code",
      "source": [
        "poly_model.fit(Xtrain, ytrain) "
      ],
      "metadata": {
        "colab": {
          "base_uri": "https://localhost:8080/"
        },
        "id": "w5DynN_c4U3c",
        "outputId": "17d31adc-22bf-44b1-c6e6-870255ef4b27"
      },
      "execution_count": 34,
      "outputs": [
        {
          "output_type": "execute_result",
          "data": {
            "text/plain": [
              "Pipeline(steps=[('polynomialfeatures', PolynomialFeatures(degree=4)),\n",
              "                ('linearregression', LinearRegression())])"
            ]
          },
          "metadata": {},
          "execution_count": 34
        }
      ]
    },
    {
      "cell_type": "code",
      "source": [
        "#Predict the test data \n",
        "yfit = poly_model.predict(Xtest) "
      ],
      "metadata": {
        "id": "_MBVEWbx46wa"
      },
      "execution_count": 35,
      "outputs": []
    },
    {
      "cell_type": "code",
      "source": [
        "#Show predictions on our data \n",
        "plt.scatter(Xtrain, ytrain)\n",
        "#Plot our line  \n",
        "plt.plot(Xtest, yfit, 'r') "
      ],
      "metadata": {
        "colab": {
          "base_uri": "https://localhost:8080/",
          "height": 283
        },
        "id": "UvErsBCk5Ght",
        "outputId": "12d9a00e-2ccd-4dd1-dc6a-81c1e54c4e21"
      },
      "execution_count": 36,
      "outputs": [
        {
          "output_type": "execute_result",
          "data": {
            "text/plain": [
              "[<matplotlib.lines.Line2D at 0x7fa07f851d10>]"
            ]
          },
          "metadata": {},
          "execution_count": 36
        },
        {
          "output_type": "display_data",
          "data": {
            "image/png": "[encoded data removed]",
            "text/plain": [
              "<Figure size 432x288 with 1 Axes>"
            ]
          },
          "metadata": {
            "needs_background": "light"
          }
        }
      ]
    },
    {
      "cell_type": "code",
      "source": [
        "#Simple to complex models \n",
        "degrees = [1,4,15] \n",
        "\n",
        "plt.figure(figsize=(14,5)) \n",
        "\n",
        "#Loop over each model \n",
        "for i in range(len(degrees)): \n",
        "  ax = plt.subplot(1,len(degrees), i + 1) \n",
        "  plt.setp(ax, xticks=(), yticks=()) \n",
        "\n",
        "  poly_model = make_pipeline(PolynomialFeatures(degrees[i]), LinearRegression()) \n",
        "\n",
        "  poly_model.fit(Xtrain, ytrain) \n",
        "\n",
        "  plt.plot(Xtest, poly_model.predict(Xtest), label=\"Model\")\n",
        "  plt.plot(Xtest, ytest, label=\"True function\")\n",
        "  plt.scatter(Xtrain, ytrain, edgecolor='b', s=20, label=\"Samples\")\n",
        "  plt.xlabel(\"x\")\n",
        "  plt.ylabel(\"y\")\n",
        "  plt.xlim((0, 1))\n",
        "  plt.ylim((-2, 2))\n",
        "  plt.legend(loc=\"best\")\n",
        "  plt.title(\"Degree {}\".format(degrees[i]))\n",
        "\n",
        "plt.show()"
      ],
      "metadata": {
        "id": "K92yMRBp5RaT",
        "colab": {
          "base_uri": "https://localhost:8080/",
          "height": 262
        },
        "outputId": "b712dfb6-048a-4a79-93bc-1b8be558698d"
      },
      "execution_count": 37,
      "outputs": [
        {
          "output_type": "display_data",
          "data": {
            "image/png": "[encoded data removed]",
            "text/plain": [
              "<Figure size 1008x360 with 3 Axes>"
            ]
          },
          "metadata": {}
        }
      ]
    },
    {
      "cell_type": "code",
      "source": [
        "from sklearn.metrics import mean_absolute_error\n",
        "from sklearn.metrics import mean_squared_error\n",
        "\n",
        "poly_model = make_pipeline(PolynomialFeatures(1),\n",
        "                           LinearRegression())\n",
        "\n",
        "poly_model.fit(Xtrain, ytrain)\n",
        "ypred = poly_model.predict(Xtest)\n",
        "\n",
        "mae = mean_absolute_error(ytest, ypred)\n",
        "mse = mean_squared_error(ytest, ypred)\n",
        "\n",
        "print('MAE: {:.4f}, MSE: {:.4f}'.format(mae, mse)) \n"
      ],
      "metadata": {
        "colab": {
          "base_uri": "https://localhost:8080/"
        },
        "id": "JkROLS4M13Nk",
        "outputId": "762ef02b-02b9-4466-e1f6-75d8af8b1b02"
      },
      "execution_count": 38,
      "outputs": [
        {
          "output_type": "stream",
          "name": "stdout",
          "text": [
            "MAE: 6.2029, MSE: 63.5673\n"
          ]
        }
      ]
    },
    {
      "cell_type": "code",
      "source": [
        "poly_model = make_pipeline(PolynomialFeatures(4),\n",
        "                           LinearRegression())\n",
        "\n",
        "poly_model.fit(Xtrain, ytrain)\n",
        "ypred = poly_model.predict(Xtest)\n",
        "\n",
        "mae = mean_absolute_error(ytest, ypred)\n",
        "mse = mean_squared_error(ytest, ypred)\n",
        "\n",
        "print('MAE: {:.4f}, MSE: {:.4f}'.format(mae, mse))\n"
      ],
      "metadata": {
        "colab": {
          "base_uri": "https://localhost:8080/"
        },
        "id": "8xw7dt813ABM",
        "outputId": "926cd94e-b5b1-4c4e-c365-a0b3387d828a"
      },
      "execution_count": 39,
      "outputs": [
        {
          "output_type": "stream",
          "name": "stdout",
          "text": [
            "MAE: 5.5844, MSE: 50.4123\n"
          ]
        }
      ]
    },
    {
      "cell_type": "code",
      "source": [
        "#Best MAE experiments \n",
        "#Simple to complex models \n",
        "degrees = [15,16,17] \n",
        "\n",
        "plt.figure(figsize=(14,5)) \n",
        "\n",
        "#Loop over each model \n",
        "for i in range(len(degrees)): \n",
        "  ax = plt.subplot(1,len(degrees), i + 1) \n",
        "  plt.setp(ax, xticks=(), yticks=()) \n",
        "\n",
        "  poly_model = make_pipeline(PolynomialFeatures(degrees[i]), LinearRegression()) \n",
        "\n",
        "  poly_model.fit(Xtrain, ytrain) \n",
        "  ypred = poly_model.predict(Xtest)\n",
        "\n",
        "  mae = mean_absolute_error(ytest, ypred)\n",
        "  mse = mean_squared_error(ytest, ypred)\n",
        "\n",
        "  print('MAE: {:.4f}, MSE: {:.4f}'.format(mae, mse) + 'degree: ' + str(degrees[i]))\n",
        "\n",
        "  plt.plot(Xtest, poly_model.predict(Xtest), label=\"Model\")\n",
        "  plt.plot(Xtest, ytest, label=\"True function\", color='red')\n",
        "  plt.scatter(Xtrain, ytrain, edgecolor='b', s=20, label=\"Samples\")\n",
        "  plt.xlabel(\"x\")\n",
        "  plt.ylabel(\"y\")\n",
        "  plt.xlim((0, 1))\n",
        "  plt.ylim((-2, 2))\n",
        "  plt.legend(loc=\"best\")\n",
        "  plt.title(\"Degree {}\".format(degrees[i]))\n",
        "\n",
        "\n",
        "plt.show()"
      ],
      "metadata": {
        "colab": {
          "base_uri": "https://localhost:8080/",
          "height": 316
        },
        "id": "EjjwpJFF3WNg",
        "outputId": "746cec6f-16f5-4509-c367-9e88e9b7b0b3"
      },
      "execution_count": 52,
      "outputs": [
        {
          "output_type": "stream",
          "name": "stdout",
          "text": [
            "MAE: 1.6709, MSE: 4.6215degree: 15\n",
            "MAE: 1.2164, MSE: 3.2042degree: 16\n",
            "MAE: 1.3376, MSE: 2.7855degree: 17\n"
          ]
        },
        {
          "output_type": "display_data",
          "data": {
            "image/png": "[encoded data removed]",
            "text/plain": [
              "<Figure size 1008x360 with 3 Axes>"
            ]
          },
          "metadata": {}
        }
      ]
    },
    {
      "cell_type": "code",
      "source": [
        "#The best MAE we can get is with 16 degrees "
      ],
      "metadata": {
        "id": "aq9ONlJp8cLG"
      },
      "execution_count": null,
      "outputs": []
    }
  ]
}