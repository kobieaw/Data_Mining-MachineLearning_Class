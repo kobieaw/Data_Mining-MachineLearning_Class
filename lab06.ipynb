{
  "nbformat": 4,
  "nbformat_minor": 0,
  "metadata": {
    "colab": {
      "name": "lab06.ipynb",
      "provenance": []
    },
    "kernelspec": {
      "name": "python3",
      "display_name": "Python 3"
    },
    "language_info": {
      "name": "python"
    }
  },
  "cells": [
    {
      "cell_type": "markdown",
      "source": [
        "Lab 6: Text Mining \n",
        "\n",
        "Kobie Williams \n",
        "\n",
        "2/22/2022\n",
        "\n",
        "The purpose of this file is to process text to construct feature vectors and use these to identify similar documents"
      ],
      "metadata": {
        "id": "xDmwmiAUBtn1"
      }
    },
    {
      "cell_type": "markdown",
      "source": [
        "My impressions of data mining and machine learning. Data mining is going through data and finding whatever we are looking for in the data. Machine learning is the machine learning from whatever we have done to our data to achieve some desired outcome."
      ],
      "metadata": {
        "id": "5ZsPgeTeDcyU"
      }
    },
    {
      "cell_type": "code",
      "execution_count": 1,
      "metadata": {
        "id": "htzjwRfe-piH"
      },
      "outputs": [],
      "source": [
        "import numpy as np\n",
        "import matplotlib.pyplot as plt\n",
        "import pandas as pd\n",
        "\n",
        "import seaborn as sns\n",
        "from sklearn.model_selection import train_test_split\n",
        "from sklearn.neighbors import KNeighborsClassifier\n",
        "from sklearn.metrics import confusion_matrix"
      ]
    },
    {
      "cell_type": "code",
      "source": [
        "df = pd.read_csv('https://drive.google.com/uc?export=download&id=1u_8wAeimcuUtZSgcDhvhd0SK8KE5fHS5')"
      ],
      "metadata": {
        "id": "jiDhst6PAKf0"
      },
      "execution_count": 2,
      "outputs": []
    },
    {
      "cell_type": "code",
      "source": [
        "df.tail(5)"
      ],
      "metadata": {
        "colab": {
          "base_uri": "https://localhost:8080/",
          "height": 270
        },
        "id": "gm4jVZSSD3i-",
        "outputId": "8d03f891-a029-4066-b708-7f9a2244ca95"
      },
      "execution_count": 3,
      "outputs": [
        {
          "output_type": "execute_result",
          "data": {
            "text/html": [
              "\n",
              "  <div id=\"df-c07c2c25-1c45-48de-ab4a-0865b868901f\">\n",
              "    <div class=\"colab-df-container\">\n",
              "      <div>\n",
              "<style scoped>\n",
              "    .dataframe tbody tr th:only-of-type {\n",
              "        vertical-align: middle;\n",
              "    }\n",
              "\n",
              "    .dataframe tbody tr th {\n",
              "        vertical-align: top;\n",
              "    }\n",
              "\n",
              "    .dataframe thead th {\n",
              "        text-align: right;\n",
              "    }\n",
              "</style>\n",
              "<table border=\"1\" class=\"dataframe\">\n",
              "  <thead>\n",
              "    <tr style=\"text-align: right;\">\n",
              "      <th></th>\n",
              "      <th>Impressions</th>\n",
              "      <th>Courses</th>\n",
              "      <th>Motivation_grade</th>\n",
              "      <th>Motivation_future_career</th>\n",
              "      <th>Motivation_intellectual_challenge</th>\n",
              "      <th>Motivation_code_cool_stuff</th>\n",
              "      <th>Motivation_social_interaction</th>\n",
              "      <th>Motivation_ahead_of_time</th>\n",
              "      <th>Confidence_java</th>\n",
              "      <th>Confidence_python</th>\n",
              "      <th>Confidence_nested_loops</th>\n",
              "      <th>Confidence_pseudocode</th>\n",
              "      <th>Confidence_summations</th>\n",
              "      <th>Confidence_partial_derivatives</th>\n",
              "      <th>Confidence_vector_dot_product</th>\n",
              "      <th>Confidence_linear_regression</th>\n",
              "      <th>Confidence_conditional_probability</th>\n",
              "    </tr>\n",
              "  </thead>\n",
              "  <tbody>\n",
              "    <tr>\n",
              "      <th>29</th>\n",
              "      <td>NaN</td>\n",
              "      <td>NaN</td>\n",
              "      <td>NaN</td>\n",
              "      <td>NaN</td>\n",
              "      <td>NaN</td>\n",
              "      <td>NaN</td>\n",
              "      <td>NaN</td>\n",
              "      <td>NaN</td>\n",
              "      <td>NaN</td>\n",
              "      <td>NaN</td>\n",
              "      <td>NaN</td>\n",
              "      <td>NaN</td>\n",
              "      <td>NaN</td>\n",
              "      <td>NaN</td>\n",
              "      <td>NaN</td>\n",
              "      <td>NaN</td>\n",
              "      <td>NaN</td>\n",
              "    </tr>\n",
              "    <tr>\n",
              "      <th>30</th>\n",
              "      <td>NaN</td>\n",
              "      <td>NaN</td>\n",
              "      <td>NaN</td>\n",
              "      <td>NaN</td>\n",
              "      <td>NaN</td>\n",
              "      <td>NaN</td>\n",
              "      <td>NaN</td>\n",
              "      <td>NaN</td>\n",
              "      <td>NaN</td>\n",
              "      <td>NaN</td>\n",
              "      <td>NaN</td>\n",
              "      <td>NaN</td>\n",
              "      <td>NaN</td>\n",
              "      <td>NaN</td>\n",
              "      <td>NaN</td>\n",
              "      <td>NaN</td>\n",
              "      <td>NaN</td>\n",
              "    </tr>\n",
              "    <tr>\n",
              "      <th>31</th>\n",
              "      <td>NaN</td>\n",
              "      <td>NaN</td>\n",
              "      <td>NaN</td>\n",
              "      <td>NaN</td>\n",
              "      <td>NaN</td>\n",
              "      <td>NaN</td>\n",
              "      <td>NaN</td>\n",
              "      <td>NaN</td>\n",
              "      <td>NaN</td>\n",
              "      <td>NaN</td>\n",
              "      <td>NaN</td>\n",
              "      <td>NaN</td>\n",
              "      <td>NaN</td>\n",
              "      <td>NaN</td>\n",
              "      <td>NaN</td>\n",
              "      <td>NaN</td>\n",
              "      <td>NaN</td>\n",
              "    </tr>\n",
              "    <tr>\n",
              "      <th>32</th>\n",
              "      <td>NaN</td>\n",
              "      <td>NaN</td>\n",
              "      <td>NaN</td>\n",
              "      <td>NaN</td>\n",
              "      <td>NaN</td>\n",
              "      <td>NaN</td>\n",
              "      <td>NaN</td>\n",
              "      <td>NaN</td>\n",
              "      <td>NaN</td>\n",
              "      <td>NaN</td>\n",
              "      <td>NaN</td>\n",
              "      <td>NaN</td>\n",
              "      <td>NaN</td>\n",
              "      <td>NaN</td>\n",
              "      <td>NaN</td>\n",
              "      <td>NaN</td>\n",
              "      <td>NaN</td>\n",
              "    </tr>\n",
              "    <tr>\n",
              "      <th>33</th>\n",
              "      <td>NaN</td>\n",
              "      <td>NaN</td>\n",
              "      <td>NaN</td>\n",
              "      <td>NaN</td>\n",
              "      <td>NaN</td>\n",
              "      <td>NaN</td>\n",
              "      <td>NaN</td>\n",
              "      <td>NaN</td>\n",
              "      <td>NaN</td>\n",
              "      <td>NaN</td>\n",
              "      <td>NaN</td>\n",
              "      <td>NaN</td>\n",
              "      <td>NaN</td>\n",
              "      <td>NaN</td>\n",
              "      <td>NaN</td>\n",
              "      <td>NaN</td>\n",
              "      <td>NaN</td>\n",
              "    </tr>\n",
              "  </tbody>\n",
              "</table>\n",
              "</div>\n",
              "      <button class=\"colab-df-convert\" onclick=\"convertToInteractive('df-c07c2c25-1c45-48de-ab4a-0865b868901f')\"\n",
              "              title=\"Convert this dataframe to an interactive table.\"\n",
              "              style=\"display:none;\">\n",
              "        \n",
              "  <svg xmlns=\"http://www.w3.org/2000/svg\" height=\"24px\"viewBox=\"0 0 24 24\"\n",
              "       width=\"24px\">\n",
              "    <path d=\"M0 0h24v24H0V0z\" fill=\"none\"/>\n",
              "    <path d=\"M18.56 5.44l.94 2.06.94-2.06 2.06-.94-2.06-.94-.94-2.06-.94 2.06-2.06.94zm-11 1L8.5 8.5l.94-2.06 2.06-.94-2.06-.94L8.5 2.5l-.94 2.06-2.06.94zm10 10l.94 2.06.94-2.06 2.06-.94-2.06-.94-.94-2.06-.94 2.06-2.06.94z\"/><path d=\"M17.41 7.96l-1.37-1.37c-.4-.4-.92-.59-1.43-.59-.52 0-1.04.2-1.43.59L10.3 9.45l-7.72 7.72c-.78.78-.78 2.05 0 2.83L4 21.41c.39.39.9.59 1.41.59.51 0 1.02-.2 1.41-.59l7.78-7.78 2.81-2.81c.8-.78.8-2.07 0-2.86zM5.41 20L4 18.59l7.72-7.72 1.47 1.35L5.41 20z\"/>\n",
              "  </svg>\n",
              "      </button>\n",
              "      \n",
              "  <style>\n",
              "    .colab-df-container {\n",
              "      display:flex;\n",
              "      flex-wrap:wrap;\n",
              "      gap: 12px;\n",
              "    }\n",
              "\n",
              "    .colab-df-convert {\n",
              "      background-color: #E8F0FE;\n",
              "      border: none;\n",
              "      border-radius: 50%;\n",
              "      cursor: pointer;\n",
              "      display: none;\n",
              "      fill: #1967D2;\n",
              "      height: 32px;\n",
              "      padding: 0 0 0 0;\n",
              "      width: 32px;\n",
              "    }\n",
              "\n",
              "    .colab-df-convert:hover {\n",
              "      background-color: #E2EBFA;\n",
              "      box-shadow: 0px 1px 2px rgba(60, 64, 67, 0.3), 0px 1px 3px 1px rgba(60, 64, 67, 0.15);\n",
              "      fill: #174EA6;\n",
              "    }\n",
              "\n",
              "    [theme=dark] .colab-df-convert {\n",
              "      background-color: #3B4455;\n",
              "      fill: #D2E3FC;\n",
              "    }\n",
              "\n",
              "    [theme=dark] .colab-df-convert:hover {\n",
              "      background-color: #434B5C;\n",
              "      box-shadow: 0px 1px 3px 1px rgba(0, 0, 0, 0.15);\n",
              "      filter: drop-shadow(0px 1px 2px rgba(0, 0, 0, 0.3));\n",
              "      fill: #FFFFFF;\n",
              "    }\n",
              "  </style>\n",
              "\n",
              "      <script>\n",
              "        const buttonEl =\n",
              "          document.querySelector('#df-c07c2c25-1c45-48de-ab4a-0865b868901f button.colab-df-convert');\n",
              "        buttonEl.style.display =\n",
              "          google.colab.kernel.accessAllowed ? 'block' : 'none';\n",
              "\n",
              "        async function convertToInteractive(key) {\n",
              "          const element = document.querySelector('#df-c07c2c25-1c45-48de-ab4a-0865b868901f');\n",
              "          const dataTable =\n",
              "            await google.colab.kernel.invokeFunction('convertToInteractive',\n",
              "                                                     [key], {});\n",
              "          if (!dataTable) return;\n",
              "\n",
              "          const docLinkHtml = 'Like what you see? Visit the ' +\n",
              "            '<a target=\"_blank\" href=https://colab.research.google.com/notebooks/data_table.ipynb>data table notebook</a>'\n",
              "            + ' to learn more about interactive tables.';\n",
              "          element.innerHTML = '';\n",
              "          dataTable['output_type'] = 'display_data';\n",
              "          await google.colab.output.renderOutput(dataTable, element);\n",
              "          const docLink = document.createElement('div');\n",
              "          docLink.innerHTML = docLinkHtml;\n",
              "          element.appendChild(docLink);\n",
              "        }\n",
              "      </script>\n",
              "    </div>\n",
              "  </div>\n",
              "  "
            ],
            "text/plain": [
              "   Impressions  ... Confidence_conditional_probability\n",
              "29         NaN  ...                                NaN\n",
              "30         NaN  ...                                NaN\n",
              "31         NaN  ...                                NaN\n",
              "32         NaN  ...                                NaN\n",
              "33         NaN  ...                                NaN\n",
              "\n",
              "[5 rows x 17 columns]"
            ]
          },
          "metadata": {},
          "execution_count": 3
        }
      ]
    },
    {
      "cell_type": "code",
      "source": [
        "df = df.dropna()"
      ],
      "metadata": {
        "id": "w8csxrK3EflB"
      },
      "execution_count": 4,
      "outputs": []
    },
    {
      "cell_type": "code",
      "source": [
        "impressions = df['Impressions']\n",
        "pd.set_option('display.max_colwidth', None)\n",
        "impressions.head(5)"
      ],
      "metadata": {
        "colab": {
          "base_uri": "https://localhost:8080/"
        },
        "id": "9ZtG6u1tGiwP",
        "outputId": "8e3a60a2-7f8b-4a92-d157-dcb71d33cb1b"
      },
      "execution_count": 5,
      "outputs": [
        {
          "output_type": "execute_result",
          "data": {
            "text/plain": [
              "0             buzzwordy, but needed. I'm excited to learn deeper methods of data mining and machine learning. Usually when I see machine learning, I assume that people are just applying models, so I'm curious about what we'll learn.\n",
              "1                                                                                                                                                                                                           I don’t know much about them\n",
              "2    These two concepts seem intimately intertwined. The DM part of the course seems to be centered around web crawling? And the ML part is more math based with less coding and more \"tying togetherness.\" Very excited for the course.\n",
              "3                                                        To me, data mining is being able to harvest data of interest to inform and make decisions. And machine learning is teaching machines tasks to increase efficiency and accuracy.\n",
              "4                    I believe data mining is looking through code and data to try to find answers to potential questions. Machine learning is programing a machine to be able to learn and improve on its own to become more efficient.\n",
              "Name: Impressions, dtype: object"
            ]
          },
          "metadata": {},
          "execution_count": 5
        }
      ]
    },
    {
      "cell_type": "code",
      "source": [
        "stop_list = ['a', 'an', 'the', 'and', 'has', 'in', 'had', 'was', 'little', 'to']"
      ],
      "metadata": {
        "id": "NWEYLfLGG-e5"
      },
      "execution_count": 6,
      "outputs": []
    },
    {
      "cell_type": "code",
      "source": [
        "from sklearn.feature_extraction.text import CountVectorizer \n",
        "#turns everything lowercase \n",
        "#removes stopwords \n",
        "count_vect = CountVectorizer(lowercase=True, stop_words=stop_list) \n",
        "\n",
        "#Extract terms and count occurrences for the impressions data \n",
        "sparse_counts = count_vect.fit_transform(df['Impressions'])\n",
        "\n",
        "count_vect.get_feature_names_out() "
      ],
      "metadata": {
        "colab": {
          "base_uri": "https://localhost:8080/"
        },
        "id": "mVTg68OoK2EG",
        "outputId": "592add36-ad2f-4d31-cc2b-7bd7ab7c737c"
      },
      "execution_count": 7,
      "outputs": [
        {
          "output_type": "execute_result",
          "data": {
            "text/plain": [
              "array(['ability', 'able', 'about', 'accuracy', 'aid', 'algorithm', 'am',\n",
              "       'amazon', 'analysis', 'analytics', 'analyze', 'answers',\n",
              "       'applying', 'are', 'around', 'artificial', 'assume', 'assuming',\n",
              "       'automating', 'bad', 'based', 'be', 'become', 'becoming', 'been',\n",
              "       'being', 'believe', 'big', 'bit', 'boggling', 'both', 'business',\n",
              "       'but', 'buzzwordy', 'by', 'can', 'capable', 'centered', 'cleaning',\n",
              "       'code', 'coding', 'comes', 'completing', 'computer', 'computers',\n",
              "       'concepts', 'condition', 'constructing', 'cool', 'course',\n",
              "       'crawling', 'curious', 'data', 'databases', 'decisions', 'deeper',\n",
              "       'degree', 'determine', 'discipline', 'dm', 'do', 'don',\n",
              "       'dynamically', 'efficiency', 'efficient', 'ever', 'everything',\n",
              "       'evolving', 'excited', 'experience', 'exposure', 'extremely',\n",
              "       'fascinating', 'fields', 'financial', 'find', 'fit', 'for',\n",
              "       'forward', 'from', 'future', 'gathering', 'get', 'good', 'hands',\n",
              "       'harvest', 'have', 'having', 'heard', 'helps', 'hoping', 'how',\n",
              "       'humans', 'important', 'impressions', 'improve', 'increase',\n",
              "       'increasingly', 'inform', 'information', 'innovative',\n",
              "       'intelligence', 'interest', 'interesting', 'internships',\n",
              "       'interpret', 'intertwined', 'intimately', 'into', 'is', 'it',\n",
              "       'its', 'just', 'know', 'large', 'learn', 'learning', 'less',\n",
              "       'like', 'll', 'looking', 'lots', 'love', 'machine', 'machines',\n",
              "       'make', 'manipulate', 'math', 'me', 'meaningful', 'methods',\n",
              "       'mind', 'mining', 'ml', 'model', 'models', 'more', 'mostly',\n",
              "       'much', 'needed', 'nervous', 'not', 'nothing', 'object', 'of',\n",
              "       'off', 'on', 'or', 'out', 'own', 'part', 'patterns', 'people',\n",
              "       'positive', 'potential', 'powerful', 'predict', 'prevalent',\n",
              "       'prior', 'problem', 'problems', 'process', 'processes',\n",
              "       'programing', 'pull', 'put', 'python', 'questions', 'ranging',\n",
              "       'related', 'relevant', 'research', 'sales', 'school', 'science',\n",
              "       'scientist', 'scrape', 'scraping', 'see', 'seem', 'seems', 'sets',\n",
              "       'so', 'solve', 'some', 'something', 'sophisticated', 'sort',\n",
              "       'sounds', 'specific', 'taken', 'taking', 'tasks', 'teaching',\n",
              "       'that', 'them', 'these', 'think', 'this', 'through',\n",
              "       'togetherness', 'topic', 'topics', 'transforming', 'trends', 'try',\n",
              "       'twitter', 'two', 'tying', 'understand', 'understanding',\n",
              "       'unorganized', 'use', 'used', 'uses', 'using', 'usually', 've',\n",
              "       'very', 'way', 'ways', 'we', 'web', 'what', 'when', 'will',\n",
              "       'willing', 'with', 'work', 'worked'], dtype=object)"
            ]
          },
          "metadata": {},
          "execution_count": 7
        }
      ]
    },
    {
      "cell_type": "code",
      "source": [
        "sparse_counts"
      ],
      "metadata": {
        "colab": {
          "base_uri": "https://localhost:8080/"
        },
        "id": "Q5TRzTHjNnxj",
        "outputId": "d63835dc-513f-4a9f-a2db-eda445c86ca0"
      },
      "execution_count": 8,
      "outputs": [
        {
          "output_type": "execute_result",
          "data": {
            "text/plain": [
              "<24x230 sparse matrix of type '<class 'numpy.int64'>'\n",
              "\twith 374 stored elements in Compressed Sparse Row format>"
            ]
          },
          "metadata": {},
          "execution_count": 8
        }
      ]
    },
    {
      "cell_type": "code",
      "source": [
        "counts = np.asarray(sparse_counts.todense()) \n",
        "counts"
      ],
      "metadata": {
        "colab": {
          "base_uri": "https://localhost:8080/"
        },
        "id": "_BlDb8mHNtBt",
        "outputId": "8450b7a8-4471-4f99-a4a1-52cd3eda71b0"
      },
      "execution_count": 9,
      "outputs": [
        {
          "output_type": "execute_result",
          "data": {
            "text/plain": [
              "array([[0, 0, 1, ..., 0, 0, 0],\n",
              "       [0, 0, 1, ..., 0, 0, 0],\n",
              "       [0, 0, 0, ..., 1, 0, 0],\n",
              "       ...,\n",
              "       [1, 0, 0, ..., 2, 0, 0],\n",
              "       [0, 0, 0, ..., 0, 0, 0],\n",
              "       [0, 0, 0, ..., 0, 0, 0]])"
            ]
          },
          "metadata": {},
          "execution_count": 9
        }
      ]
    },
    {
      "cell_type": "code",
      "source": [
        "#printing out the first 10 terms and the counts for the first 5 examles \n",
        "feat_idx = range(10)\n",
        "feat_name = count_vect.get_feature_names_out()[feat_idx] \n",
        "\n",
        "print('Counts for feature:', feat_name) \n",
        "\n",
        "counts[:, feat_idx] "
      ],
      "metadata": {
        "colab": {
          "base_uri": "https://localhost:8080/"
        },
        "id": "SIJJPQb9N0E6",
        "outputId": "fe23eb86-a965-4f8e-f2af-f7bf2a78c248"
      },
      "execution_count": 10,
      "outputs": [
        {
          "output_type": "stream",
          "name": "stdout",
          "text": [
            "Counts for feature: ['ability' 'able' 'about' 'accuracy' 'aid' 'algorithm' 'am' 'amazon'\n",
            " 'analysis' 'analytics']\n"
          ]
        },
        {
          "output_type": "execute_result",
          "data": {
            "text/plain": [
              "array([[0, 0, 1, 0, 0, 0, 0, 0, 0, 0],\n",
              "       [0, 0, 1, 0, 0, 0, 0, 0, 0, 0],\n",
              "       [0, 0, 0, 0, 0, 0, 0, 0, 0, 0],\n",
              "       [0, 1, 0, 1, 0, 0, 0, 0, 0, 0],\n",
              "       [0, 1, 0, 0, 0, 0, 0, 0, 0, 0],\n",
              "       [0, 0, 0, 0, 0, 0, 0, 0, 0, 0],\n",
              "       [0, 0, 0, 0, 0, 0, 0, 0, 0, 0],\n",
              "       [0, 1, 0, 0, 0, 0, 2, 0, 0, 0],\n",
              "       [0, 0, 0, 0, 0, 0, 0, 0, 0, 0],\n",
              "       [0, 0, 0, 0, 0, 0, 0, 0, 0, 0],\n",
              "       [0, 0, 0, 0, 0, 0, 0, 0, 0, 0],\n",
              "       [0, 0, 1, 0, 0, 0, 0, 0, 0, 0],\n",
              "       [0, 1, 0, 0, 0, 0, 0, 0, 0, 0],\n",
              "       [0, 0, 0, 0, 0, 0, 0, 0, 0, 0],\n",
              "       [0, 0, 0, 0, 1, 0, 0, 0, 0, 0],\n",
              "       [0, 0, 1, 0, 0, 0, 0, 0, 0, 1],\n",
              "       [0, 0, 0, 0, 0, 0, 0, 0, 0, 0],\n",
              "       [0, 0, 0, 0, 1, 0, 0, 0, 1, 0],\n",
              "       [0, 0, 1, 0, 0, 0, 0, 1, 0, 0],\n",
              "       [0, 0, 0, 0, 0, 1, 0, 0, 0, 0],\n",
              "       [0, 0, 0, 0, 0, 0, 0, 0, 0, 0],\n",
              "       [1, 0, 0, 0, 0, 0, 0, 0, 1, 0],\n",
              "       [0, 0, 0, 0, 0, 0, 0, 0, 0, 0],\n",
              "       [0, 0, 0, 0, 0, 0, 0, 0, 0, 0]])"
            ]
          },
          "metadata": {},
          "execution_count": 10
        }
      ]
    },
    {
      "cell_type": "code",
      "source": [
        "#TF-IDF scores \n",
        "from sklearn.feature_extraction.text import TfidfTransformer \n",
        "\n",
        "tfidf_transformer = TfidfTransformer() \n",
        "\n",
        "#sparse counts with tfidf \n",
        "sparse_tfidf = tfidf_transformer.fit_transform(counts) \n",
        "tfidf = np.asarray(sparse_tfidf.todense()) \n",
        "tfidf "
      ],
      "metadata": {
        "colab": {
          "base_uri": "https://localhost:8080/"
        },
        "id": "gx3jxk1-OaIG",
        "outputId": "a72c3a71-764a-465e-a6a4-ebc1f54da90c"
      },
      "execution_count": 11,
      "outputs": [
        {
          "output_type": "execute_result",
          "data": {
            "text/plain": [
              "array([[0.        , 0.        , 0.13910068, ..., 0.        , 0.        ,\n",
              "        0.        ],\n",
              "       [0.        , 0.        , 0.35205268, ..., 0.        , 0.        ,\n",
              "        0.        ],\n",
              "       [0.        , 0.        , 0.        , ..., 0.13156664, 0.        ,\n",
              "        0.        ],\n",
              "       ...,\n",
              "       [0.35958469, 0.        , 0.        , ..., 0.53226667, 0.        ,\n",
              "        0.        ],\n",
              "       [0.        , 0.        , 0.        , ..., 0.        , 0.        ,\n",
              "        0.        ],\n",
              "       [0.        , 0.        , 0.        , ..., 0.        , 0.        ,\n",
              "        0.        ]])"
            ]
          },
          "metadata": {},
          "execution_count": 11
        }
      ]
    },
    {
      "cell_type": "code",
      "source": [
        "#heat map \n",
        "#fColumns = range(40)\n",
        "plt.figure(figsize=(10,1)) \n",
        "sns.heatmap(tfidf[:,:40],square=False, annot=False, cbar=True, cmap=\"Purples\",\n",
        "            xticklabels=count_vect.get_feature_names_out()[:40]) \n",
        "plt.xticks(rotation=90) \n",
        "plt.xlabel('Features') \n",
        "plt.ylabel('Examples') \n",
        "plt.title('TF-IDF Feature Vectors') \n",
        "plt.show() "
      ],
      "metadata": {
        "colab": {
          "base_uri": "https://localhost:8080/",
          "height": 180
        },
        "id": "qgBlmGl4RcKP",
        "outputId": "0b8ee4ff-f3b9-4f64-caea-e876e9ad5c70"
      },
      "execution_count": 14,
      "outputs": [
        {
          "output_type": "display_data",
          "data": {
            "image/png": "[encoded data removed]",
            "text/plain": [
              "<Figure size 720x72 with 2 Axes>"
            ]
          },
          "metadata": {
            "needs_background": "light"
          }
        }
      ]
    },
    {
      "cell_type": "code",
      "source": [
        "#\n",
        "#Using nearest neighbors from our examples to find \n",
        "new_example = [\"My impressions of data mining and machine learning. Data mining is going through data and finding whatever we are looking for in the data. Machine learning is the machine learning from whatever we have done to our data to achieve some desired outcome.\"]\n",
        "\n",
        "new_counts = count_vect.transform(new_example) \n",
        "\n",
        "new_tfidf = tfidf_transformer.transform(new_counts) \n",
        "\n",
        "new_tfidf = np.asarray(new_tfidf.todense()) \n",
        "\n",
        "new_tfidf \n",
        "\n"
      ],
      "metadata": {
        "id": "1_crrJwnYqB_",
        "colab": {
          "base_uri": "https://localhost:8080/"
        },
        "outputId": "ca914bf1-f443-4764-d717-5b4fc2cefda1"
      },
      "execution_count": 15,
      "outputs": [
        {
          "output_type": "execute_result",
          "data": {
            "text/plain": [
              "array([[0.        , 0.        , 0.        , 0.        , 0.        ,\n",
              "        0.        , 0.        , 0.        , 0.        , 0.        ,\n",
              "        0.        , 0.        , 0.        , 0.18156912, 0.        ,\n",
              "        0.        , 0.        , 0.        , 0.        , 0.        ,\n",
              "        0.        , 0.        , 0.        , 0.        , 0.        ,\n",
              "        0.        , 0.        , 0.        , 0.        , 0.        ,\n",
              "        0.        , 0.        , 0.        , 0.        , 0.        ,\n",
              "        0.        , 0.        , 0.        , 0.        , 0.        ,\n",
              "        0.        , 0.        , 0.        , 0.        , 0.        ,\n",
              "        0.        , 0.        , 0.        , 0.        , 0.        ,\n",
              "        0.        , 0.        , 0.4395771 , 0.        , 0.        ,\n",
              "        0.        , 0.        , 0.        , 0.        , 0.        ,\n",
              "        0.        , 0.        , 0.        , 0.        , 0.        ,\n",
              "        0.        , 0.        , 0.        , 0.        , 0.        ,\n",
              "        0.        , 0.        , 0.        , 0.        , 0.        ,\n",
              "        0.        , 0.        , 0.18156912, 0.        , 0.18156912,\n",
              "        0.        , 0.        , 0.        , 0.        , 0.        ,\n",
              "        0.        , 0.18156912, 0.        , 0.        , 0.        ,\n",
              "        0.        , 0.        , 0.        , 0.        , 0.20516326,\n",
              "        0.        , 0.        , 0.        , 0.        , 0.        ,\n",
              "        0.        , 0.        , 0.        , 0.        , 0.        ,\n",
              "        0.        , 0.        , 0.        , 0.        , 0.23528105,\n",
              "        0.        , 0.        , 0.        , 0.        , 0.        ,\n",
              "        0.        , 0.35292157, 0.        , 0.        , 0.        ,\n",
              "        0.18156912, 0.        , 0.        , 0.35292157, 0.        ,\n",
              "        0.        , 0.        , 0.        , 0.        , 0.        ,\n",
              "        0.        , 0.        , 0.20180043, 0.        , 0.        ,\n",
              "        0.        , 0.        , 0.        , 0.        , 0.        ,\n",
              "        0.        , 0.        , 0.        , 0.        , 0.10596343,\n",
              "        0.        , 0.        , 0.        , 0.        , 0.        ,\n",
              "        0.        , 0.        , 0.        , 0.        , 0.        ,\n",
              "        0.        , 0.        , 0.        , 0.        , 0.        ,\n",
              "        0.        , 0.        , 0.        , 0.        , 0.        ,\n",
              "        0.        , 0.        , 0.        , 0.        , 0.        ,\n",
              "        0.        , 0.        , 0.        , 0.        , 0.        ,\n",
              "        0.        , 0.        , 0.        , 0.        , 0.        ,\n",
              "        0.        , 0.        , 0.        , 0.        , 0.18156912,\n",
              "        0.        , 0.        , 0.        , 0.        , 0.        ,\n",
              "        0.        , 0.        , 0.        , 0.        , 0.        ,\n",
              "        0.        , 0.        , 0.        , 0.        , 0.20516326,\n",
              "        0.        , 0.        , 0.        , 0.        , 0.        ,\n",
              "        0.        , 0.        , 0.        , 0.        , 0.        ,\n",
              "        0.        , 0.        , 0.        , 0.        , 0.        ,\n",
              "        0.        , 0.        , 0.        , 0.        , 0.        ,\n",
              "        0.        , 0.41032653, 0.        , 0.        , 0.        ,\n",
              "        0.        , 0.        , 0.        , 0.        , 0.        ]])"
            ]
          },
          "metadata": {},
          "execution_count": 15
        }
      ]
    },
    {
      "cell_type": "code",
      "source": [
        "#to find 5 most similar, use nearest neighbors \n",
        "\n",
        "from sklearn.neighbors import NearestNeighbors\n",
        "\n",
        "#Create the KNN model \n",
        "knn = NearestNeighbors(n_neighbors=5, algorithm='brute', metric='cosine') \n",
        "\n",
        "model = knn.fit(tfidf) \n",
        "model"
      ],
      "metadata": {
        "colab": {
          "base_uri": "https://localhost:8080/"
        },
        "id": "xv1u14Wu1DVz",
        "outputId": "7687b56e-3a9c-4674-cbaa-6e7348b507af"
      },
      "execution_count": 18,
      "outputs": [
        {
          "output_type": "execute_result",
          "data": {
            "text/plain": [
              "NearestNeighbors(algorithm='brute', metric='cosine')"
            ]
          },
          "metadata": {},
          "execution_count": 18
        }
      ]
    },
    {
      "cell_type": "code",
      "source": [
        "distance, neighbor_idx = model.kneighbors(new_tfidf) \n",
        "\n",
        "print('Distances to neighbors:\\n', distance) \n",
        "\n",
        "print('\\nNeighbor index:') \n",
        "neighbor_idx"
      ],
      "metadata": {
        "colab": {
          "base_uri": "https://localhost:8080/"
        },
        "id": "5WOcjJ-G3FB9",
        "outputId": "adde74c2-3f98-4e73-c92f-0d80a8cb463c"
      },
      "execution_count": 19,
      "outputs": [
        {
          "output_type": "stream",
          "name": "stdout",
          "text": [
            "Distances to neighbors:\n",
            " [[0.62435128 0.65188223 0.66667005 0.70174677 0.72501405]]\n",
            "\n",
            "Neighbor index:\n"
          ]
        },
        {
          "output_type": "execute_result",
          "data": {
            "text/plain": [
              "array([[ 4,  0,  7,  3, 18]])"
            ]
          },
          "metadata": {},
          "execution_count": 19
        }
      ]
    },
    {
      "cell_type": "code",
      "source": [
        "for i in neighbor_idx: \n",
        "  print(i, impressions.iloc[i])"
      ],
      "metadata": {
        "colab": {
          "base_uri": "https://localhost:8080/"
        },
        "id": "MssWYPIv3gcV",
        "outputId": "9e7c5172-edcd-4491-dfee-714c849c6390"
      },
      "execution_count": 26,
      "outputs": [
        {
          "output_type": "stream",
          "name": "stdout",
          "text": [
            "[ 4  0  7  3 18] 4                                                                                                                                                                                                 I believe data mining is looking through code and data to try to find answers to potential questions. Machine learning is programing a machine to be able to learn and improve on its own to become more efficient.\n",
            "0                                                                                                                                                                                          buzzwordy, but needed. I'm excited to learn deeper methods of data mining and machine learning. Usually when I see machine learning, I assume that people are just applying models, so I'm curious about what we'll learn.\n",
            "7     I find it fascinating how data mining is becoming increasingly prevalent in fields ranging from sales to financial research and how data scientist are able to some degree predict future trends in these fields. I am looking forward to learning how data mining is used by machine learning and am very excited to work on problems and get some hands on experience in this discipline of computer science.\n",
            "3                                                                                                                                                                                                                                     To me, data mining is being able to harvest data of interest to inform and make decisions. And machine learning is teaching machines tasks to increase efficiency and accuracy.\n",
            "18                                                                                                                                                                                                                                                            I know nothing about machine learning. I think data mining has something to do with gathering data? I worked with scraping data off Twitter and Amazon.\n",
            "Name: Impressions, dtype: object\n"
          ]
        }
      ]
    },
    {
      "cell_type": "code",
      "source": [
        ""
      ],
      "metadata": {
        "id": "UWj2qzMV357p"
      },
      "execution_count": null,
      "outputs": []
    }
  ]
}