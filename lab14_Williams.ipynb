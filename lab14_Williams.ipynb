{
  "nbformat": 4,
  "nbformat_minor": 0,
  "metadata": {
    "colab": {
      "name": "lab14_Williams.ipynb",
      "provenance": []
    },
    "kernelspec": {
      "name": "python3",
      "display_name": "Python 3"
    },
    "language_info": {
      "name": "python"
    }
  },
  "cells": [
    {
      "cell_type": "markdown",
      "source": [
        "Lab 14: Artificial Neural Networks \n",
        "\n",
        "Kobie Williams \n",
        "\n",
        "4/12/2022 \n",
        "\n",
        "The purpose of this lab is to experiment with artificial neural networks for classification. "
      ],
      "metadata": {
        "id": "l3KSE1kf-AAJ"
      }
    },
    {
      "cell_type": "code",
      "execution_count": 95,
      "metadata": {
        "id": "-pfZuwiS96UO"
      },
      "outputs": [],
      "source": [
        "import pandas as pd \n",
        "import numpy as np \n",
        "from sklearn.neural_network import MLPClassifier"
      ]
    },
    {
      "cell_type": "code",
      "source": [
        "df = pd.read_csv('https://drive.google.com/uc?export=download&id=15OZ7JhQaX2SEqqQAUbyller5PThdmC7M')"
      ],
      "metadata": {
        "id": "a5FxfvcO-dJ1"
      },
      "execution_count": 96,
      "outputs": []
    },
    {
      "cell_type": "code",
      "source": [
        "df.head(5)"
      ],
      "metadata": {
        "colab": {
          "base_uri": "https://localhost:8080/",
          "height": 270
        },
        "id": "vnS6Q5SH-i2T",
        "outputId": "c6ec2de7-cf7c-449c-b52f-956c8ac3fc99"
      },
      "execution_count": 97,
      "outputs": [
        {
          "output_type": "execute_result",
          "data": {
            "text/plain": [
              "            0          1          2           3            4         5  \\\n",
              "0  102.393791  -6.669607   4.139702 -506.777860  5001.020749 -1.073970   \n",
              "1  102.226595  -0.983775   5.996475  648.288942  4999.978850  0.988241   \n",
              "2  101.035779  10.449141  10.245834  196.562477  4999.717040 -0.363915   \n",
              "3   97.059522   7.075832   8.621515  610.339461  4996.834356 -1.404712   \n",
              "4   99.115294 -47.498000   9.093882  715.756109  4999.408722  2.058694   \n",
              "\n",
              "          6         7         8         9   10  \n",
              "0 -2.550183  0.363348  1.787044 -0.070631  1.0  \n",
              "1  0.025666  1.318736  1.586718 -0.102418  0.0  \n",
              "2 -0.388911 -0.332252  1.693191  1.384075  1.0  \n",
              "3  0.341290  2.462631  0.011489 -0.229269  1.0  \n",
              "4 -1.583398  1.947976 -4.709636  0.579274  1.0  "
            ],
            "text/html": [
              "\n",
              "  <div id=\"df-8c6662f3-8173-450a-a206-58b87cb93b58\">\n",
              "    <div class=\"colab-df-container\">\n",
              "      <div>\n",
              "<style scoped>\n",
              "    .dataframe tbody tr th:only-of-type {\n",
              "        vertical-align: middle;\n",
              "    }\n",
              "\n",
              "    .dataframe tbody tr th {\n",
              "        vertical-align: top;\n",
              "    }\n",
              "\n",
              "    .dataframe thead th {\n",
              "        text-align: right;\n",
              "    }\n",
              "</style>\n",
              "<table border=\"1\" class=\"dataframe\">\n",
              "  <thead>\n",
              "    <tr style=\"text-align: right;\">\n",
              "      <th></th>\n",
              "      <th>0</th>\n",
              "      <th>1</th>\n",
              "      <th>2</th>\n",
              "      <th>3</th>\n",
              "      <th>4</th>\n",
              "      <th>5</th>\n",
              "      <th>6</th>\n",
              "      <th>7</th>\n",
              "      <th>8</th>\n",
              "      <th>9</th>\n",
              "      <th>10</th>\n",
              "    </tr>\n",
              "  </thead>\n",
              "  <tbody>\n",
              "    <tr>\n",
              "      <th>0</th>\n",
              "      <td>102.393791</td>\n",
              "      <td>-6.669607</td>\n",
              "      <td>4.139702</td>\n",
              "      <td>-506.777860</td>\n",
              "      <td>5001.020749</td>\n",
              "      <td>-1.073970</td>\n",
              "      <td>-2.550183</td>\n",
              "      <td>0.363348</td>\n",
              "      <td>1.787044</td>\n",
              "      <td>-0.070631</td>\n",
              "      <td>1.0</td>\n",
              "    </tr>\n",
              "    <tr>\n",
              "      <th>1</th>\n",
              "      <td>102.226595</td>\n",
              "      <td>-0.983775</td>\n",
              "      <td>5.996475</td>\n",
              "      <td>648.288942</td>\n",
              "      <td>4999.978850</td>\n",
              "      <td>0.988241</td>\n",
              "      <td>0.025666</td>\n",
              "      <td>1.318736</td>\n",
              "      <td>1.586718</td>\n",
              "      <td>-0.102418</td>\n",
              "      <td>0.0</td>\n",
              "    </tr>\n",
              "    <tr>\n",
              "      <th>2</th>\n",
              "      <td>101.035779</td>\n",
              "      <td>10.449141</td>\n",
              "      <td>10.245834</td>\n",
              "      <td>196.562477</td>\n",
              "      <td>4999.717040</td>\n",
              "      <td>-0.363915</td>\n",
              "      <td>-0.388911</td>\n",
              "      <td>-0.332252</td>\n",
              "      <td>1.693191</td>\n",
              "      <td>1.384075</td>\n",
              "      <td>1.0</td>\n",
              "    </tr>\n",
              "    <tr>\n",
              "      <th>3</th>\n",
              "      <td>97.059522</td>\n",
              "      <td>7.075832</td>\n",
              "      <td>8.621515</td>\n",
              "      <td>610.339461</td>\n",
              "      <td>4996.834356</td>\n",
              "      <td>-1.404712</td>\n",
              "      <td>0.341290</td>\n",
              "      <td>2.462631</td>\n",
              "      <td>0.011489</td>\n",
              "      <td>-0.229269</td>\n",
              "      <td>1.0</td>\n",
              "    </tr>\n",
              "    <tr>\n",
              "      <th>4</th>\n",
              "      <td>99.115294</td>\n",
              "      <td>-47.498000</td>\n",
              "      <td>9.093882</td>\n",
              "      <td>715.756109</td>\n",
              "      <td>4999.408722</td>\n",
              "      <td>2.058694</td>\n",
              "      <td>-1.583398</td>\n",
              "      <td>1.947976</td>\n",
              "      <td>-4.709636</td>\n",
              "      <td>0.579274</td>\n",
              "      <td>1.0</td>\n",
              "    </tr>\n",
              "  </tbody>\n",
              "</table>\n",
              "</div>\n",
              "      <button class=\"colab-df-convert\" onclick=\"convertToInteractive('df-8c6662f3-8173-450a-a206-58b87cb93b58')\"\n",
              "              title=\"Convert this dataframe to an interactive table.\"\n",
              "              style=\"display:none;\">\n",
              "        \n",
              "  <svg xmlns=\"http://www.w3.org/2000/svg\" height=\"24px\"viewBox=\"0 0 24 24\"\n",
              "       width=\"24px\">\n",
              "    <path d=\"M0 0h24v24H0V0z\" fill=\"none\"/>\n",
              "    <path d=\"M18.56 5.44l.94 2.06.94-2.06 2.06-.94-2.06-.94-.94-2.06-.94 2.06-2.06.94zm-11 1L8.5 8.5l.94-2.06 2.06-.94-2.06-.94L8.5 2.5l-.94 2.06-2.06.94zm10 10l.94 2.06.94-2.06 2.06-.94-2.06-.94-.94-2.06-.94 2.06-2.06.94z\"/><path d=\"M17.41 7.96l-1.37-1.37c-.4-.4-.92-.59-1.43-.59-.52 0-1.04.2-1.43.59L10.3 9.45l-7.72 7.72c-.78.78-.78 2.05 0 2.83L4 21.41c.39.39.9.59 1.41.59.51 0 1.02-.2 1.41-.59l7.78-7.78 2.81-2.81c.8-.78.8-2.07 0-2.86zM5.41 20L4 18.59l7.72-7.72 1.47 1.35L5.41 20z\"/>\n",
              "  </svg>\n",
              "      </button>\n",
              "      \n",
              "  <style>\n",
              "    .colab-df-container {\n",
              "      display:flex;\n",
              "      flex-wrap:wrap;\n",
              "      gap: 12px;\n",
              "    }\n",
              "\n",
              "    .colab-df-convert {\n",
              "      background-color: #E8F0FE;\n",
              "      border: none;\n",
              "      border-radius: 50%;\n",
              "      cursor: pointer;\n",
              "      display: none;\n",
              "      fill: #1967D2;\n",
              "      height: 32px;\n",
              "      padding: 0 0 0 0;\n",
              "      width: 32px;\n",
              "    }\n",
              "\n",
              "    .colab-df-convert:hover {\n",
              "      background-color: #E2EBFA;\n",
              "      box-shadow: 0px 1px 2px rgba(60, 64, 67, 0.3), 0px 1px 3px 1px rgba(60, 64, 67, 0.15);\n",
              "      fill: #174EA6;\n",
              "    }\n",
              "\n",
              "    [theme=dark] .colab-df-convert {\n",
              "      background-color: #3B4455;\n",
              "      fill: #D2E3FC;\n",
              "    }\n",
              "\n",
              "    [theme=dark] .colab-df-convert:hover {\n",
              "      background-color: #434B5C;\n",
              "      box-shadow: 0px 1px 3px 1px rgba(0, 0, 0, 0.15);\n",
              "      filter: drop-shadow(0px 1px 2px rgba(0, 0, 0, 0.3));\n",
              "      fill: #FFFFFF;\n",
              "    }\n",
              "  </style>\n",
              "\n",
              "      <script>\n",
              "        const buttonEl =\n",
              "          document.querySelector('#df-8c6662f3-8173-450a-a206-58b87cb93b58 button.colab-df-convert');\n",
              "        buttonEl.style.display =\n",
              "          google.colab.kernel.accessAllowed ? 'block' : 'none';\n",
              "\n",
              "        async function convertToInteractive(key) {\n",
              "          const element = document.querySelector('#df-8c6662f3-8173-450a-a206-58b87cb93b58');\n",
              "          const dataTable =\n",
              "            await google.colab.kernel.invokeFunction('convertToInteractive',\n",
              "                                                     [key], {});\n",
              "          if (!dataTable) return;\n",
              "\n",
              "          const docLinkHtml = 'Like what you see? Visit the ' +\n",
              "            '<a target=\"_blank\" href=https://colab.research.google.com/notebooks/data_table.ipynb>data table notebook</a>'\n",
              "            + ' to learn more about interactive tables.';\n",
              "          element.innerHTML = '';\n",
              "          dataTable['output_type'] = 'display_data';\n",
              "          await google.colab.output.renderOutput(dataTable, element);\n",
              "          const docLink = document.createElement('div');\n",
              "          docLink.innerHTML = docLinkHtml;\n",
              "          element.appendChild(docLink);\n",
              "        }\n",
              "      </script>\n",
              "    </div>\n",
              "  </div>\n",
              "  "
            ]
          },
          "metadata": {},
          "execution_count": 97
        }
      ]
    },
    {
      "cell_type": "code",
      "source": [
        "y = df['10']\n",
        "y"
      ],
      "metadata": {
        "colab": {
          "base_uri": "https://localhost:8080/"
        },
        "id": "uFP9vC0WcMPc",
        "outputId": "1c733f7d-6612-4d74-ae31-b33437d707a3"
      },
      "execution_count": 98,
      "outputs": [
        {
          "output_type": "execute_result",
          "data": {
            "text/plain": [
              "0       1.0\n",
              "1       0.0\n",
              "2       1.0\n",
              "3       1.0\n",
              "4       1.0\n",
              "       ... \n",
              "4995    0.0\n",
              "4996    0.0\n",
              "4997    0.0\n",
              "4998    1.0\n",
              "4999    0.0\n",
              "Name: 10, Length: 5000, dtype: float64"
            ]
          },
          "metadata": {},
          "execution_count": 98
        }
      ]
    },
    {
      "cell_type": "code",
      "source": [
        "X = df[['0','1','2','3','4','5','6','7','8','9']]"
      ],
      "metadata": {
        "id": "IZqnwGsZ-kKe"
      },
      "execution_count": 99,
      "outputs": []
    },
    {
      "cell_type": "code",
      "source": [
        "from sklearn.model_selection import train_test_split \n",
        "\n",
        "Xtrain, Xtest, ytrain, ytest = train_test_split(X,y, test_size=0.2, random_state=25) "
      ],
      "metadata": {
        "id": "6IvH856h-xBU"
      },
      "execution_count": 100,
      "outputs": []
    },
    {
      "cell_type": "code",
      "source": [
        "#Make a copy of the data for normalization \n",
        "Xtrain_norm = Xtrain.copy() \n",
        "Xtrain_mean = Xtrain.mean().copy() \n",
        "Xtrain_std = Xtrain.std().copy() \n",
        "\n",
        "\n",
        "#z-score normalization\n",
        "#Xtrain_norm will change after every time \n",
        "Xtrain_norm = (Xtrain_norm - Xtrain_mean) / Xtrain_std \n",
        "\n",
        "Xtest_norm = (Xtest - Xtrain_mean) / Xtrain_std \n",
        "print(Xtrain_norm.mean())\n",
        "print(Xtrain_norm.std()) "
      ],
      "metadata": {
        "colab": {
          "base_uri": "https://localhost:8080/"
        },
        "id": "GKuO0mG0dj1t",
        "outputId": "e4f1bde1-753d-412e-cc5d-932d192cef1a"
      },
      "execution_count": 101,
      "outputs": [
        {
          "output_type": "stream",
          "name": "stdout",
          "text": [
            "0   -4.991901e-14\n",
            "1   -3.419487e-17\n",
            "2    4.447415e-16\n",
            "3   -1.170619e-15\n",
            "4   -1.157794e-11\n",
            "5    5.669909e-16\n",
            "6   -2.262079e-18\n",
            "7    3.648193e-16\n",
            "8    1.101202e-17\n",
            "9   -1.873501e-19\n",
            "dtype: float64\n",
            "0    1.0\n",
            "1    1.0\n",
            "2    1.0\n",
            "3    1.0\n",
            "4    1.0\n",
            "5    1.0\n",
            "6    1.0\n",
            "7    1.0\n",
            "8    1.0\n",
            "9    1.0\n",
            "dtype: float64\n"
          ]
        }
      ]
    },
    {
      "cell_type": "code",
      "source": [
        "mlp = MLPClassifier(hidden_layer_sizes=(4))  \n"
      ],
      "metadata": {
        "id": "RcCY1VnZdqie"
      },
      "execution_count": 102,
      "outputs": []
    },
    {
      "cell_type": "code",
      "source": [
        "mlp.fit(Xtrain_norm, ytrain) "
      ],
      "metadata": {
        "colab": {
          "base_uri": "https://localhost:8080/"
        },
        "id": "W2eo6lPPesHT",
        "outputId": "472485c8-b7ea-4dd0-81b0-fd7b8503f47c"
      },
      "execution_count": 103,
      "outputs": [
        {
          "output_type": "stream",
          "name": "stderr",
          "text": [
            "/usr/local/lib/python3.7/dist-packages/sklearn/neural_network/_multilayer_perceptron.py:696: ConvergenceWarning: Stochastic Optimizer: Maximum iterations (200) reached and the optimization hasn't converged yet.\n",
            "  ConvergenceWarning,\n"
          ]
        },
        {
          "output_type": "execute_result",
          "data": {
            "text/plain": [
              "MLPClassifier(hidden_layer_sizes=4)"
            ]
          },
          "metadata": {},
          "execution_count": 103
        }
      ]
    },
    {
      "cell_type": "code",
      "source": [
        "y_pred = mlp.predict(Xtest_norm) "
      ],
      "metadata": {
        "id": "WeTMMZ2Hexl6"
      },
      "execution_count": 104,
      "outputs": []
    },
    {
      "cell_type": "code",
      "source": [
        "from sklearn.metrics import classification_report \n",
        "print(classification_report(ytest, y_pred))"
      ],
      "metadata": {
        "colab": {
          "base_uri": "https://localhost:8080/"
        },
        "id": "tBhHEmQMHhCJ",
        "outputId": "01ef4eb6-8107-42e8-f9c1-4b0dc447c8a6"
      },
      "execution_count": 105,
      "outputs": [
        {
          "output_type": "stream",
          "name": "stdout",
          "text": [
            "              precision    recall  f1-score   support\n",
            "\n",
            "         0.0       0.80      0.76      0.78       484\n",
            "         1.0       0.78      0.82      0.80       516\n",
            "\n",
            "    accuracy                           0.79      1000\n",
            "   macro avg       0.79      0.79      0.79      1000\n",
            "weighted avg       0.79      0.79      0.79      1000\n",
            "\n"
          ]
        }
      ]
    },
    {
      "cell_type": "code",
      "source": [
        "import matplotlib.pyplot as plt\n",
        "\n",
        "plt.plot(mlp.loss_curve_) \n",
        "plt.xlabel('Epoch') \n",
        "plt.ylabel('Loss') \n",
        "plt.title('Loss Curve') \n",
        "plt.show() \n"
      ],
      "metadata": {
        "colab": {
          "base_uri": "https://localhost:8080/",
          "height": 295
        },
        "id": "qzMfEuDFJTxm",
        "outputId": "e0b29020-31e3-4bb5-bb14-4f9682cd11bc"
      },
      "execution_count": 106,
      "outputs": [
        {
          "output_type": "display_data",
          "data": {
            "text/plain": [
              "<Figure size 432x288 with 1 Axes>"
            ],
            "image/png": "[encoded data removed]"
          },
          "metadata": {
            "needs_background": "light"
          }
        }
      ]
    },
    {
      "cell_type": "code",
      "source": [
        "y_pred = mlp.predict(Xtrain_norm)\n",
        "print(classification_report(ytrain, y_pred))"
      ],
      "metadata": {
        "colab": {
          "base_uri": "https://localhost:8080/"
        },
        "id": "M-ckBSO9Qbd3",
        "outputId": "9ca49c38-e707-4b57-c9f2-abdcdf63f8e7"
      },
      "execution_count": 107,
      "outputs": [
        {
          "output_type": "stream",
          "name": "stdout",
          "text": [
            "              precision    recall  f1-score   support\n",
            "\n",
            "         0.0       0.80      0.79      0.79      2010\n",
            "         1.0       0.79      0.80      0.79      1990\n",
            "\n",
            "    accuracy                           0.79      4000\n",
            "   macro avg       0.79      0.79      0.79      4000\n",
            "weighted avg       0.79      0.79      0.79      4000\n",
            "\n"
          ]
        }
      ]
    },
    {
      "cell_type": "code",
      "source": [
        "mlp = MLPClassifier(hidden_layer_sizes=(4), learning_rate_init=100)\n",
        "mlp.fit(Xtrain_norm, ytrain)\n",
        "plt.plot(mlp.loss_curve_)\n",
        "plt.xlabel('Epoch') \n",
        "plt.ylabel('Loss') \n",
        "plt.title('Loss Curve') \n",
        "plt.show() \n",
        "y_pred = mlp.predict(Xtrain_norm)\n",
        "print(classification_report(ytrain, y_pred))\n",
        "y_pred = mlp.predict(Xtest_norm)\n",
        "print(classification_report(ytest, y_pred))"
      ],
      "metadata": {
        "colab": {
          "base_uri": "https://localhost:8080/",
          "height": 851
        },
        "id": "U8xVMMFMKJtY",
        "outputId": "b4f77371-90a7-4c1b-89d2-74fe69b03b47"
      },
      "execution_count": 111,
      "outputs": [
        {
          "output_type": "display_data",
          "data": {
            "text/plain": [
              "<Figure size 432x288 with 1 Axes>"
            ],
            "image/png": "[encoded data removed]"
          },
          "metadata": {
            "needs_background": "light"
          }
        },
        {
          "output_type": "stream",
          "name": "stdout",
          "text": [
            "              precision    recall  f1-score   support\n",
            "\n",
            "         0.0       0.50      1.00      0.67      2010\n",
            "         1.0       0.00      0.00      0.00      1990\n",
            "\n",
            "    accuracy                           0.50      4000\n",
            "   macro avg       0.25      0.50      0.33      4000\n",
            "weighted avg       0.25      0.50      0.34      4000\n",
            "\n",
            "              precision    recall  f1-score   support\n",
            "\n",
            "         0.0       0.48      1.00      0.65       484\n",
            "         1.0       0.00      0.00      0.00       516\n",
            "\n",
            "    accuracy                           0.48      1000\n",
            "   macro avg       0.24      0.50      0.33      1000\n",
            "weighted avg       0.23      0.48      0.32      1000\n",
            "\n"
          ]
        },
        {
          "output_type": "stream",
          "name": "stderr",
          "text": [
            "/usr/local/lib/python3.7/dist-packages/sklearn/metrics/_classification.py:1318: UndefinedMetricWarning: Precision and F-score are ill-defined and being set to 0.0 in labels with no predicted samples. Use `zero_division` parameter to control this behavior.\n",
            "  _warn_prf(average, modifier, msg_start, len(result))\n",
            "/usr/local/lib/python3.7/dist-packages/sklearn/metrics/_classification.py:1318: UndefinedMetricWarning: Precision and F-score are ill-defined and being set to 0.0 in labels with no predicted samples. Use `zero_division` parameter to control this behavior.\n",
            "  _warn_prf(average, modifier, msg_start, len(result))\n",
            "/usr/local/lib/python3.7/dist-packages/sklearn/metrics/_classification.py:1318: UndefinedMetricWarning: Precision and F-score are ill-defined and being set to 0.0 in labels with no predicted samples. Use `zero_division` parameter to control this behavior.\n",
            "  _warn_prf(average, modifier, msg_start, len(result))\n",
            "/usr/local/lib/python3.7/dist-packages/sklearn/metrics/_classification.py:1318: UndefinedMetricWarning: Precision and F-score are ill-defined and being set to 0.0 in labels with no predicted samples. Use `zero_division` parameter to control this behavior.\n",
            "  _warn_prf(average, modifier, msg_start, len(result))\n",
            "/usr/local/lib/python3.7/dist-packages/sklearn/metrics/_classification.py:1318: UndefinedMetricWarning: Precision and F-score are ill-defined and being set to 0.0 in labels with no predicted samples. Use `zero_division` parameter to control this behavior.\n",
            "  _warn_prf(average, modifier, msg_start, len(result))\n",
            "/usr/local/lib/python3.7/dist-packages/sklearn/metrics/_classification.py:1318: UndefinedMetricWarning: Precision and F-score are ill-defined and being set to 0.0 in labels with no predicted samples. Use `zero_division` parameter to control this behavior.\n",
            "  _warn_prf(average, modifier, msg_start, len(result))\n"
          ]
        }
      ]
    },
    {
      "cell_type": "code",
      "source": [
        "mlp = MLPClassifier(hidden_layer_sizes=(4), learning_rate_init=0.00001)\n",
        "mlp.fit(Xtrain_norm, ytrain)\n",
        "plt.plot(mlp.loss_curve_)\n",
        "plt.xlabel('Epoch') \n",
        "plt.ylabel('Loss') \n",
        "plt.title('Loss Curve') \n",
        "plt.show() \n",
        "y_pred = mlp.predict(Xtrain_norm)\n",
        "print(classification_report(ytrain, y_pred))\n",
        "y_pred = mlp.predict(Xtest_norm)\n",
        "print(classification_report(ytest, y_pred))"
      ],
      "metadata": {
        "colab": {
          "base_uri": "https://localhost:8080/",
          "height": 672
        },
        "id": "kcSeBQsxKQ3Z",
        "outputId": "e1e6831a-3118-4f00-9589-ffa62b4e9023"
      },
      "execution_count": 112,
      "outputs": [
        {
          "output_type": "stream",
          "name": "stderr",
          "text": [
            "/usr/local/lib/python3.7/dist-packages/sklearn/neural_network/_multilayer_perceptron.py:696: ConvergenceWarning: Stochastic Optimizer: Maximum iterations (200) reached and the optimization hasn't converged yet.\n",
            "  ConvergenceWarning,\n"
          ]
        },
        {
          "output_type": "display_data",
          "data": {
            "text/plain": [
              "<Figure size 432x288 with 1 Axes>"
            ],
            "image/png": "[encoded data removed]"
          },
          "metadata": {
            "needs_background": "light"
          }
        },
        {
          "output_type": "stream",
          "name": "stdout",
          "text": [
            "              precision    recall  f1-score   support\n",
            "\n",
            "         0.0       0.65      0.25      0.37      2010\n",
            "         1.0       0.53      0.86      0.66      1990\n",
            "\n",
            "    accuracy                           0.56      4000\n",
            "   macro avg       0.59      0.56      0.51      4000\n",
            "weighted avg       0.59      0.56      0.51      4000\n",
            "\n",
            "              precision    recall  f1-score   support\n",
            "\n",
            "         0.0       0.63      0.24      0.35       484\n",
            "         1.0       0.55      0.87      0.67       516\n",
            "\n",
            "    accuracy                           0.56      1000\n",
            "   macro avg       0.59      0.56      0.51      1000\n",
            "weighted avg       0.59      0.56      0.52      1000\n",
            "\n"
          ]
        }
      ]
    },
    {
      "cell_type": "code",
      "source": [
        "mlp = MLPClassifier(hidden_layer_sizes=(4,8), learning_rate_init=0.001)\n",
        "mlp.fit(Xtrain_norm, ytrain)\n",
        "plt.plot(mlp.loss_curve_)\n",
        "plt.xlabel('Epoch') \n",
        "plt.ylabel('Loss') \n",
        "plt.title('Loss Curve') \n",
        "plt.show() \n",
        "y_pred = mlp.predict(Xtrain_norm)\n",
        "print(classification_report(ytrain, y_pred))\n",
        "y_pred = mlp.predict(Xtest_norm)\n",
        "print(classification_report(ytest, y_pred))"
      ],
      "metadata": {
        "colab": {
          "base_uri": "https://localhost:8080/",
          "height": 616
        },
        "id": "q1eolt44M0Fp",
        "outputId": "162ca2d2-d3a6-4476-eb8f-e6bc43b5d42e"
      },
      "execution_count": 113,
      "outputs": [
        {
          "output_type": "display_data",
          "data": {
            "text/plain": [
              "<Figure size 432x288 with 1 Axes>"
            ],
            "image/png": "[encoded data removed]"
          },
          "metadata": {
            "needs_background": "light"
          }
        },
        {
          "output_type": "stream",
          "name": "stdout",
          "text": [
            "              precision    recall  f1-score   support\n",
            "\n",
            "         0.0       0.82      0.80      0.81      2010\n",
            "         1.0       0.80      0.82      0.81      1990\n",
            "\n",
            "    accuracy                           0.81      4000\n",
            "   macro avg       0.81      0.81      0.81      4000\n",
            "weighted avg       0.81      0.81      0.81      4000\n",
            "\n",
            "              precision    recall  f1-score   support\n",
            "\n",
            "         0.0       0.80      0.77      0.78       484\n",
            "         1.0       0.79      0.81      0.80       516\n",
            "\n",
            "    accuracy                           0.79      1000\n",
            "   macro avg       0.79      0.79      0.79      1000\n",
            "weighted avg       0.79      0.79      0.79      1000\n",
            "\n"
          ]
        }
      ]
    },
    {
      "cell_type": "code",
      "source": [
        ""
      ],
      "metadata": {
        "id": "oKNC6lxLNd2S"
      },
      "execution_count": 110,
      "outputs": []
    },
    {
      "cell_type": "markdown",
      "source": [
        "Test 1) When the learning rate is too high, it makes the loss curve not optimized. \n",
        "\n",
        "Test 2) When the learning rate is too low, we don't see enough change in the loss curve per the change in epochs. \n",
        "\n",
        "Test 3) When there are more layers it made the loss curve more optimal but not as optimal that we'd like it to be. \n",
        "\n",
        "Overall, with more layers it adds to training time, but when you decrease the learning rate the training time goes down. "
      ],
      "metadata": {
        "id": "cy7_tDoNNjHK"
      }
    }
  ]
}