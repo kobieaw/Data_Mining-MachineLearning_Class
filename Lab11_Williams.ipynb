{
  "nbformat": 4,
  "nbformat_minor": 0,
  "metadata": {
    "colab": {
      "name": "Lab11_Williams.ipynb",
      "provenance": []
    },
    "kernelspec": {
      "name": "python3",
      "display_name": "Python 3"
    },
    "language_info": {
      "name": "python"
    }
  },
  "cells": [
    {
      "cell_type": "markdown",
      "source": [
        "Lab 11: Social Network Analysis \n",
        "\n",
        "Kobie Williams \n",
        "\n",
        "3/22/2021\n",
        "\n",
        "The purpose of this lab is to get familiar with basic SNA concepts(graphs, nodes, edges, network metrics) and tools. "
      ],
      "metadata": {
        "id": "1b13bQoFnmtT"
      }
    },
    {
      "cell_type": "code",
      "execution_count": 2,
      "metadata": {
        "id": "mYVmmUqZmX3X"
      },
      "outputs": [],
      "source": [
        "import pandas as pd \n"
      ]
    },
    {
      "cell_type": "code",
      "source": [
        "dfNodes = pd.read_csv('https://programminghistorian.org/assets/exploring-and-analyzing-network-data-with-python/quakers_nodelist.csv')"
      ],
      "metadata": {
        "id": "l_gpVt-KrE7-"
      },
      "execution_count": 3,
      "outputs": []
    },
    {
      "cell_type": "code",
      "source": [
        "dfEdges = pd.read_csv('https://programminghistorian.org/assets/exploring-and-analyzing-network-data-with-python/quakers_edgelist.csv')"
      ],
      "metadata": {
        "id": "sLnGrhgp2bMP"
      },
      "execution_count": 4,
      "outputs": []
    },
    {
      "cell_type": "code",
      "source": [
        "from IPython import display \n",
        "import numpy as np \n",
        "import matplotlib.pyplot as plt\n",
        "import networkx as nx\n"
      ],
      "metadata": {
        "id": "ZVSQtcub2gcW"
      },
      "execution_count": 5,
      "outputs": []
    },
    {
      "cell_type": "code",
      "source": [
        "from operator import itemgetter \n",
        "from networkx.algorithms import community #This part of networkx, for community detection, needs to be imported separately "
      ],
      "metadata": {
        "id": "NENkaZph4SUV"
      },
      "execution_count": 6,
      "outputs": []
    },
    {
      "cell_type": "code",
      "source": [
        "dfEdges.head(5) "
      ],
      "metadata": {
        "colab": {
          "base_uri": "https://localhost:8080/",
          "height": 206
        },
        "id": "2kBXNqXg4rRY",
        "outputId": "1ab05c89-b0df-4156-fd05-db51bd2beb1e"
      },
      "execution_count": 7,
      "outputs": [
        {
          "output_type": "execute_result",
          "data": {
            "text/plain": [
              "         Source                                         Target\n",
              "0  George Keith                                 Robert Barclay\n",
              "1  George Keith                                 Benjamin Furly\n",
              "2  George Keith  Anne Conway Viscountess Conway and Killultagh\n",
              "3  George Keith               Franciscus Mercurius van Helmont\n",
              "4  George Keith                                   William Penn"
            ],
            "text/html": [
              "\n",
              "  <div id=\"df-3e60b3fb-aec7-4698-a80e-17b7f426cd49\">\n",
              "    <div class=\"colab-df-container\">\n",
              "      <div>\n",
              "<style scoped>\n",
              "    .dataframe tbody tr th:only-of-type {\n",
              "        vertical-align: middle;\n",
              "    }\n",
              "\n",
              "    .dataframe tbody tr th {\n",
              "        vertical-align: top;\n",
              "    }\n",
              "\n",
              "    .dataframe thead th {\n",
              "        text-align: right;\n",
              "    }\n",
              "</style>\n",
              "<table border=\"1\" class=\"dataframe\">\n",
              "  <thead>\n",
              "    <tr style=\"text-align: right;\">\n",
              "      <th></th>\n",
              "      <th>Source</th>\n",
              "      <th>Target</th>\n",
              "    </tr>\n",
              "  </thead>\n",
              "  <tbody>\n",
              "    <tr>\n",
              "      <th>0</th>\n",
              "      <td>George Keith</td>\n",
              "      <td>Robert Barclay</td>\n",
              "    </tr>\n",
              "    <tr>\n",
              "      <th>1</th>\n",
              "      <td>George Keith</td>\n",
              "      <td>Benjamin Furly</td>\n",
              "    </tr>\n",
              "    <tr>\n",
              "      <th>2</th>\n",
              "      <td>George Keith</td>\n",
              "      <td>Anne Conway Viscountess Conway and Killultagh</td>\n",
              "    </tr>\n",
              "    <tr>\n",
              "      <th>3</th>\n",
              "      <td>George Keith</td>\n",
              "      <td>Franciscus Mercurius van Helmont</td>\n",
              "    </tr>\n",
              "    <tr>\n",
              "      <th>4</th>\n",
              "      <td>George Keith</td>\n",
              "      <td>William Penn</td>\n",
              "    </tr>\n",
              "  </tbody>\n",
              "</table>\n",
              "</div>\n",
              "      <button class=\"colab-df-convert\" onclick=\"convertToInteractive('df-3e60b3fb-aec7-4698-a80e-17b7f426cd49')\"\n",
              "              title=\"Convert this dataframe to an interactive table.\"\n",
              "              style=\"display:none;\">\n",
              "        \n",
              "  <svg xmlns=\"http://www.w3.org/2000/svg\" height=\"24px\"viewBox=\"0 0 24 24\"\n",
              "       width=\"24px\">\n",
              "    <path d=\"M0 0h24v24H0V0z\" fill=\"none\"/>\n",
              "    <path d=\"M18.56 5.44l.94 2.06.94-2.06 2.06-.94-2.06-.94-.94-2.06-.94 2.06-2.06.94zm-11 1L8.5 8.5l.94-2.06 2.06-.94-2.06-.94L8.5 2.5l-.94 2.06-2.06.94zm10 10l.94 2.06.94-2.06 2.06-.94-2.06-.94-.94-2.06-.94 2.06-2.06.94z\"/><path d=\"M17.41 7.96l-1.37-1.37c-.4-.4-.92-.59-1.43-.59-.52 0-1.04.2-1.43.59L10.3 9.45l-7.72 7.72c-.78.78-.78 2.05 0 2.83L4 21.41c.39.39.9.59 1.41.59.51 0 1.02-.2 1.41-.59l7.78-7.78 2.81-2.81c.8-.78.8-2.07 0-2.86zM5.41 20L4 18.59l7.72-7.72 1.47 1.35L5.41 20z\"/>\n",
              "  </svg>\n",
              "      </button>\n",
              "      \n",
              "  <style>\n",
              "    .colab-df-container {\n",
              "      display:flex;\n",
              "      flex-wrap:wrap;\n",
              "      gap: 12px;\n",
              "    }\n",
              "\n",
              "    .colab-df-convert {\n",
              "      background-color: #E8F0FE;\n",
              "      border: none;\n",
              "      border-radius: 50%;\n",
              "      cursor: pointer;\n",
              "      display: none;\n",
              "      fill: #1967D2;\n",
              "      height: 32px;\n",
              "      padding: 0 0 0 0;\n",
              "      width: 32px;\n",
              "    }\n",
              "\n",
              "    .colab-df-convert:hover {\n",
              "      background-color: #E2EBFA;\n",
              "      box-shadow: 0px 1px 2px rgba(60, 64, 67, 0.3), 0px 1px 3px 1px rgba(60, 64, 67, 0.15);\n",
              "      fill: #174EA6;\n",
              "    }\n",
              "\n",
              "    [theme=dark] .colab-df-convert {\n",
              "      background-color: #3B4455;\n",
              "      fill: #D2E3FC;\n",
              "    }\n",
              "\n",
              "    [theme=dark] .colab-df-convert:hover {\n",
              "      background-color: #434B5C;\n",
              "      box-shadow: 0px 1px 3px 1px rgba(0, 0, 0, 0.15);\n",
              "      filter: drop-shadow(0px 1px 2px rgba(0, 0, 0, 0.3));\n",
              "      fill: #FFFFFF;\n",
              "    }\n",
              "  </style>\n",
              "\n",
              "      <script>\n",
              "        const buttonEl =\n",
              "          document.querySelector('#df-3e60b3fb-aec7-4698-a80e-17b7f426cd49 button.colab-df-convert');\n",
              "        buttonEl.style.display =\n",
              "          google.colab.kernel.accessAllowed ? 'block' : 'none';\n",
              "\n",
              "        async function convertToInteractive(key) {\n",
              "          const element = document.querySelector('#df-3e60b3fb-aec7-4698-a80e-17b7f426cd49');\n",
              "          const dataTable =\n",
              "            await google.colab.kernel.invokeFunction('convertToInteractive',\n",
              "                                                     [key], {});\n",
              "          if (!dataTable) return;\n",
              "\n",
              "          const docLinkHtml = 'Like what you see? Visit the ' +\n",
              "            '<a target=\"_blank\" href=https://colab.research.google.com/notebooks/data_table.ipynb>data table notebook</a>'\n",
              "            + ' to learn more about interactive tables.';\n",
              "          element.innerHTML = '';\n",
              "          dataTable['output_type'] = 'display_data';\n",
              "          await google.colab.output.renderOutput(dataTable, element);\n",
              "          const docLink = document.createElement('div');\n",
              "          docLink.innerHTML = docLinkHtml;\n",
              "          element.appendChild(docLink);\n",
              "        }\n",
              "      </script>\n",
              "    </div>\n",
              "  </div>\n",
              "  "
            ]
          },
          "metadata": {},
          "execution_count": 7
        }
      ]
    },
    {
      "cell_type": "code",
      "source": [
        "G =nx.Graph() "
      ],
      "metadata": {
        "id": "HcmjAWxr4-3i"
      },
      "execution_count": 8,
      "outputs": []
    },
    {
      "cell_type": "code",
      "source": [
        "edges = [] \n",
        "\n",
        "#Loop through te data frame \n",
        "for i, row in dfEdges.iterrows(): \n",
        "  curr_edge = (row['Source'], row['Target']) \n",
        "  edges.append(curr_edge) \n",
        "\n",
        "edges "
      ],
      "metadata": {
        "colab": {
          "base_uri": "https://localhost:8080/"
        },
        "id": "wm0zPoyR6C4l",
        "outputId": "10cd9e64-bcc2-4d4a-d40e-806bca9c0fd2"
      },
      "execution_count": 9,
      "outputs": [
        {
          "output_type": "execute_result",
          "data": {
            "text/plain": [
              "[('George Keith', 'Robert Barclay'),\n",
              " ('George Keith', 'Benjamin Furly'),\n",
              " ('George Keith', 'Anne Conway Viscountess Conway and Killultagh'),\n",
              " ('George Keith', 'Franciscus Mercurius van Helmont'),\n",
              " ('George Keith', 'William Penn'),\n",
              " ('George Keith', 'George Fox'),\n",
              " ('George Keith', 'George Whitehead'),\n",
              " ('George Keith', 'William Bradford'),\n",
              " ('James Parnel', 'Benjamin Furly'),\n",
              " ('James Parnel', 'Stephen Crisp'),\n",
              " ('Peter Collinson', 'John Bartram'),\n",
              " ('Peter Collinson', 'James Logan'),\n",
              " ('Joseph Wyeth', 'Thomas Ellwood'),\n",
              " ('Alexander Skene of Newtyle', 'Lilias Skene'),\n",
              " ('Dorcas Erbery', 'James Nayler'),\n",
              " ('William Mucklow', 'George Fox'),\n",
              " ('Franciscus Mercurius van Helmont', 'Benjamin Furly'),\n",
              " ('William Dewsbury', 'Edward Burrough'),\n",
              " ('William Dewsbury', 'George Fox'),\n",
              " ('William Dewsbury', 'John Crook'),\n",
              " ('John Audland', 'John Camm'),\n",
              " ('John Audland', 'Francis Howgill'),\n",
              " ('John Audland', 'Edward Pyott'),\n",
              " ('John Audland', 'Charles Marshall'),\n",
              " ('John Audland', 'George Fox'),\n",
              " ('John Audland', 'Anne Camm'),\n",
              " ('Francis Howgill', 'Martha Simmonds'),\n",
              " ('Francis Howgill', 'James Nayler'),\n",
              " ('Francis Howgill', 'Edward Burrough'),\n",
              " ('Francis Howgill', 'George Fox'),\n",
              " ('Francis Howgill', 'Richard Farnworth'),\n",
              " ('Francis Howgill', 'William Crouch'),\n",
              " ('William Bradford', 'William Penn'),\n",
              " ('William Bradford', 'Tace Sowle'),\n",
              " ('John Bellers', 'Fettiplace Bellers'),\n",
              " ('William Rogers', 'Thomas Ellwood'),\n",
              " ('William Rogers', 'George Whitehead'),\n",
              " ('Martha Simmonds', 'Hannah Stranger'),\n",
              " ('Martha Simmonds', 'James Nayler'),\n",
              " ('Isabel Yeamans', 'William Penn'),\n",
              " ('George Fox the younger', 'Margaret Fell'),\n",
              " ('George Fox', 'Ellis Hookes'),\n",
              " ('George Fox', 'William Mead'),\n",
              " ('George Fox', 'Elizabeth Hooten'),\n",
              " ('George Fox', 'Margaret Fell'),\n",
              " ('George Fox', 'John Crook'),\n",
              " ('George Fox', 'George Whitehead'),\n",
              " ('George Fox', 'Benjamin Furly'),\n",
              " ('George Fox', 'Thomas Salthouse'),\n",
              " ('George Fox', 'James Nayler'),\n",
              " ('George Fox', 'Edward Burrough'),\n",
              " ('George Fox', 'John Wilkinson'),\n",
              " ('George Fox', 'Thomas Ellwood'),\n",
              " ('George Fox', 'William Coddington'),\n",
              " ('George Fox', 'John Stubbs'),\n",
              " ('George Fox', 'John Perrot'),\n",
              " ('George Fox', 'Leonard Fell'),\n",
              " ('George Fox', 'William Penn'),\n",
              " ('John Stubbs', 'Benjamin Furly'),\n",
              " ('John Stubbs', 'William Caton'),\n",
              " ('John Stubbs', 'Samuel Fisher'),\n",
              " ('John Stubbs', 'John Burnyeat'),\n",
              " ('John Camm', 'Charles Marshall'),\n",
              " ('John Camm', 'Thomas Camm'),\n",
              " ('John Camm', 'Edward Pyott'),\n",
              " ('Thomas Camm', 'John Story'),\n",
              " ('Thomas Camm', 'Anne Camm'),\n",
              " ('John Wilkinson', 'Charles Marshall'),\n",
              " ('John Wilkinson', 'Solomon Eccles'),\n",
              " ('John Wilkinson', 'John Story'),\n",
              " ('John Wilkinson', 'Alexander Parker'),\n",
              " ('Isaac Norris', 'William Penn'),\n",
              " ('John Swinton', 'David Barclay of Ury'),\n",
              " ('James Nayler', 'Hannah Stranger'),\n",
              " ('James Nayler', 'Gervase Benson'),\n",
              " ('James Nayler', 'Margaret Fell'),\n",
              " ('James Nayler', 'Richard Farnworth'),\n",
              " ('James Nayler', 'George Whitehead'),\n",
              " ('James Nayler', 'John Perrot'),\n",
              " ('James Nayler', 'Robert Rich'),\n",
              " ('James Nayler', 'Anthony Pearson'),\n",
              " ('James Nayler', 'Thomas Ellwood'),\n",
              " ('James Nayler', 'Edward Burrough'),\n",
              " ('James Nayler', 'Rebecca Travers'),\n",
              " ('James Nayler', 'William Tomlinson'),\n",
              " ('Anthony Sharp', 'Samuel Clarridge'),\n",
              " ('Anthony Sharp', 'Thomas Curtis'),\n",
              " ('Anthony Sharp', 'William Edmundson'),\n",
              " ('Thomas Salthouse', 'Margaret Fell'),\n",
              " ('William Ames', 'William Caton'),\n",
              " ('Mary Fisher', 'John Perrot'),\n",
              " ('Mary Fisher', 'Mary Prince'),\n",
              " ('Lydia Lancaster', 'Grace Chamber'),\n",
              " ('Henry Pickworth', 'Francis Bugg'),\n",
              " ('Samuel Clarridge', 'James Claypoole'),\n",
              " ('Francis Bugg', 'George Whitehead'),\n",
              " ('Thomas Lower', 'Margaret Fell'),\n",
              " ('Sarah Gibbons', 'Dorothy Waugh'),\n",
              " ('Gervase Benson', 'Anthony Pearson'),\n",
              " ('Stephen Crisp', 'William Caton'),\n",
              " ('Stephen Crisp', 'Benjamin Furly'),\n",
              " ('John Freame', 'David Barclay'),\n",
              " ('Humphrey Norton', 'John Rous'),\n",
              " ('William Gibson', 'Thomas Holme'),\n",
              " ('Gideon Wanton', 'John Wanton'),\n",
              " ('William Mead', 'Margaret Fell'),\n",
              " ('Benjamin Furly', 'Robert Barclay'),\n",
              " ('Benjamin Furly', 'Alexander Parker'),\n",
              " ('Benjamin Furly', 'William Caton'),\n",
              " ('Benjamin Furly', 'William Penn'),\n",
              " ('James Logan', 'John Bartram'),\n",
              " ('James Logan', 'William Penn'),\n",
              " ('James Logan', 'David Lloyd'),\n",
              " ('Mary Prince', 'John Perrot'),\n",
              " ('Edward Haistwell', 'William Penn'),\n",
              " ('John ap John', 'John Burnyeat'),\n",
              " ('John Crook', 'John Perrot'),\n",
              " ('John Crook', 'Edward Burrough'),\n",
              " ('Gilbert Latey', 'Edward Burrough'),\n",
              " ('Gilbert Latey', 'George Whitehead'),\n",
              " ('Richard Hubberthorne', 'George Whitehead'),\n",
              " ('Richard Hubberthorne', 'Richard Farnworth'),\n",
              " ('Joseph Besse', 'Richard Claridge'),\n",
              " ('Joseph Besse', 'Samuel Bownas'),\n",
              " ('George Whitehead', 'Alexander Parker'),\n",
              " ('George Whitehead', 'John Whitehead'),\n",
              " ('George Whitehead', 'Daniel Quare'),\n",
              " ('George Whitehead', 'William Penn'),\n",
              " ('George Whitehead', 'John Story'),\n",
              " ('George Whitehead', 'Rebecca Travers'),\n",
              " ('Silvanus Bevan', 'Daniel Quare'),\n",
              " ('Solomon Eccles', 'John Story'),\n",
              " ('Robert Rich', 'William Tomlinson'),\n",
              " ('John Burnyeat', 'William Edmundson'),\n",
              " ('John Burnyeat', 'William Penn'),\n",
              " ('Katharine Evans', 'Sarah Cheevers'),\n",
              " ('Edward Burrough', 'John Perrot'),\n",
              " ('Edward Burrough', 'Thomas Ellwood'),\n",
              " ('Edward Burrough', 'William Crouch'),\n",
              " ('John Whiting', 'Christopher Taylor'),\n",
              " ('Rebecca Travers', 'Alice Curwen'),\n",
              " ('Rebecca Travers', 'William Penn'),\n",
              " ('William Caton', 'Margaret Fell'),\n",
              " ('Thomas Lawson', 'Margaret Fell'),\n",
              " ('Thomas Lawson', 'Alexander Parker'),\n",
              " ('Richard Farnworth', 'John Perrot'),\n",
              " ('Richard Farnworth', 'Margaret Fell'),\n",
              " ('Richard Farnworth', 'Anthony Pearson'),\n",
              " ('Thomas Taylor', 'Christopher Taylor'),\n",
              " ('John Penington', 'Mary Penington'),\n",
              " ('Humphrey Woolrich', 'Mary Pennyman'),\n",
              " ('William Penn', 'Tace Sowle'),\n",
              " ('William Penn', 'James Claypoole'),\n",
              " ('William Penn', 'Thomas Story'),\n",
              " ('William Penn', 'Mary Penington'),\n",
              " ('William Penn', 'David Lloyd'),\n",
              " ('William Penn', 'Margaret Fell'),\n",
              " ('William Penn', 'Richard Claridge'),\n",
              " ('Richard Vickris', 'George Bishop'),\n",
              " ('Robert Barclay', 'David Barclay of Ury'),\n",
              " ('Jane Sowle', 'Tace Sowle'),\n",
              " ('Margaret Fell', 'Alexander Parker'),\n",
              " ('Margaret Fell', 'Elizabeth Leavens'),\n",
              " ('Margaret Fell', 'Anthony Pearson'),\n",
              " ('Elizabeth Leavens', 'Thomas Holme'),\n",
              " ('Lewis Morris', 'Sir Charles Wager'),\n",
              " ('Mary Penington', 'Thomas Curtis'),\n",
              " ('Mary Penington', 'Thomas Ellwood'),\n",
              " ('Thomas Curtis', 'Thomas Ellwood'),\n",
              " ('Thomas Curtis', 'William Simpson'),\n",
              " ('Thomas Curtis', 'John Story'),\n",
              " ('Alexander Parker', 'Sir Charles Wager'),\n",
              " ('John Story', 'Thomas Ellwood'),\n",
              " ('Thomas Aldam', 'Anthony Pearson')]"
            ]
          },
          "metadata": {},
          "execution_count": 9
        }
      ]
    },
    {
      "cell_type": "code",
      "source": [
        "dfNodes.head(5)"
      ],
      "metadata": {
        "colab": {
          "base_uri": "https://localhost:8080/",
          "height": 206
        },
        "id": "J8j7SQn06ghQ",
        "outputId": "13308209-1718-4ea8-e39c-72bf9b6a7dca"
      },
      "execution_count": 10,
      "outputs": [
        {
          "output_type": "execute_result",
          "data": {
            "text/plain": [
              "                         Name        Historical Significance  Gender  \\\n",
              "0                Joseph Wyeth               religious writer    male   \n",
              "1  Alexander Skene of Newtyle    local politician and author    male   \n",
              "2                 James Logan  colonial official and scholar    male   \n",
              "3               Dorcas Erbery                Quaker preacher  female   \n",
              "4                Lilias Skene       Quaker preacher and poet    male   \n",
              "\n",
              "   Birthdate  Deathdate        ID  \n",
              "0       1663       1731  10013191  \n",
              "1       1621       1694  10011149  \n",
              "2       1674       1751  10007567  \n",
              "3       1656       1659  10003983  \n",
              "4       1626       1697  10011152  "
            ],
            "text/html": [
              "\n",
              "  <div id=\"df-65ee9a76-0132-4d96-8ca5-4fbdb22a333d\">\n",
              "    <div class=\"colab-df-container\">\n",
              "      <div>\n",
              "<style scoped>\n",
              "    .dataframe tbody tr th:only-of-type {\n",
              "        vertical-align: middle;\n",
              "    }\n",
              "\n",
              "    .dataframe tbody tr th {\n",
              "        vertical-align: top;\n",
              "    }\n",
              "\n",
              "    .dataframe thead th {\n",
              "        text-align: right;\n",
              "    }\n",
              "</style>\n",
              "<table border=\"1\" class=\"dataframe\">\n",
              "  <thead>\n",
              "    <tr style=\"text-align: right;\">\n",
              "      <th></th>\n",
              "      <th>Name</th>\n",
              "      <th>Historical Significance</th>\n",
              "      <th>Gender</th>\n",
              "      <th>Birthdate</th>\n",
              "      <th>Deathdate</th>\n",
              "      <th>ID</th>\n",
              "    </tr>\n",
              "  </thead>\n",
              "  <tbody>\n",
              "    <tr>\n",
              "      <th>0</th>\n",
              "      <td>Joseph Wyeth</td>\n",
              "      <td>religious writer</td>\n",
              "      <td>male</td>\n",
              "      <td>1663</td>\n",
              "      <td>1731</td>\n",
              "      <td>10013191</td>\n",
              "    </tr>\n",
              "    <tr>\n",
              "      <th>1</th>\n",
              "      <td>Alexander Skene of Newtyle</td>\n",
              "      <td>local politician and author</td>\n",
              "      <td>male</td>\n",
              "      <td>1621</td>\n",
              "      <td>1694</td>\n",
              "      <td>10011149</td>\n",
              "    </tr>\n",
              "    <tr>\n",
              "      <th>2</th>\n",
              "      <td>James Logan</td>\n",
              "      <td>colonial official and scholar</td>\n",
              "      <td>male</td>\n",
              "      <td>1674</td>\n",
              "      <td>1751</td>\n",
              "      <td>10007567</td>\n",
              "    </tr>\n",
              "    <tr>\n",
              "      <th>3</th>\n",
              "      <td>Dorcas Erbery</td>\n",
              "      <td>Quaker preacher</td>\n",
              "      <td>female</td>\n",
              "      <td>1656</td>\n",
              "      <td>1659</td>\n",
              "      <td>10003983</td>\n",
              "    </tr>\n",
              "    <tr>\n",
              "      <th>4</th>\n",
              "      <td>Lilias Skene</td>\n",
              "      <td>Quaker preacher and poet</td>\n",
              "      <td>male</td>\n",
              "      <td>1626</td>\n",
              "      <td>1697</td>\n",
              "      <td>10011152</td>\n",
              "    </tr>\n",
              "  </tbody>\n",
              "</table>\n",
              "</div>\n",
              "      <button class=\"colab-df-convert\" onclick=\"convertToInteractive('df-65ee9a76-0132-4d96-8ca5-4fbdb22a333d')\"\n",
              "              title=\"Convert this dataframe to an interactive table.\"\n",
              "              style=\"display:none;\">\n",
              "        \n",
              "  <svg xmlns=\"http://www.w3.org/2000/svg\" height=\"24px\"viewBox=\"0 0 24 24\"\n",
              "       width=\"24px\">\n",
              "    <path d=\"M0 0h24v24H0V0z\" fill=\"none\"/>\n",
              "    <path d=\"M18.56 5.44l.94 2.06.94-2.06 2.06-.94-2.06-.94-.94-2.06-.94 2.06-2.06.94zm-11 1L8.5 8.5l.94-2.06 2.06-.94-2.06-.94L8.5 2.5l-.94 2.06-2.06.94zm10 10l.94 2.06.94-2.06 2.06-.94-2.06-.94-.94-2.06-.94 2.06-2.06.94z\"/><path d=\"M17.41 7.96l-1.37-1.37c-.4-.4-.92-.59-1.43-.59-.52 0-1.04.2-1.43.59L10.3 9.45l-7.72 7.72c-.78.78-.78 2.05 0 2.83L4 21.41c.39.39.9.59 1.41.59.51 0 1.02-.2 1.41-.59l7.78-7.78 2.81-2.81c.8-.78.8-2.07 0-2.86zM5.41 20L4 18.59l7.72-7.72 1.47 1.35L5.41 20z\"/>\n",
              "  </svg>\n",
              "      </button>\n",
              "      \n",
              "  <style>\n",
              "    .colab-df-container {\n",
              "      display:flex;\n",
              "      flex-wrap:wrap;\n",
              "      gap: 12px;\n",
              "    }\n",
              "\n",
              "    .colab-df-convert {\n",
              "      background-color: #E8F0FE;\n",
              "      border: none;\n",
              "      border-radius: 50%;\n",
              "      cursor: pointer;\n",
              "      display: none;\n",
              "      fill: #1967D2;\n",
              "      height: 32px;\n",
              "      padding: 0 0 0 0;\n",
              "      width: 32px;\n",
              "    }\n",
              "\n",
              "    .colab-df-convert:hover {\n",
              "      background-color: #E2EBFA;\n",
              "      box-shadow: 0px 1px 2px rgba(60, 64, 67, 0.3), 0px 1px 3px 1px rgba(60, 64, 67, 0.15);\n",
              "      fill: #174EA6;\n",
              "    }\n",
              "\n",
              "    [theme=dark] .colab-df-convert {\n",
              "      background-color: #3B4455;\n",
              "      fill: #D2E3FC;\n",
              "    }\n",
              "\n",
              "    [theme=dark] .colab-df-convert:hover {\n",
              "      background-color: #434B5C;\n",
              "      box-shadow: 0px 1px 3px 1px rgba(0, 0, 0, 0.15);\n",
              "      filter: drop-shadow(0px 1px 2px rgba(0, 0, 0, 0.3));\n",
              "      fill: #FFFFFF;\n",
              "    }\n",
              "  </style>\n",
              "\n",
              "      <script>\n",
              "        const buttonEl =\n",
              "          document.querySelector('#df-65ee9a76-0132-4d96-8ca5-4fbdb22a333d button.colab-df-convert');\n",
              "        buttonEl.style.display =\n",
              "          google.colab.kernel.accessAllowed ? 'block' : 'none';\n",
              "\n",
              "        async function convertToInteractive(key) {\n",
              "          const element = document.querySelector('#df-65ee9a76-0132-4d96-8ca5-4fbdb22a333d');\n",
              "          const dataTable =\n",
              "            await google.colab.kernel.invokeFunction('convertToInteractive',\n",
              "                                                     [key], {});\n",
              "          if (!dataTable) return;\n",
              "\n",
              "          const docLinkHtml = 'Like what you see? Visit the ' +\n",
              "            '<a target=\"_blank\" href=https://colab.research.google.com/notebooks/data_table.ipynb>data table notebook</a>'\n",
              "            + ' to learn more about interactive tables.';\n",
              "          element.innerHTML = '';\n",
              "          dataTable['output_type'] = 'display_data';\n",
              "          await google.colab.output.renderOutput(dataTable, element);\n",
              "          const docLink = document.createElement('div');\n",
              "          docLink.innerHTML = docLinkHtml;\n",
              "          element.appendChild(docLink);\n",
              "        }\n",
              "      </script>\n",
              "    </div>\n",
              "  </div>\n",
              "  "
            ]
          },
          "metadata": {},
          "execution_count": 10
        }
      ]
    },
    {
      "cell_type": "code",
      "source": [
        "nodes = dfNodes['Name']  "
      ],
      "metadata": {
        "id": "Jacu9I4U7wqW"
      },
      "execution_count": 11,
      "outputs": []
    },
    {
      "cell_type": "code",
      "source": [
        "nodes"
      ],
      "metadata": {
        "colab": {
          "base_uri": "https://localhost:8080/"
        },
        "id": "alWKrJ4C-8t_",
        "outputId": "b06695d1-61a1-4ad9-f716-a86a351cc03f"
      },
      "execution_count": 12,
      "outputs": [
        {
          "output_type": "execute_result",
          "data": {
            "text/plain": [
              "0                    Joseph Wyeth\n",
              "1      Alexander Skene of Newtyle\n",
              "2                     James Logan\n",
              "3                   Dorcas Erbery\n",
              "4                    Lilias Skene\n",
              "                  ...            \n",
              "114                Thomas Ellwood\n",
              "115               William Simpson\n",
              "116                 Samuel Bownas\n",
              "117                   John Perrot\n",
              "118               Hannah Stranger\n",
              "Name: Name, Length: 119, dtype: object"
            ]
          },
          "metadata": {},
          "execution_count": 12
        }
      ]
    },
    {
      "cell_type": "code",
      "source": [
        ""
      ],
      "metadata": {
        "id": "6eLGjWqh_aaq"
      },
      "execution_count": 12,
      "outputs": []
    },
    {
      "cell_type": "code",
      "source": [
        "G.add_nodes_from(nodes) \n",
        "G.add_edges_from(edges) \n"
      ],
      "metadata": {
        "id": "ZvNSFkKt5x31"
      },
      "execution_count": 13,
      "outputs": []
    },
    {
      "cell_type": "code",
      "source": [
        "print(nx.info(G))"
      ],
      "metadata": {
        "colab": {
          "base_uri": "https://localhost:8080/"
        },
        "id": "q7XE-9AW5-CW",
        "outputId": "48509ad8-adb1-4eb0-865d-b3ef62ee7df2"
      },
      "execution_count": 14,
      "outputs": [
        {
          "output_type": "stream",
          "name": "stdout",
          "text": [
            "Graph with 119 nodes and 174 edges\n"
          ]
        }
      ]
    },
    {
      "cell_type": "code",
      "source": [
        "#using our df's for Nodes and Edges \n",
        "\n",
        "#our empty dictionaries for the attributes \n",
        "hist_sig_dict = {} \n",
        "gender_dict = {} \n",
        "birth_dict = {} \n",
        "death_dict = {} \n",
        "id_dict = {} "
      ],
      "metadata": {
        "id": "DQlNQWdG8Ho_"
      },
      "execution_count": 15,
      "outputs": []
    },
    {
      "cell_type": "code",
      "source": [
        "for node in nodes: #Loop through the list of our data frame\n",
        "  hist_sig_dict[node[0]] = node[1] \n",
        "  gender_dict[node[0]] = node[2] \n",
        "  birth_dict[node[0]] = node[3] \n",
        "  death_dict[node[0]] = node[4] \n",
        "  id_dict[node[0]] = node[5] "
      ],
      "metadata": {
        "id": "3oLVR1kU9KHk"
      },
      "execution_count": 16,
      "outputs": []
    },
    {
      "cell_type": "code",
      "source": [
        "nx.set_node_attributes(G, hist_sig_dict, 'historical_significance') \n",
        "nx.set_node_attributes(G, gender_dict, 'gender') \n",
        "nx.set_node_attributes(G, birth_dict, 'birth_year') \n",
        "nx.set_node_attributes(G, death_dict, 'death_year') \n",
        "nx.set_node_attributes(G, id_dict, 'sdfb_id') \n"
      ],
      "metadata": {
        "id": "M17hKdHn-qf9"
      },
      "execution_count": 17,
      "outputs": []
    },
    {
      "cell_type": "code",
      "source": [
        "density = nx.density(G) \n",
        "print('Network density:', density)"
      ],
      "metadata": {
        "colab": {
          "base_uri": "https://localhost:8080/"
        },
        "id": "X5T8njYuAkCc",
        "outputId": "b6228237-4580-4f36-80b9-4589a67d979f"
      },
      "execution_count": 18,
      "outputs": [
        {
          "output_type": "stream",
          "name": "stdout",
          "text": [
            "Network density: 0.02478279447372169\n"
          ]
        }
      ]
    },
    {
      "cell_type": "code",
      "source": [
        "print('Nodes:', list(G.nodes)) "
      ],
      "metadata": {
        "colab": {
          "base_uri": "https://localhost:8080/"
        },
        "id": "jUCpvtLkCQ1J",
        "outputId": "7b45f23d-4a11-4dd2-fc61-a607fad50cf1"
      },
      "execution_count": 19,
      "outputs": [
        {
          "output_type": "stream",
          "name": "stdout",
          "text": [
            "Nodes: ['Joseph Wyeth', 'Alexander Skene of Newtyle', 'James Logan', 'Dorcas Erbery', 'Lilias Skene', 'William Mucklow', 'Thomas Salthouse', 'William Dewsbury', 'John Audland', 'Richard Claridge', 'William Bradford', 'Fettiplace Bellers', 'John Bellers', 'Isabel Yeamans', 'George Fox the younger', 'George Fox', 'John Stubbs', 'Anne Camm', 'John Camm', 'Thomas Camm', 'Katharine Evans', 'Lydia Lancaster', 'Samuel Clarridge', 'Thomas Lower', 'Gervase Benson', 'Stephen Crisp', 'James Claypoole', 'Thomas Holme', 'John Freame', 'John Swinton', 'William Mead', 'Henry Pickworth', 'John Crook', 'Gilbert Latey', 'Ellis Hookes', 'Joseph Besse', 'James Nayler', 'Elizabeth Hooten', 'George Whitehead', 'John Whitehead', 'William Crouch', 'Benjamin Furly', 'Silvanus Bevan', 'Robert Rich', 'John Whiting', 'Christopher Taylor', 'Thomas Lawson', 'Richard Farnworth', 'William Coddington', 'Thomas Taylor', 'Richard Vickris', 'Robert Barclay', 'Jane Sowle', 'Tace Sowle', 'Leonard Fell', 'Margaret Fell', 'George Bishop', 'Elizabeth Leavens', 'Thomas Curtis', 'Alice Curwen', 'Alexander Parker', 'John Wilkinson', 'Thomas Aldam', 'David Barclay of Ury', 'David Barclay', 'Sir Charles Wager', 'George Keith', 'James Parnel', 'Peter Collinson', 'Franciscus Mercurius van Helmont', 'William Caton', 'Francis Howgill', 'Richard Hubberthorne', 'William Ames', 'William Rogers', 'Isaac Norris', 'Anthony Sharp', 'Mary Fisher', 'Anne Conway Viscountess Conway and Killultagh', 'Samuel Fisher', 'Francis Bugg', 'Sarah Gibbons', 'William Tomlinson', 'Humphrey Norton', 'William Gibson', 'Gideon Wanton', 'John Wanton', 'Grace Chamber', 'Mary Prince', 'John Bartram', 'Edward Haistwell', 'John ap John', 'John Rous', 'Anthony Pearson', 'Solomon Eccles', 'John Burnyeat', 'Edward Burrough', 'Rebecca Travers', 'William Edmundson', 'Sarah Cheevers', 'Edward Pyott', 'Daniel Quare', 'John Penington', 'Mary Penington', 'Charles Marshall', 'Humphrey Woolrich', 'William Penn', 'Mary Pennyman', 'Dorothy Waugh', 'David Lloyd', 'Lewis Morris', 'Martha Simmonds', 'John Story', 'Thomas Story', 'Thomas Ellwood', 'William Simpson', 'Samuel Bownas', 'John Perrot', 'Hannah Stranger']\n"
          ]
        }
      ]
    },
    {
      "cell_type": "code",
      "source": [
        "fell_whitehead_path = nx.shortest_path(G, source=\"Margaret Fell\", target='George Whitehead') \n",
        "print('Shortest path between Fell and Whitehead:', fell_whitehead_path) "
      ],
      "metadata": {
        "colab": {
          "base_uri": "https://localhost:8080/"
        },
        "id": "d4VCWik7CreV",
        "outputId": "0c7b586f-f178-4e3b-abbc-4f2d04623b0a"
      },
      "execution_count": 20,
      "outputs": [
        {
          "output_type": "stream",
          "name": "stdout",
          "text": [
            "Shortest path between Fell and Whitehead: ['Margaret Fell', 'George Fox', 'George Whitehead']\n"
          ]
        }
      ]
    },
    {
      "cell_type": "code",
      "source": [
        "print(\"Length of that path:\", len(fell_whitehead_path)-1)"
      ],
      "metadata": {
        "colab": {
          "base_uri": "https://localhost:8080/"
        },
        "id": "DkfQ400uFpfk",
        "outputId": "5139a576-e4be-4246-f8a0-0e06e1981882"
      },
      "execution_count": 21,
      "outputs": [
        {
          "output_type": "stream",
          "name": "stdout",
          "text": [
            "Length of that path: 2\n"
          ]
        }
      ]
    },
    {
      "cell_type": "code",
      "source": [
        "#With a graph of more than one component, we should get a false return \n",
        "print(nx.is_connected(G))\n",
        "\n",
        "#List of components and finding the largest one \n",
        "components = nx.connected_components(G)\n",
        "largest_component = max(components, key=len)\n",
        "\n",
        "#Creating a subgraph and calculating the diameter \n",
        "subgraph = G.subgraph(largest_component)\n",
        "diameter = nx.diameter(subgraph)\n",
        "print(\"Network diameter of largest component:\", diameter)\n"
      ],
      "metadata": {
        "colab": {
          "base_uri": "https://localhost:8080/"
        },
        "id": "7AiA6T_aFxam",
        "outputId": "3cde4b3b-5438-4fc1-d6a9-8e3a431beaee"
      },
      "execution_count": 22,
      "outputs": [
        {
          "output_type": "stream",
          "name": "stdout",
          "text": [
            "False\n",
            "Network diameter of largest component: 8\n"
          ]
        }
      ]
    },
    {
      "cell_type": "code",
      "source": [
        "#Calculating transitivity \n",
        "triadic_closure = nx.transitivity(G)\n",
        "print(\"Triadic closure:\", triadic_closure)"
      ],
      "metadata": {
        "colab": {
          "base_uri": "https://localhost:8080/"
        },
        "id": "0Iy3yO2HGLyA",
        "outputId": "fb857a84-6627-4721-e350-b49b55dcef55"
      },
      "execution_count": 23,
      "outputs": [
        {
          "output_type": "stream",
          "name": "stdout",
          "text": [
            "Triadic closure: 0.16937799043062202\n"
          ]
        }
      ]
    },
    {
      "cell_type": "code",
      "source": [
        "#Trying to calculate centrality \n",
        "\n",
        "#Calculating degree and adding it as an attribute \n",
        "degree_dict = dict(G.degree(G.nodes()))\n",
        "nx.set_node_attributes(G, degree_dict, 'degree')\n",
        "\n",
        "#Sorting the dictionary degrees \n",
        "sorted_degree = sorted(degree_dict.items(), key=itemgetter(1), reverse=True)\n",
        "\n",
        "#Finding the top 20 degrees \n",
        "print(\"Top 20 nodes by degree:\")\n",
        "for d in sorted_degree[:20]:\n",
        "    print(d)\n",
        "\n"
      ],
      "metadata": {
        "colab": {
          "base_uri": "https://localhost:8080/"
        },
        "id": "FHpogBHYGRpq",
        "outputId": "6409385b-d16d-4dc7-b947-da3514475a90"
      },
      "execution_count": 24,
      "outputs": [
        {
          "output_type": "stream",
          "name": "stdout",
          "text": [
            "Top 20 nodes by degree:\n",
            "('George Fox', 22)\n",
            "('William Penn', 18)\n",
            "('James Nayler', 16)\n",
            "('George Whitehead', 13)\n",
            "('Margaret Fell', 13)\n",
            "('Benjamin Furly', 10)\n",
            "('Edward Burrough', 9)\n",
            "('George Keith', 8)\n",
            "('Thomas Ellwood', 8)\n",
            "('Francis Howgill', 7)\n",
            "('John Perrot', 7)\n",
            "('John Audland', 6)\n",
            "('Richard Farnworth', 6)\n",
            "('Alexander Parker', 6)\n",
            "('John Story', 6)\n",
            "('John Stubbs', 5)\n",
            "('Thomas Curtis', 5)\n",
            "('John Wilkinson', 5)\n",
            "('William Caton', 5)\n",
            "('Anthony Pearson', 5)\n"
          ]
        }
      ]
    },
    {
      "cell_type": "code",
      "source": [
        "#finding betweenness centrality and eigenvector centrality \n",
        "betweenness_dict = nx.betweenness_centrality(G) # Run betweenness centrality\n",
        "eigenvector_dict = nx.eigenvector_centrality(G) # Run eigenvector centrality\n",
        "\n",
        "# Assign each to an attribute in your network\n",
        "nx.set_node_attributes(G, betweenness_dict, 'betweenness')\n",
        "nx.set_node_attributes(G, eigenvector_dict, 'eigenvector')"
      ],
      "metadata": {
        "id": "7qpBP9HrG1A9"
      },
      "execution_count": 25,
      "outputs": []
    },
    {
      "cell_type": "code",
      "source": [
        "#Sorting betweenness centrality \n",
        "sorted_betweenness = sorted(betweenness_dict.items(), key=itemgetter(1), reverse=True)\n",
        "\n",
        "print(\"Top 20 nodes by betweenness centrality:\")\n",
        "for b in sorted_betweenness[:20]:\n",
        "    print(b)"
      ],
      "metadata": {
        "colab": {
          "base_uri": "https://localhost:8080/"
        },
        "id": "jv6whAJVHko3",
        "outputId": "ae4cf0ff-7e97-4671-bb4a-98c195baf509"
      },
      "execution_count": 26,
      "outputs": [
        {
          "output_type": "stream",
          "name": "stdout",
          "text": [
            "Top 20 nodes by betweenness centrality:\n",
            "('William Penn', 0.23999456006192205)\n",
            "('George Fox', 0.23683257726065216)\n",
            "('George Whitehead', 0.12632024847366005)\n",
            "('Margaret Fell', 0.12106792237170329)\n",
            "('James Nayler', 0.10446026280446098)\n",
            "('Benjamin Furly', 0.06419626175167242)\n",
            "('Thomas Ellwood', 0.046190623885104545)\n",
            "('George Keith', 0.045006564009171565)\n",
            "('John Audland', 0.04164936340077581)\n",
            "('Alexander Parker', 0.03893676140525336)\n",
            "('John Story', 0.028990098622866983)\n",
            "('John Burnyeat', 0.028974117533439564)\n",
            "('John Perrot', 0.02829566854990583)\n",
            "('James Logan', 0.026944806605823553)\n",
            "('Richard Claridge', 0.026944806605823553)\n",
            "('Robert Barclay', 0.026944806605823553)\n",
            "('Elizabeth Leavens', 0.026944806605823553)\n",
            "('Thomas Curtis', 0.026729751729751724)\n",
            "('John Stubbs', 0.024316593960227152)\n",
            "('Mary Penington', 0.02420824624214454)\n"
          ]
        }
      ]
    },
    {
      "cell_type": "code",
      "source": [
        "#Trying to visualize a network \n",
        "plt.figure(figsize=(4,4)) \n",
        "\n",
        "#Calculate the best position for laying out the nodes graphically \n",
        "pos = nx.spring_layout(G, k=0.8)\n",
        "\n",
        "nx.draw(G, pos=pos, with_labels=False,\n",
        "        node_color='#33ddff', node_size=15,\n",
        "        edge_color='#333333',alpha=0.5, width=0.5)\n",
        "\n",
        "# the spring layout contains the position of each node, in case we want to\n",
        "# visualize one node in particular\n",
        "#node_0_position = pos[0]\n",
        "#plt.plot(node_0_position[0], node_0_position[1], 'ro')\n",
        "#plt.text(node_0_position[0], node_0_position[1], 'Node 0', size='xx-large')\n",
        "plt.show()\n",
        "\n",
        "\n"
      ],
      "metadata": {
        "colab": {
          "base_uri": "https://localhost:8080/",
          "height": 319
        },
        "id": "5_GswZ4SHrVH",
        "outputId": "c2bccdbd-fc52-43ad-ca87-3157c0a8aea5"
      },
      "execution_count": 27,
      "outputs": [
        {
          "output_type": "display_data",
          "data": {
            "text/plain": [
              "<Figure size 288x288 with 1 Axes>"
            ],
            "image/png": "[encoded data removed]"
          },
          "metadata": {}
        }
      ]
    },
    {
      "cell_type": "markdown",
      "source": [
        "4. a) Nodes tend to cluster together in the Quaker social network. There are a few nodes that have a very high degree meaning that they have lots of connections. They are also known as hubs. \n",
        "\n",
        "  b) This is not a very dense network because when we calculate network density we get a number of 0.0248 which is low on a scale of 0 to 1. So the network is sparse. \n",
        "  \n",
        "  c) The five most important people in the network are William Penn, George Fox, James Nayler, George Whitehead, and Margaret Fell. They have the highest network centralities. "
      ],
      "metadata": {
        "id": "5EyVVMMsFsd9"
      }
    },
    {
      "cell_type": "code",
      "source": [
        "Howgill_Leavens_Path = nx.shortest_path(G, source=\"Francis Howgill\", target='Elizabeth Leavens') \n",
        "print('Shortest path between Howgill and Leavens:', Howgill_Leavens_Path) "
      ],
      "metadata": {
        "id": "uSpDBKycIKiI",
        "colab": {
          "base_uri": "https://localhost:8080/"
        },
        "outputId": "e3ff543a-a16d-4cec-b74a-4987f454e8b6"
      },
      "execution_count": 28,
      "outputs": [
        {
          "output_type": "stream",
          "name": "stdout",
          "text": [
            "Shortest path between Howgill and Leavens: ['Francis Howgill', 'George Fox', 'Margaret Fell', 'Elizabeth Leavens']\n"
          ]
        }
      ]
    },
    {
      "cell_type": "markdown",
      "source": [
        "E) Degree tells us that these nodes are the hubs in the network whereas betweenness centrality looks at all the shortest paths that pass through a particular node. "
      ],
      "metadata": {
        "id": "a_2HWznuYpJu"
      }
    },
    {
      "cell_type": "markdown",
      "source": [
        "F) We can infer that Elizabeth leavens was not a person who had alot of connections, but was someone who connected two people who otherwise wouldn't be connected. She was a broker "
      ],
      "metadata": {
        "id": "fbvLYuSAperC"
      }
    },
    {
      "cell_type": "code",
      "source": [
        ""
      ],
      "metadata": {
        "id": "fao9wN-unCwp"
      },
      "execution_count": null,
      "outputs": []
    }
  ]
}